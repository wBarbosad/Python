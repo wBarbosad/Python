{
  "nbformat": 4,
  "nbformat_minor": 0,
  "metadata": {
    "colab": {
      "provenance": []
    },
    "kernelspec": {
      "name": "python3",
      "display_name": "Python 3"
    },
    "language_info": {
      "name": "python"
    }
  },
  "cells": [
    {
      "cell_type": "markdown",
      "source": [
        "##**Exercício 1:**"
      ],
      "metadata": {
        "id": "FzcQKWyJIKWm"
      }
    },
    {
      "cell_type": "code",
      "execution_count": null,
      "metadata": {
        "id": "P121bAumHiYj"
      },
      "outputs": [],
      "source": [
        "def maior(a, b):\n",
        "  if(a>=b):\n",
        "    return a\n",
        "  else:\n",
        "    return b\n",
        "\n",
        "a = float(input(\"Informe um número 'A': \"))\n",
        "b = float(input(\"Informe um número 'B': \"))\n",
        "\n",
        "maximo = maior(a,b)\n",
        "print(f\"O maior número é {maximo} de {a} e {b}\")"
      ]
    },
    {
      "cell_type": "markdown",
      "source": [
        "##**Exercício 2:**"
      ],
      "metadata": {
        "id": "CguFpWkDJy5j"
      }
    },
    {
      "cell_type": "code",
      "source": [
        "def multiplos (c, d):\n",
        "  if(c%d==0):\n",
        "    print(f\"\\n{c} é múltiplo de {d}\")\n",
        "    return True\n",
        "  else:\n",
        "    print(\"\\nO primeiro número não é múltiplo do segundo.\")\n",
        "    return False\n",
        "\n",
        "c = float(input(\"Informe um número 'C': \"))\n",
        "d = float(input(\"Informe um número 'D': \"))\n",
        "\n",
        "print(f\"Os valores {c} e {d} são múltiplos? {multiplos(c, d)}\")"
      ],
      "metadata": {
        "id": "NFLE07YGIV8B"
      },
      "execution_count": null,
      "outputs": []
    },
    {
      "cell_type": "markdown",
      "source": [
        "##**Exercício 3:**"
      ],
      "metadata": {
        "id": "WjENg-CINHyJ"
      }
    },
    {
      "cell_type": "code",
      "source": [
        "def area (lado):\n",
        "  return lado**2\n",
        "\n",
        "lado = float(input(\"Informe o lado do quadrado: \"))\n",
        "areaQuadrado = area(lado)\n",
        "print(f\"Area do quadrado {areaQuadrado}\")"
      ],
      "metadata": {
        "id": "UPIakU8aJ-DB"
      },
      "execution_count": null,
      "outputs": []
    },
    {
      "cell_type": "markdown",
      "source": [
        "##**Exercício 4:**"
      ],
      "metadata": {
        "id": "fJzm-vQgO4uy"
      }
    },
    {
      "cell_type": "code",
      "source": [
        "def areaTriangulo (base, altura):\n",
        "  return (base*altura)/2\n",
        "\n",
        "print(areaTriangulo(6,9))"
      ],
      "metadata": {
        "colab": {
          "base_uri": "https://localhost:8080/"
        },
        "id": "GP6Zsp5uO8Nm",
        "outputId": "1e1d7ca8-d02f-4c87-a862-dfb40714e42e"
      },
      "execution_count": null,
      "outputs": [
        {
          "output_type": "stream",
          "name": "stdout",
          "text": [
            "27.0\n"
          ]
        }
      ]
    },
    {
      "cell_type": "markdown",
      "source": [
        "#**Exercício 05:**"
      ],
      "metadata": {
        "id": "GH5ChvZ-Pu6W"
      }
    },
    {
      "cell_type": "code",
      "source": [
        "def mdc(e, f):\n",
        "  if(e>f):\n",
        "    x=1\n",
        "    \n",
        "  else: \n",
        "    print(f\"O número {e} precisa ser maior que o número {f}\")\n",
        "\n",
        "\n",
        "E = float(input(\"Informe um número 'E': \"))\n",
        "F = float(input(\"Informe um número 'F': \"))\n",
        "\n",
        "    "
      ],
      "metadata": {
        "id": "uFndyjFnPj83"
      },
      "execution_count": null,
      "outputs": []
    },
    {
      "cell_type": "markdown",
      "source": [
        "##**Exercício 06:**"
      ],
      "metadata": {
        "id": "aCDnGBylQ8lF"
      }
    },
    {
      "cell_type": "code",
      "source": [
        "def mmc (a,b):"
      ],
      "metadata": {
        "id": "F7pQIGxhQH_u"
      },
      "execution_count": null,
      "outputs": []
    }
  ]
}