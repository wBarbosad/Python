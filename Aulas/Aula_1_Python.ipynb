{
  "nbformat": 4,
  "nbformat_minor": 0,
  "metadata": {
    "colab": {
      "provenance": []
    },
    "kernelspec": {
      "name": "python3",
      "display_name": "Python 3"
    },
    "language_info": {
      "name": "python"
    }
  },
  "cells": [
    {
      "cell_type": "markdown",
      "source": [
        "Cuidados ao trabalhar com Python:\n",
        "\n",
        "- case-sensitive\n",
        "- identação\n",
        "- aspas e parenteses são elementos importantes"
      ],
      "metadata": {
        "id": "pRoV2XrjT7BG"
      }
    },
    {
      "cell_type": "code",
      "source": [
        "A=10"
      ],
      "metadata": {
        "id": "HTA_JoR9W1xW"
      },
      "execution_count": null,
      "outputs": []
    },
    {
      "cell_type": "code",
      "source": [
        "a=20"
      ],
      "metadata": {
        "id": "Nbym0abfTCgP"
      },
      "execution_count": null,
      "outputs": []
    },
    {
      "cell_type": "code",
      "execution_count": null,
      "metadata": {
        "colab": {
          "base_uri": "https://localhost:8080/"
        },
        "id": "Ijxrs6HoNrxG",
        "outputId": "26986493-1d32-4f24-e956-797470f8c7c2"
      },
      "outputs": [
        {
          "output_type": "execute_result",
          "data": {
            "text/plain": [
              "10"
            ]
          },
          "metadata": {},
          "execution_count": 3
        }
      ],
      "source": [
        "A"
      ]
    },
    {
      "cell_type": "code",
      "source": [
        "a"
      ],
      "metadata": {
        "colab": {
          "base_uri": "https://localhost:8080/"
        },
        "id": "zG1n-Fv4YCk4",
        "outputId": "da76ed82-6fb5-40a0-a560-bba6c9ba535d"
      },
      "execution_count": null,
      "outputs": [
        {
          "output_type": "execute_result",
          "data": {
            "text/plain": [
              "20"
            ]
          },
          "metadata": {},
          "execution_count": 4
        }
      ]
    },
    {
      "cell_type": "code",
      "source": [
        "print(\"oi\")"
      ],
      "metadata": {
        "colab": {
          "base_uri": "https://localhost:8080/"
        },
        "id": "GF61GdDDYgRy",
        "outputId": "e786e05b-add6-470b-e39a-3c652d4c1d86"
      },
      "execution_count": null,
      "outputs": [
        {
          "output_type": "stream",
          "name": "stdout",
          "text": [
            "oi\n"
          ]
        }
      ]
    },
    {
      "cell_type": "markdown",
      "source": [
        "Operadores matemáticos\n",
        "\n",
        "1.   Adição -> +\n",
        "2.   Subtração ->  -\n",
        "3.   Multiplicação -> * \n",
        "4.   Divisão (com resto fracionário) -> /\n",
        "5.   Divisão (com resultado inteiro) -> //\n",
        "6.   Módulo ou resto -> %\n",
        "7.   Exponenciação ou potenciação -> **\n",
        "\n"
      ],
      "metadata": {
        "id": "GIQdEJrPYtko"
      }
    },
    {
      "cell_type": "code",
      "source": [
        "10+23"
      ],
      "metadata": {
        "colab": {
          "base_uri": "https://localhost:8080/"
        },
        "id": "mFRp2BKfZwES",
        "outputId": "c2ebb102-9c4f-483f-971e-a2779bb24321"
      },
      "execution_count": null,
      "outputs": [
        {
          "output_type": "execute_result",
          "data": {
            "text/plain": [
              "33"
            ]
          },
          "metadata": {},
          "execution_count": 6
        }
      ]
    },
    {
      "cell_type": "code",
      "source": [
        "34 - 12"
      ],
      "metadata": {
        "colab": {
          "base_uri": "https://localhost:8080/"
        },
        "id": "Ovn_JdS_Z04U",
        "outputId": "998371bb-bd94-4720-ad87-40d2e82170e4"
      },
      "execution_count": null,
      "outputs": [
        {
          "output_type": "execute_result",
          "data": {
            "text/plain": [
              "22"
            ]
          },
          "metadata": {},
          "execution_count": 7
        }
      ]
    },
    {
      "cell_type": "code",
      "source": [
        "10*12"
      ],
      "metadata": {
        "colab": {
          "base_uri": "https://localhost:8080/"
        },
        "id": "OBHn6k-mZ7vY",
        "outputId": "69780e03-2192-4120-ec6a-93e63248e05b"
      },
      "execution_count": null,
      "outputs": [
        {
          "output_type": "execute_result",
          "data": {
            "text/plain": [
              "120"
            ]
          },
          "metadata": {},
          "execution_count": 8
        }
      ]
    },
    {
      "cell_type": "code",
      "source": [
        "24/6"
      ],
      "metadata": {
        "colab": {
          "base_uri": "https://localhost:8080/"
        },
        "id": "tpSQTjq3aBFQ",
        "outputId": "ca3a78b8-368c-41b9-8f62-e3c66fdce67f"
      },
      "execution_count": null,
      "outputs": [
        {
          "output_type": "execute_result",
          "data": {
            "text/plain": [
              "4.0"
            ]
          },
          "metadata": {},
          "execution_count": 9
        }
      ]
    },
    {
      "cell_type": "code",
      "source": [
        "26/6"
      ],
      "metadata": {
        "colab": {
          "base_uri": "https://localhost:8080/"
        },
        "id": "zjoYPkqLanMj",
        "outputId": "f87455cc-bda0-4ce5-b0ae-7855af5b9a2f"
      },
      "execution_count": null,
      "outputs": [
        {
          "output_type": "execute_result",
          "data": {
            "text/plain": [
              "4.333333333333333"
            ]
          },
          "metadata": {},
          "execution_count": 10
        }
      ]
    },
    {
      "cell_type": "code",
      "source": [
        "26//6"
      ],
      "metadata": {
        "colab": {
          "base_uri": "https://localhost:8080/"
        },
        "id": "BmxSUpQbap_0",
        "outputId": "86a56eea-e939-48fe-cc65-6f123f25856f"
      },
      "execution_count": null,
      "outputs": [
        {
          "output_type": "execute_result",
          "data": {
            "text/plain": [
              "4"
            ]
          },
          "metadata": {},
          "execution_count": 11
        }
      ]
    },
    {
      "cell_type": "code",
      "source": [
        "26%6"
      ],
      "metadata": {
        "colab": {
          "base_uri": "https://localhost:8080/"
        },
        "id": "VZmdMAD2bnxm",
        "outputId": "f81bf650-46e4-4e1a-8e67-2f20ad8213e8"
      },
      "execution_count": null,
      "outputs": [
        {
          "output_type": "execute_result",
          "data": {
            "text/plain": [
              "2"
            ]
          },
          "metadata": {},
          "execution_count": 12
        }
      ]
    },
    {
      "cell_type": "code",
      "source": [
        "2/6"
      ],
      "metadata": {
        "colab": {
          "base_uri": "https://localhost:8080/"
        },
        "id": "esoWBZZubzz4",
        "outputId": "67e0b295-2787-41e2-d510-46bb28d076c7"
      },
      "execution_count": null,
      "outputs": [
        {
          "output_type": "execute_result",
          "data": {
            "text/plain": [
              "0.3333333333333333"
            ]
          },
          "metadata": {},
          "execution_count": 13
        }
      ]
    },
    {
      "cell_type": "code",
      "source": [
        "2**3"
      ],
      "metadata": {
        "colab": {
          "base_uri": "https://localhost:8080/"
        },
        "id": "zYlXEEZmb_7w",
        "outputId": "c19d4b0e-409c-4681-e4b2-954eb86c47f9"
      },
      "execution_count": null,
      "outputs": [
        {
          "output_type": "execute_result",
          "data": {
            "text/plain": [
              "8"
            ]
          },
          "metadata": {},
          "execution_count": 14
        }
      ]
    },
    {
      "cell_type": "code",
      "source": [
        "2**0.5"
      ],
      "metadata": {
        "colab": {
          "base_uri": "https://localhost:8080/"
        },
        "id": "lsbznbzqcEh9",
        "outputId": "b8db570b-11ab-422a-99f1-b99df907a0f2"
      },
      "execution_count": null,
      "outputs": [
        {
          "output_type": "execute_result",
          "data": {
            "text/plain": [
              "1.4142135623730951"
            ]
          },
          "metadata": {},
          "execution_count": 15
        }
      ]
    },
    {
      "cell_type": "code",
      "source": [
        "b=1.5"
      ],
      "metadata": {
        "id": "17Vf0H1ddb3z"
      },
      "execution_count": null,
      "outputs": []
    },
    {
      "cell_type": "code",
      "source": [
        "print(a+b)"
      ],
      "metadata": {
        "colab": {
          "base_uri": "https://localhost:8080/"
        },
        "id": "vprX5Dxgd3bi",
        "outputId": "4fec7d20-228d-4add-c5f9-aeb62ebca9e9"
      },
      "execution_count": null,
      "outputs": [
        {
          "output_type": "stream",
          "name": "stdout",
          "text": [
            "21.5\n"
          ]
        }
      ]
    },
    {
      "cell_type": "code",
      "source": [
        "a=5\n",
        "b=3\n",
        "print(a+b)"
      ],
      "metadata": {
        "colab": {
          "base_uri": "https://localhost:8080/"
        },
        "id": "B1FCpm4_eAQX",
        "outputId": "d71c4edc-30e6-44f5-d91e-f4ac7891a1ba"
      },
      "execution_count": null,
      "outputs": [
        {
          "output_type": "stream",
          "name": "stdout",
          "text": [
            "8\n"
          ]
        }
      ]
    },
    {
      "cell_type": "code",
      "source": [
        "salario = 1800\n",
        "aumento = 5"
      ],
      "metadata": {
        "id": "kDYi7eeCf7qN"
      },
      "execution_count": null,
      "outputs": []
    },
    {
      "cell_type": "code",
      "source": [
        "print(salario+ (salario*aumento/100))"
      ],
      "metadata": {
        "colab": {
          "base_uri": "https://localhost:8080/"
        },
        "id": "C2Vqa7gyfSJg",
        "outputId": "e85a8cee-fe7c-4c1a-b741-6957bc5f1d56"
      },
      "execution_count": null,
      "outputs": [
        {
          "output_type": "stream",
          "name": "stdout",
          "text": [
            "1890.0\n"
          ]
        }
      ]
    },
    {
      "cell_type": "code",
      "source": [
        "print(1690+(1690*5/100))"
      ],
      "metadata": {
        "colab": {
          "base_uri": "https://localhost:8080/"
        },
        "id": "cSPfoW1cfpgP",
        "outputId": "441a4d5f-6006-4b69-d089-f34feabcab0c"
      },
      "execution_count": null,
      "outputs": [
        {
          "output_type": "stream",
          "name": "stdout",
          "text": [
            "1774.5\n"
          ]
        }
      ]
    },
    {
      "cell_type": "code",
      "source": [
        "salario = 10000\n",
        "aumento =7"
      ],
      "metadata": {
        "id": "PsuNNfOfg1mZ"
      },
      "execution_count": null,
      "outputs": []
    },
    {
      "cell_type": "code",
      "source": [
        "salario = 1000.2"
      ],
      "metadata": {
        "id": "ovsLz0nzhcsZ"
      },
      "execution_count": null,
      "outputs": []
    },
    {
      "cell_type": "markdown",
      "source": [
        "Variáveis numéricas em Python:\n",
        "\n",
        "\n",
        "\n",
        "*   Inteiros (ex: 1, 2 ,3, 5 ,8, -1, -3, -5) \n",
        "*   Ponto flutuante (ex: 3.1416593, 1.32, -23.56)\n",
        "\n",
        "(sinal, mantissa, base_{expoente})\n",
        "\n",
        "\n",
        "Variáveis do tipo lógico\n",
        "\n",
        "As variáveis são respresentadas como verdadeiro ou falso\n",
        "\n"
      ],
      "metadata": {
        "id": "31frfRFziYK-"
      }
    },
    {
      "cell_type": "code",
      "source": [
        "valor = True"
      ],
      "metadata": {
        "id": "Tit89yG6kCMs"
      },
      "execution_count": null,
      "outputs": []
    },
    {
      "cell_type": "markdown",
      "source": [
        "# Operadores Relacionais\n",
        "\n",
        "* igualdade ==\n",
        "* maior que >\n",
        "* menor que <\n",
        "* diferente !=\n",
        "* maior ou igual >=\n",
        "* menor ou igual <="
      ],
      "metadata": {
        "id": "qeS-vq6UkQqP"
      }
    },
    {
      "cell_type": "code",
      "source": [
        "a =5\n",
        "b =1\n",
        "c =2\n",
        "d =3\n",
        "e =1"
      ],
      "metadata": {
        "id": "pr7_f94OkM0J"
      },
      "execution_count": null,
      "outputs": []
    },
    {
      "cell_type": "code",
      "source": [
        "a == b"
      ],
      "metadata": {
        "colab": {
          "base_uri": "https://localhost:8080/"
        },
        "id": "sL3Mogdyk83I",
        "outputId": "7ce70ba0-82e0-4439-afb2-3fdef3c115f9"
      },
      "execution_count": null,
      "outputs": [
        {
          "output_type": "execute_result",
          "data": {
            "text/plain": [
              "False"
            ]
          },
          "metadata": {},
          "execution_count": 34
        }
      ]
    },
    {
      "cell_type": "code",
      "source": [
        "a != b"
      ],
      "metadata": {
        "colab": {
          "base_uri": "https://localhost:8080/"
        },
        "id": "yOqVhNVqlY75",
        "outputId": "ad4f0589-3a4d-4df4-9f24-0531bb9218f1"
      },
      "execution_count": null,
      "outputs": [
        {
          "output_type": "execute_result",
          "data": {
            "text/plain": [
              "True"
            ]
          },
          "metadata": {},
          "execution_count": 38
        }
      ]
    },
    {
      "cell_type": "code",
      "source": [
        "b == e"
      ],
      "metadata": {
        "colab": {
          "base_uri": "https://localhost:8080/"
        },
        "id": "HQeFCh8klIx2",
        "outputId": "3c08164d-71e5-4ac5-a064-3c76d9e5f45d"
      },
      "execution_count": null,
      "outputs": [
        {
          "output_type": "execute_result",
          "data": {
            "text/plain": [
              "True"
            ]
          },
          "metadata": {},
          "execution_count": 37
        }
      ]
    },
    {
      "cell_type": "code",
      "source": [
        "a<b"
      ],
      "metadata": {
        "colab": {
          "base_uri": "https://localhost:8080/"
        },
        "id": "duO5LAbolrjp",
        "outputId": "d7dcfc18-58f9-454e-f279-0983cbebc002"
      },
      "execution_count": null,
      "outputs": [
        {
          "output_type": "execute_result",
          "data": {
            "text/plain": [
              "False"
            ]
          },
          "metadata": {},
          "execution_count": 42
        }
      ]
    },
    {
      "cell_type": "code",
      "source": [
        "b<a"
      ],
      "metadata": {
        "colab": {
          "base_uri": "https://localhost:8080/"
        },
        "id": "tMTVAhX2l0Nm",
        "outputId": "957e769e-81cc-40a1-974a-0b23ce5ad27f"
      },
      "execution_count": null,
      "outputs": [
        {
          "output_type": "execute_result",
          "data": {
            "text/plain": [
              "True"
            ]
          },
          "metadata": {},
          "execution_count": 43
        }
      ]
    },
    {
      "cell_type": "code",
      "source": [
        "nota = 8\n",
        "media = 7"
      ],
      "metadata": {
        "id": "0fm52inamOVn"
      },
      "execution_count": null,
      "outputs": []
    },
    {
      "cell_type": "code",
      "source": [
        "aprovado =  nota > media"
      ],
      "metadata": {
        "id": "rMDoRMSJmUhR"
      },
      "execution_count": null,
      "outputs": []
    },
    {
      "cell_type": "code",
      "source": [
        "aprovado"
      ],
      "metadata": {
        "colab": {
          "base_uri": "https://localhost:8080/"
        },
        "id": "1kYeCgbWmaeV",
        "outputId": "22db4998-0b8c-4076-d5e3-1469cddee772"
      },
      "execution_count": null,
      "outputs": [
        {
          "output_type": "execute_result",
          "data": {
            "text/plain": [
              "True"
            ]
          },
          "metadata": {},
          "execution_count": 49
        }
      ]
    },
    {
      "cell_type": "markdown",
      "source": [
        "## Operadores Lógicos\n",
        "\n",
        "* not -> não\n",
        "* and -> e\n",
        "* or -> ou\n",
        "\n"
      ],
      "metadata": {
        "id": "jwJXy4q5mi6k"
      }
    },
    {
      "cell_type": "markdown",
      "source": [
        "Operador and (porta lógica and)\n",
        "\n",
        "a and b\n",
        "\n",
        "0 and 0 -> 0\n",
        "\n",
        "0 and 1 -> 0\n",
        "\n",
        "1 and 0 -> 0\n",
        "\n",
        "1 and 1 -> 1"
      ],
      "metadata": {
        "id": "9eYV5O4ym-DE"
      }
    },
    {
      "cell_type": "code",
      "source": [
        "False and False"
      ],
      "metadata": {
        "colab": {
          "base_uri": "https://localhost:8080/"
        },
        "id": "NgAuW1JspKHM",
        "outputId": "d725bb0e-81c8-449a-8f20-6538ab47fa23"
      },
      "execution_count": null,
      "outputs": [
        {
          "output_type": "execute_result",
          "data": {
            "text/plain": [
              "False"
            ]
          },
          "metadata": {},
          "execution_count": 53
        }
      ]
    },
    {
      "cell_type": "code",
      "source": [
        "  False and True"
      ],
      "metadata": {
        "colab": {
          "base_uri": "https://localhost:8080/"
        },
        "id": "VuTDOXjlpPQp",
        "outputId": "e9090323-1f59-4073-e6db-42ed33e76f9d"
      },
      "execution_count": null,
      "outputs": [
        {
          "output_type": "execute_result",
          "data": {
            "text/plain": [
              "False"
            ]
          },
          "metadata": {},
          "execution_count": 54
        }
      ]
    },
    {
      "cell_type": "code",
      "source": [
        "True and False"
      ],
      "metadata": {
        "colab": {
          "base_uri": "https://localhost:8080/"
        },
        "id": "5LwG8uUppVtI",
        "outputId": "5038800b-b406-4310-b01c-8d996143ccd5"
      },
      "execution_count": null,
      "outputs": [
        {
          "output_type": "execute_result",
          "data": {
            "text/plain": [
              "False"
            ]
          },
          "metadata": {},
          "execution_count": 55
        }
      ]
    },
    {
      "cell_type": "code",
      "source": [
        "True and True"
      ],
      "metadata": {
        "colab": {
          "base_uri": "https://localhost:8080/"
        },
        "id": "z1vfEBjXpZMQ",
        "outputId": "23162d28-dabe-4ca9-e083-61dcb33201f9"
      },
      "execution_count": null,
      "outputs": [
        {
          "output_type": "execute_result",
          "data": {
            "text/plain": [
              "True"
            ]
          },
          "metadata": {},
          "execution_count": 56
        }
      ]
    },
    {
      "cell_type": "markdown",
      "source": [
        "Operador ou (porta lógica ou)\n",
        "\n",
        "a or b\n",
        "\n",
        "0(False) or 0 -> 0\n",
        "\n",
        "0 or 1(True) -> 1\n",
        "\n",
        "1 or 0 -> 1\n",
        "\n",
        "1 or 1 -> 1"
      ],
      "metadata": {
        "id": "DBpyEKEDnwut"
      }
    },
    {
      "cell_type": "code",
      "source": [
        "False or False"
      ],
      "metadata": {
        "colab": {
          "base_uri": "https://localhost:8080/"
        },
        "id": "uEoLqcx_nvqd",
        "outputId": "9ffd7580-7bc3-4b5c-b7bb-e71cd8a5dcbc"
      },
      "execution_count": null,
      "outputs": [
        {
          "output_type": "execute_result",
          "data": {
            "text/plain": [
              "False"
            ]
          },
          "metadata": {},
          "execution_count": 57
        }
      ]
    },
    {
      "cell_type": "code",
      "source": [
        "False or True"
      ],
      "metadata": {
        "colab": {
          "base_uri": "https://localhost:8080/"
        },
        "id": "Pi_BI0RHmiI5",
        "outputId": "e2fafeea-4483-49b7-8c02-2797a99ee479"
      },
      "execution_count": null,
      "outputs": [
        {
          "output_type": "execute_result",
          "data": {
            "text/plain": [
              "True"
            ]
          },
          "metadata": {},
          "execution_count": 58
        }
      ]
    },
    {
      "cell_type": "code",
      "source": [
        "True or False"
      ],
      "metadata": {
        "colab": {
          "base_uri": "https://localhost:8080/"
        },
        "id": "fQmEt_2RppOP",
        "outputId": "3dff31a7-af97-4798-c204-dd168aaac31d"
      },
      "execution_count": null,
      "outputs": [
        {
          "output_type": "execute_result",
          "data": {
            "text/plain": [
              "True"
            ]
          },
          "metadata": {},
          "execution_count": 59
        }
      ]
    },
    {
      "cell_type": "code",
      "source": [
        "True or True"
      ],
      "metadata": {
        "colab": {
          "base_uri": "https://localhost:8080/"
        },
        "id": "DbBtpv4zpsRg",
        "outputId": "958ba95b-9ed2-4e9e-ab23-d2f72d62e500"
      },
      "execution_count": null,
      "outputs": [
        {
          "output_type": "execute_result",
          "data": {
            "text/plain": [
              "True"
            ]
          },
          "metadata": {},
          "execution_count": 60
        }
      ]
    },
    {
      "cell_type": "markdown",
      "source": [
        "Variáveis String\n",
        "\n",
        "Armazenam cadeias de caracteres"
      ],
      "metadata": {
        "id": "ttDkxqTxqEKs"
      }
    },
    {
      "cell_type": "code",
      "source": [
        "len(\"ANDANDO\")"
      ],
      "metadata": {
        "colab": {
          "base_uri": "https://localhost:8080/"
        },
        "id": "112gAaMqqRst",
        "outputId": "39be6264-9e3e-4a90-c9fb-b4997f429919"
      },
      "execution_count": null,
      "outputs": [
        {
          "output_type": "execute_result",
          "data": {
            "text/plain": [
              "7"
            ]
          },
          "metadata": {},
          "execution_count": 61
        }
      ]
    },
    {
      "cell_type": "code",
      "source": [
        "string = \"João e o pé de feijão\""
      ],
      "metadata": {
        "id": "gdBh0K3YqcpJ"
      },
      "execution_count": null,
      "outputs": []
    },
    {
      "cell_type": "code",
      "source": [
        "len(string)"
      ],
      "metadata": {
        "colab": {
          "base_uri": "https://localhost:8080/"
        },
        "id": "x8TV4la4qoLQ",
        "outputId": "7f4e0c4a-3ae2-4928-bfd4-3d9fca1578c9"
      },
      "execution_count": null,
      "outputs": [
        {
          "output_type": "execute_result",
          "data": {
            "text/plain": [
              "21"
            ]
          },
          "metadata": {},
          "execution_count": 63
        }
      ]
    }
  ]
}