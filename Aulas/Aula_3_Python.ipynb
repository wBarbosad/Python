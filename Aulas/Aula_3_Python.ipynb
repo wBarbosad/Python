{
  "nbformat": 4,
  "nbformat_minor": 0,
  "metadata": {
    "colab": {
      "provenance": []
    },
    "kernelspec": {
      "name": "python3",
      "display_name": "Python 3"
    },
    "language_info": {
      "name": "python"
    }
  },
  "cells": [
    {
      "cell_type": "markdown",
      "source": [
        "## Estrutura Condicional\n",
        "\n",
        "Utilizado quando dvemos decidir que partes do programa serão executadas baseado em um operador condicional.\n",
        "\n",
        "**if** *<condição>:*\n",
        "\n",
        "bloco verdadeiro\n",
        "\n",
        "**if** -> se"
      ],
      "metadata": {
        "id": "MxOxJyW2ding"
      }
    },
    {
      "cell_type": "code",
      "execution_count": 3,
      "metadata": {
        "colab": {
          "base_uri": "https://localhost:8080/"
        },
        "id": "pq6T3nfPcr7C",
        "outputId": "a35ac050-3f2b-483a-e5d2-2ede4b37c02c"
      },
      "outputs": [
        {
          "output_type": "stream",
          "name": "stdout",
          "text": [
            "Primeiro número: 8\n",
            "Segundo número: 8\n",
            "O valores do primeiro e segundo números são iguais!\n"
          ]
        }
      ],
      "source": [
        "a = int(input(\"Primeiro número: \"))\n",
        "b = int(input(\"Segundo número: \"))\n",
        "if a>b:\n",
        "  print(\"O primeiro número é o maior!\")\n",
        "if b>a:\n",
        "  print(\"O segundo número é o maior!\")\n",
        "if a==b:\n",
        "  print(\"O valores do primeiro e segundo números são iguais!\")"
      ]
    },
    {
      "cell_type": "code",
      "source": [
        "idade = int(input(\"Quantos anos você tem?\"))\n",
        "if idade>=18:\n",
        "  print(\"Você é maior de 18 anos!\")\n",
        "if idade<18:\n",
        "  print(\"Você é menor de 18 anos!\")\n"
      ],
      "metadata": {
        "colab": {
          "base_uri": "https://localhost:8080/"
        },
        "id": "JJ4ODh5KgvGR",
        "outputId": "257144ad-98d1-46a3-ae71-0165435653ed"
      },
      "execution_count": 5,
      "outputs": [
        {
          "output_type": "stream",
          "name": "stdout",
          "text": [
            "Quantos anos você tem?22\n",
            "Você é maior de 18 anos!\n"
          ]
        }
      ]
    },
    {
      "cell_type": "code",
      "source": [
        "idade = int(input(\"Quantos anos você tem?\"))\n",
        "if idade>=18:\n",
        "  print(\"Você é maior de 18 anos!\")\n",
        "else:\n",
        "  print(\"Você é menor de 18 anos!\")"
      ],
      "metadata": {
        "colab": {
          "base_uri": "https://localhost:8080/"
        },
        "id": "YMKHcIwNitsX",
        "outputId": "644a6c0e-2e63-439f-a0da-1373523e2e17"
      },
      "execution_count": 7,
      "outputs": [
        {
          "output_type": "stream",
          "name": "stdout",
          "text": [
            "Quantos anos você tem?22\n",
            "Você é maior de 18 anos!\n"
          ]
        }
      ]
    },
    {
      "cell_type": "code",
      "source": [
        "salario = float(input(\"Inserir o seu salário!\"))\n",
        "imposto=0\n",
        "if salario > 6000:\n",
        "  imposto = imposto + ((salario-6000)*0.3)\n",
        "if salario > 2000:\n",
        "  imposto = imposto +((salario-2000)*0.20)\n",
        "\n",
        "print(imposto)"
      ],
      "metadata": {
        "colab": {
          "base_uri": "https://localhost:8080/"
        },
        "id": "OwiLWReTjt3-",
        "outputId": "bd941d97-5e8d-43a6-ee83-dae306bef270"
      },
      "execution_count": 11,
      "outputs": [
        {
          "output_type": "stream",
          "name": "stdout",
          "text": [
            "Inserir o seu salário!7000\n",
            "1300.0\n"
          ]
        }
      ]
    },
    {
      "cell_type": "markdown",
      "source": [
        "## Estruturas aninhadas\n",
        "São usadas quando precisamos juntar diversos **if** dentro de um programa, para obter um comportamento."
      ],
      "metadata": {
        "id": "ZxfKO1ITlvnV"
      }
    },
    {
      "cell_type": "markdown",
      "source": [
        "### Exemplo\n",
        "Calcule a conta telefônica de uma empresa que oferece preços diferenciados de acordo com a quantidade de minutos usados por mês, da seguinte forma:\n",
        "\n",
        "*  Abaixo de 200 minutos - cobra 0,50 reais\n",
        "*  Entre 200 e 400 minutos - cobra 0,40 reais\n",
        "*  Acima 400 minutos - cobra 0,30 reais\n",
        "\n",
        " Desenvolva um programa que permita o calculo do valor pago pelo cliente inserindo os minutos utilizados:\n",
        "\n",
        "\n",
        "\n"
      ],
      "metadata": {
        "id": "sDgXW_5SmIrr"
      }
    },
    {
      "cell_type": "code",
      "source": [
        "qut_minutos = int(input(\"Por favor, insira a quantidade de minutos utilizada  este mês: \"))\n",
        "preco = 0.0\n",
        "if qut_minutos<200:\n",
        "  preco = 0.50\n",
        "else:\n",
        "  if qut_minutos<400:\n",
        "    preco = 0.40\n",
        "  else:\n",
        "    preco = 0.30\n",
        "print(f\"Você pagará este mês: R${qut_minutos*preco:6.2f}\")\n"
      ],
      "metadata": {
        "colab": {
          "base_uri": "https://localhost:8080/"
        },
        "id": "bxumHkwfnvrl",
        "outputId": "bd242fdb-48f4-4290-c591-0f04183c3ff9"
      },
      "execution_count": 15,
      "outputs": [
        {
          "output_type": "stream",
          "name": "stdout",
          "text": [
            "Por favor, insira a quantidade de minutos utilizada  este mês: 190\n",
            "Você pagará este mês: R$ 95.00\n"
          ]
        }
      ]
    },
    {
      "cell_type": "code",
      "source": [
        "qut_minutos = int(input(\"Por favor, insira a quantidade de minutos utilizada  este mês: \"))\n",
        "preco = 0.0\n",
        "if qut_minutos<200:\n",
        "  preco = 0.50\n",
        "if (qut_minutos>200) and (qut_minutos<400):\n",
        "  preco = 0.40\n",
        "if qut_minutos>400:\n",
        "  preco = 0.30\n",
        "print(f\"Você pagará este mês: R${qut_minutos*preco:6.2f}\")"
      ],
      "metadata": {
        "colab": {
          "base_uri": "https://localhost:8080/"
        },
        "id": "4I-sG8SxrSH2",
        "outputId": "5029d464-c3c0-4e8c-c387-442841931e85"
      },
      "execution_count": 16,
      "outputs": [
        {
          "output_type": "stream",
          "name": "stdout",
          "text": [
            "Por favor, insira a quantidade de minutos utilizada  este mês: 190\n",
            "Você pagará este mês: R$ 76.00\n"
          ]
        }
      ]
    }
  ]
}