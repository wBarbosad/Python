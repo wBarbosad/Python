{
  "nbformat": 4,
  "nbformat_minor": 0,
  "metadata": {
    "colab": {
      "provenance": []
    },
    "kernelspec": {
      "name": "python3",
      "display_name": "Python 3"
    },
    "language_info": {
      "name": "python"
    }
  },
  "cells": [
    {
      "cell_type": "markdown",
      "source": [
        "Variáveis do tipo String\n",
        "\n",
        "Armaenam cadeias de caracteres"
      ],
      "metadata": {
        "id": "pc9S5LFCdkX0"
      }
    },
    {
      "cell_type": "code",
      "execution_count": 1,
      "metadata": {
        "id": "0KNT9no3dJgw"
      },
      "outputs": [],
      "source": [
        "string = \"Maria e José comeram ovos\""
      ]
    },
    {
      "cell_type": "markdown",
      "source": [
        "Cada string em Python tem um tamanho associado."
      ],
      "metadata": {
        "id": "hM3yy2iJeLa9"
      }
    },
    {
      "cell_type": "code",
      "source": [
        "len(\"ABA\")"
      ],
      "metadata": {
        "colab": {
          "base_uri": "https://localhost:8080/"
        },
        "id": "6mOh7uaBeSgH",
        "outputId": "88828fdc-cc25-4918-f9cc-b896953459a8"
      },
      "execution_count": 2,
      "outputs": [
        {
          "output_type": "execute_result",
          "data": {
            "text/plain": [
              "3"
            ]
          },
          "metadata": {},
          "execution_count": 2
        }
      ]
    },
    {
      "cell_type": "code",
      "source": [
        "len(string)"
      ],
      "metadata": {
        "colab": {
          "base_uri": "https://localhost:8080/"
        },
        "id": "u-5AGcUHeaRr",
        "outputId": "fcc15b9f-39e8-4a05-eb73-ddfee6fa7358"
      },
      "execution_count": 3,
      "outputs": [
        {
          "output_type": "execute_result",
          "data": {
            "text/plain": [
              "25"
            ]
          },
          "metadata": {},
          "execution_count": 3
        }
      ]
    },
    {
      "cell_type": "markdown",
      "source": [
        "123456789\n",
        "\n",
        "Maria e José comeram ovos"
      ],
      "metadata": {
        "id": "cPN1BWnyevQa"
      }
    },
    {
      "cell_type": "code",
      "source": [
        "string[6]"
      ],
      "metadata": {
        "colab": {
          "base_uri": "https://localhost:8080/",
          "height": 35
        },
        "id": "CjKRzkCiet9J",
        "outputId": "b24dd353-2d63-41ee-dbdc-d1ab9c273d42"
      },
      "execution_count": 4,
      "outputs": [
        {
          "output_type": "execute_result",
          "data": {
            "text/plain": [
              "'e'"
            ],
            "application/vnd.google.colaboratory.intrinsic+json": {
              "type": "string"
            }
          },
          "metadata": {},
          "execution_count": 4
        }
      ]
    },
    {
      "cell_type": "markdown",
      "source": [
        "## Operações com Strings\n",
        "\n",
        "fatiamento\n",
        "\n",
        "concatenação\n",
        "\n",
        "composição"
      ],
      "metadata": {
        "id": "i6huDv-uflso"
      }
    },
    {
      "cell_type": "markdown",
      "source": [
        "## Concatenação\n",
        "\n",
        "Operador de concatenação -> +"
      ],
      "metadata": {
        "id": "1YNzkE20gaxs"
      }
    },
    {
      "cell_type": "code",
      "source": [
        "s = \"QWER\""
      ],
      "metadata": {
        "id": "U5tKPy2agZQz"
      },
      "execution_count": 5,
      "outputs": []
    },
    {
      "cell_type": "code",
      "source": [
        "s"
      ],
      "metadata": {
        "colab": {
          "base_uri": "https://localhost:8080/",
          "height": 35
        },
        "id": "LjHmd5Xzgplu",
        "outputId": "4f432c09-a0c6-4048-ffbf-a4d1e34ad23f"
      },
      "execution_count": 6,
      "outputs": [
        {
          "output_type": "execute_result",
          "data": {
            "text/plain": [
              "'QWER'"
            ],
            "application/vnd.google.colaboratory.intrinsic+json": {
              "type": "string"
            }
          },
          "metadata": {},
          "execution_count": 6
        }
      ]
    },
    {
      "cell_type": "code",
      "source": [
        "String2=s+\"TY\""
      ],
      "metadata": {
        "id": "mGmP9qOXgtQ_"
      },
      "execution_count": 8,
      "outputs": []
    },
    {
      "cell_type": "code",
      "source": [
        "s"
      ],
      "metadata": {
        "colab": {
          "base_uri": "https://localhost:8080/",
          "height": 35
        },
        "id": "DDxu8ChLg_9m",
        "outputId": "f5ff1ee9-e4ff-4509-aaee-326d60f97880"
      },
      "execution_count": 9,
      "outputs": [
        {
          "output_type": "execute_result",
          "data": {
            "text/plain": [
              "'QWER'"
            ],
            "application/vnd.google.colaboratory.intrinsic+json": {
              "type": "string"
            }
          },
          "metadata": {},
          "execution_count": 9
        }
      ]
    },
    {
      "cell_type": "code",
      "source": [
        "String2"
      ],
      "metadata": {
        "colab": {
          "base_uri": "https://localhost:8080/",
          "height": 35
        },
        "id": "kYcSjzORhDUp",
        "outputId": "7af57b20-3a68-4415-b401-ec472e492cf8"
      },
      "execution_count": 10,
      "outputs": [
        {
          "output_type": "execute_result",
          "data": {
            "text/plain": [
              "'QWERTY'"
            ],
            "application/vnd.google.colaboratory.intrinsic+json": {
              "type": "string"
            }
          },
          "metadata": {},
          "execution_count": 10
        }
      ]
    },
    {
      "cell_type": "code",
      "source": [
        "String3=s+\"TY\"*3"
      ],
      "metadata": {
        "id": "PUj1gIXHhsKW"
      },
      "execution_count": 11,
      "outputs": []
    },
    {
      "cell_type": "code",
      "source": [
        "String3"
      ],
      "metadata": {
        "colab": {
          "base_uri": "https://localhost:8080/",
          "height": 35
        },
        "id": "qEB-WbNeh2dv",
        "outputId": "ab25b362-b6c2-4420-f5e3-cfad84819a69"
      },
      "execution_count": 12,
      "outputs": [
        {
          "output_type": "execute_result",
          "data": {
            "text/plain": [
              "'QWERTYTYTY'"
            ],
            "application/vnd.google.colaboratory.intrinsic+json": {
              "type": "string"
            }
          },
          "metadata": {},
          "execution_count": 12
        }
      ]
    },
    {
      "cell_type": "markdown",
      "source": [
        "##Composição\n",
        "\n",
        "Somar várias strings e construir uma mensagem\n",
        "\n",
        "\"Alexandre te %d anos\" % X\n",
        "\n",
        "%d -> números inteiros\n",
        "\n",
        "%s -> Strings\n",
        "\n",
        "%f -> números decimais\n",
        "\n",
        "Operador de composição  %"
      ],
      "metadata": {
        "id": "5oE5xjeFicfd"
      }
    },
    {
      "cell_type": "code",
      "source": [
        "x=32"
      ],
      "metadata": {
        "id": "bO5lMDsSjMfb"
      },
      "execution_count": 15,
      "outputs": []
    },
    {
      "cell_type": "code",
      "source": [
        "\"Alexandre tem %d anos\" % x"
      ],
      "metadata": {
        "colab": {
          "base_uri": "https://localhost:8080/",
          "height": 35
        },
        "id": "gDz3V2QKjSuQ",
        "outputId": "7d49e6d0-15ad-4015-a791-4784e811b475"
      },
      "execution_count": 21,
      "outputs": [
        {
          "output_type": "execute_result",
          "data": {
            "text/plain": [
              "'Alexandre te 32 anos'"
            ],
            "application/vnd.google.colaboratory.intrinsic+json": {
              "type": "string"
            }
          },
          "metadata": {},
          "execution_count": 21
        }
      ]
    },
    {
      "cell_type": "code",
      "source": [
        "\"Alexandre tem %8d anos\" % x"
      ],
      "metadata": {
        "colab": {
          "base_uri": "https://localhost:8080/",
          "height": 35
        },
        "id": "Ha-mUb2ok1fI",
        "outputId": "314d9106-43f2-43e3-c4d1-fd84bc0a4711"
      },
      "execution_count": 24,
      "outputs": [
        {
          "output_type": "execute_result",
          "data": {
            "text/plain": [
              "'Alexandre tem       32 anos'"
            ],
            "application/vnd.google.colaboratory.intrinsic+json": {
              "type": "string"
            }
          },
          "metadata": {},
          "execution_count": 24
        }
      ]
    },
    {
      "cell_type": "code",
      "source": [
        "\"Alexandre tem %-8d anos\" % x"
      ],
      "metadata": {
        "colab": {
          "base_uri": "https://localhost:8080/",
          "height": 35
        },
        "id": "t2l-cIhNm-tI",
        "outputId": "104cde7c-999e-4fa6-b29a-e2b6e09f2a91"
      },
      "execution_count": 25,
      "outputs": [
        {
          "output_type": "execute_result",
          "data": {
            "text/plain": [
              "'Alexandre tem 32       anos'"
            ],
            "application/vnd.google.colaboratory.intrinsic+json": {
              "type": "string"
            }
          },
          "metadata": {},
          "execution_count": 25
        }
      ]
    },
    {
      "cell_type": "code",
      "source": [
        "\"Alexandre tem %5.4f anos\" % 300000"
      ],
      "metadata": {
        "colab": {
          "base_uri": "https://localhost:8080/",
          "height": 35
        },
        "id": "OG5Vyp4KnVcz",
        "outputId": "f04d2acd-12bc-4a00-cf14-2337e8259616"
      },
      "execution_count": 33,
      "outputs": [
        {
          "output_type": "execute_result",
          "data": {
            "text/plain": [
              "'Alexandre tem 300000.0000 anos'"
            ],
            "application/vnd.google.colaboratory.intrinsic+json": {
              "type": "string"
            }
          },
          "metadata": {},
          "execution_count": 33
        }
      ]
    },
    {
      "cell_type": "code",
      "source": [
        "\"%s tem %d anos e apenas R$%.4f no bolso.\" % (\"Ricardo\", 22, 56.32)"
      ],
      "metadata": {
        "colab": {
          "base_uri": "https://localhost:8080/",
          "height": 35
        },
        "id": "VQFnqPfEoOKD",
        "outputId": "1a6b02cc-a0d3-4b6c-b2b6-335e6add91d6"
      },
      "execution_count": 37,
      "outputs": [
        {
          "output_type": "execute_result",
          "data": {
            "text/plain": [
              "'Ricardo tem 22 anos e apenas R$56.3200 no bolso.'"
            ],
            "application/vnd.google.colaboratory.intrinsic+json": {
              "type": "string"
            }
          },
          "metadata": {},
          "execution_count": 37
        }
      ]
    },
    {
      "cell_type": "markdown",
      "source": [
        "## Método format para composição"
      ],
      "metadata": {
        "id": "QXATgRG0pck_"
      }
    },
    {
      "cell_type": "code",
      "source": [
        "nome=\"Ricardo\"\n",
        "idade=22\n",
        "dinheiro=56.32"
      ],
      "metadata": {
        "id": "3itYyrz0q5He"
      },
      "execution_count": 41,
      "outputs": []
    },
    {
      "cell_type": "code",
      "source": [
        "\"{:12} tem {:5} anos e apenas R${:.4f} no bolso.\".format(\"Ricardo\", 22, 56.32)"
      ],
      "metadata": {
        "colab": {
          "base_uri": "https://localhost:8080/",
          "height": 35
        },
        "id": "ZgHZ3eNIpotO",
        "outputId": "35b9cb05-eae3-4db5-a5a9-9c2fa02803fb"
      },
      "execution_count": 40,
      "outputs": [
        {
          "output_type": "execute_result",
          "data": {
            "text/plain": [
              "'Ricardo      tem    22 anos e apenas R$56.3200 no bolso.'"
            ],
            "application/vnd.google.colaboratory.intrinsic+json": {
              "type": "string"
            }
          },
          "metadata": {},
          "execution_count": 40
        }
      ]
    },
    {
      "cell_type": "code",
      "source": [
        "f\"{nome:12} tem {idade:5} anos e apenas R${dinheiro:.4f} no bolso.\""
      ],
      "metadata": {
        "colab": {
          "base_uri": "https://localhost:8080/",
          "height": 35
        },
        "id": "gLcFrrF4rHbJ",
        "outputId": "dab27020-ee40-4724-e28c-8295a5eb23d9"
      },
      "execution_count": 43,
      "outputs": [
        {
          "output_type": "execute_result",
          "data": {
            "text/plain": [
              "'Ricardo      tem    22 anos e apenas R$56.3200 no bolso.'"
            ],
            "application/vnd.google.colaboratory.intrinsic+json": {
              "type": "string"
            }
          },
          "metadata": {},
          "execution_count": 43
        }
      ]
    },
    {
      "cell_type": "markdown",
      "source": [
        "## Fatiamento de Strings"
      ],
      "metadata": {
        "id": "DilRzlIzsKHu"
      }
    },
    {
      "cell_type": "code",
      "source": [
        "string = \"ABCDEFGHIJ\""
      ],
      "metadata": {
        "id": "RwwdeOLlsTfu"
      },
      "execution_count": 45,
      "outputs": []
    },
    {
      "cell_type": "code",
      "source": [
        "string[0:2]"
      ],
      "metadata": {
        "colab": {
          "base_uri": "https://localhost:8080/",
          "height": 35
        },
        "id": "2kFP0JEAsa-M",
        "outputId": "702cd05d-bea5-4368-a8a1-6e8bc823a571"
      },
      "execution_count": 46,
      "outputs": [
        {
          "output_type": "execute_result",
          "data": {
            "text/plain": [
              "'AB'"
            ],
            "application/vnd.google.colaboratory.intrinsic+json": {
              "type": "string"
            }
          },
          "metadata": {},
          "execution_count": 46
        }
      ]
    },
    {
      "cell_type": "code",
      "source": [
        "string[:2]"
      ],
      "metadata": {
        "colab": {
          "base_uri": "https://localhost:8080/",
          "height": 35
        },
        "id": "J9jQzYd_tW1d",
        "outputId": "566679cc-b52f-4a47-b4f7-99df81109666"
      },
      "execution_count": 49,
      "outputs": [
        {
          "output_type": "execute_result",
          "data": {
            "text/plain": [
              "'AB'"
            ],
            "application/vnd.google.colaboratory.intrinsic+json": {
              "type": "string"
            }
          },
          "metadata": {},
          "execution_count": 49
        }
      ]
    },
    {
      "cell_type": "code",
      "source": [
        "string[0:3]"
      ],
      "metadata": {
        "colab": {
          "base_uri": "https://localhost:8080/",
          "height": 35
        },
        "id": "HIEKIJEgsr1g",
        "outputId": "bb759f45-f91b-4a21-e7cc-6c9f05ffd24d"
      },
      "execution_count": 47,
      "outputs": [
        {
          "output_type": "execute_result",
          "data": {
            "text/plain": [
              "'ABC'"
            ],
            "application/vnd.google.colaboratory.intrinsic+json": {
              "type": "string"
            }
          },
          "metadata": {},
          "execution_count": 47
        }
      ]
    },
    {
      "cell_type": "code",
      "source": [
        "string[:3]"
      ],
      "metadata": {
        "colab": {
          "base_uri": "https://localhost:8080/",
          "height": 35
        },
        "id": "JEJIw4sLteRM",
        "outputId": "fe51a308-9563-49a0-f584-539521a81c1f"
      },
      "execution_count": 50,
      "outputs": [
        {
          "output_type": "execute_result",
          "data": {
            "text/plain": [
              "'ABC'"
            ],
            "application/vnd.google.colaboratory.intrinsic+json": {
              "type": "string"
            }
          },
          "metadata": {},
          "execution_count": 50
        }
      ]
    },
    {
      "cell_type": "code",
      "source": [
        "string[1:5]"
      ],
      "metadata": {
        "colab": {
          "base_uri": "https://localhost:8080/",
          "height": 35
        },
        "id": "d4vEOO6PtE2X",
        "outputId": "3c1a3bd2-0814-4815-8a04-b6214e1aea54"
      },
      "execution_count": 48,
      "outputs": [
        {
          "output_type": "execute_result",
          "data": {
            "text/plain": [
              "'BCDE'"
            ],
            "application/vnd.google.colaboratory.intrinsic+json": {
              "type": "string"
            }
          },
          "metadata": {},
          "execution_count": 48
        }
      ]
    },
    {
      "cell_type": "code",
      "source": [
        "string[3:3]"
      ],
      "metadata": {
        "colab": {
          "base_uri": "https://localhost:8080/",
          "height": 35
        },
        "id": "kh5KyKLZtmAb",
        "outputId": "4eeffbd5-e888-49b8-aa09-26e82843b802"
      },
      "execution_count": 51,
      "outputs": [
        {
          "output_type": "execute_result",
          "data": {
            "text/plain": [
              "''"
            ],
            "application/vnd.google.colaboratory.intrinsic+json": {
              "type": "string"
            }
          },
          "metadata": {},
          "execution_count": 51
        }
      ]
    },
    {
      "cell_type": "code",
      "source": [
        "string[:11]"
      ],
      "metadata": {
        "colab": {
          "base_uri": "https://localhost:8080/",
          "height": 35
        },
        "id": "uWGV23OLtxNO",
        "outputId": "1cff3ea3-7930-4bb2-9b91-baf7898693c1"
      },
      "execution_count": 52,
      "outputs": [
        {
          "output_type": "execute_result",
          "data": {
            "text/plain": [
              "'ABCDEFGHIJ'"
            ],
            "application/vnd.google.colaboratory.intrinsic+json": {
              "type": "string"
            }
          },
          "metadata": {},
          "execution_count": 52
        }
      ]
    },
    {
      "cell_type": "code",
      "source": [
        "string[3:]"
      ],
      "metadata": {
        "colab": {
          "base_uri": "https://localhost:8080/",
          "height": 35
        },
        "id": "AY3OTo8Xt6rf",
        "outputId": "644ea47c-39ae-4225-e52e-ec183197c5a2"
      },
      "execution_count": 53,
      "outputs": [
        {
          "output_type": "execute_result",
          "data": {
            "text/plain": [
              "'DEFGHIJ'"
            ],
            "application/vnd.google.colaboratory.intrinsic+json": {
              "type": "string"
            }
          },
          "metadata": {},
          "execution_count": 53
        }
      ]
    },
    {
      "cell_type": "code",
      "source": [
        "string[:]"
      ],
      "metadata": {
        "colab": {
          "base_uri": "https://localhost:8080/",
          "height": 35
        },
        "id": "2evBwAhhuC2C",
        "outputId": "96c1feb8-f421-4226-8e4f-bc42cd1b329d"
      },
      "execution_count": 54,
      "outputs": [
        {
          "output_type": "execute_result",
          "data": {
            "text/plain": [
              "'ABCDEFGHIJ'"
            ],
            "application/vnd.google.colaboratory.intrinsic+json": {
              "type": "string"
            }
          },
          "metadata": {},
          "execution_count": 54
        }
      ]
    },
    {
      "cell_type": "code",
      "source": [
        "string[-1:]"
      ],
      "metadata": {
        "colab": {
          "base_uri": "https://localhost:8080/",
          "height": 35
        },
        "id": "r7Nf0-3uuG4G",
        "outputId": "e289102e-09c9-4997-f7cc-f344108524b1"
      },
      "execution_count": 57,
      "outputs": [
        {
          "output_type": "execute_result",
          "data": {
            "text/plain": [
              "'J'"
            ],
            "application/vnd.google.colaboratory.intrinsic+json": {
              "type": "string"
            }
          },
          "metadata": {},
          "execution_count": 57
        }
      ]
    },
    {
      "cell_type": "code",
      "source": [
        "string[-5:]"
      ],
      "metadata": {
        "colab": {
          "base_uri": "https://localhost:8080/",
          "height": 35
        },
        "id": "rcEzEOqGuRKq",
        "outputId": "6d443a92-085d-43c6-a683-587ed22a71d4"
      },
      "execution_count": 59,
      "outputs": [
        {
          "output_type": "execute_result",
          "data": {
            "text/plain": [
              "'FGHIJ'"
            ],
            "application/vnd.google.colaboratory.intrinsic+json": {
              "type": "string"
            }
          },
          "metadata": {},
          "execution_count": 59
        }
      ]
    },
    {
      "cell_type": "code",
      "source": [
        "string[-4:7]"
      ],
      "metadata": {
        "colab": {
          "base_uri": "https://localhost:8080/",
          "height": 35
        },
        "id": "3whJA699vml2",
        "outputId": "6e1cdd9a-cf63-4b73-fe31-972a76d87aac"
      },
      "execution_count": 61,
      "outputs": [
        {
          "output_type": "execute_result",
          "data": {
            "text/plain": [
              "'G'"
            ],
            "application/vnd.google.colaboratory.intrinsic+json": {
              "type": "string"
            }
          },
          "metadata": {},
          "execution_count": 61
        }
      ]
    },
    {
      "cell_type": "code",
      "source": [
        "divida =0\n",
        "compra = 100\n",
        "divida = divida -compra\n",
        "compra =200\n",
        "divida = divida -compra\n",
        "print(divida)"
      ],
      "metadata": {
        "colab": {
          "base_uri": "https://localhost:8080/"
        },
        "id": "xRRjbVJNvHYF",
        "outputId": "35768ceb-c7d0-425e-b52e-4900dae4f2ee"
      },
      "execution_count": 60,
      "outputs": [
        {
          "output_type": "stream",
          "name": "stdout",
          "text": [
            "-300\n"
          ]
        }
      ]
    },
    {
      "cell_type": "markdown",
      "source": [
        "divida compra\n",
        "\n",
        "0       100\n",
        "\n",
        "-100    200\n",
        "\n",
        "-300"
      ],
      "metadata": {
        "id": "IuyKQM_PwV5_"
      }
    },
    {
      "cell_type": "code",
      "source": [
        "x = input(\"Favor digitar um número: \")\n",
        "print(x)"
      ],
      "metadata": {
        "colab": {
          "base_uri": "https://localhost:8080/"
        },
        "id": "wuN7E9Xiw12K",
        "outputId": "aa6d4fae-97d6-44ca-e0c9-625737d81955"
      },
      "execution_count": 62,
      "outputs": [
        {
          "output_type": "stream",
          "name": "stdout",
          "text": [
            "Favor digitar um número: 23\n",
            "23\n"
          ]
        }
      ]
    },
    {
      "cell_type": "code",
      "source": [
        "nome = input(\"Favor digitar seu nome: \")\n",
        "print(f\"Você digitou {nome}\")\n",
        "print(f\"Olá , {nome}!\")"
      ],
      "metadata": {
        "colab": {
          "base_uri": "https://localhost:8080/"
        },
        "id": "p4qBzlAEw2ID",
        "outputId": "5ba18c01-4d9f-4d32-e98d-8db6b5c5f64b"
      },
      "execution_count": 63,
      "outputs": [
        {
          "output_type": "stream",
          "name": "stdout",
          "text": [
            "Favor digitar seu nome: Ricardo\n",
            "Você digitou Ricardo\n",
            "Olá , Ricardo!\n"
          ]
        }
      ]
    },
    {
      "cell_type": "code",
      "source": [
        "ano = int(input(\"Anos de serviço:\"))\n",
        "valor_anual = float(input(\"Valor anual:\"))\n",
        "extra = ano * valor_anual\n",
        "print(f\"Extra em R$ {extra:.2f}\")"
      ],
      "metadata": {
        "colab": {
          "base_uri": "https://localhost:8080/"
        },
        "id": "2kroxR-1x1w9",
        "outputId": "01a7ad9e-bbfc-40d8-eca5-9ef76748f85d"
      },
      "execution_count": 65,
      "outputs": [
        {
          "output_type": "stream",
          "name": "stdout",
          "text": [
            "Anos de serviço:15\n",
            "Valor anual:67253.60\n",
            "Extra em R$ 1008804.00\n"
          ]
        }
      ]
    }
  ]
}