{
  "nbformat": 4,
  "nbformat_minor": 0,
  "metadata": {
    "colab": {
      "provenance": []
    },
    "kernelspec": {
      "name": "python3",
      "display_name": "Python 3"
    },
    "language_info": {
      "name": "python"
    }
  },
  "cells": [
    {
      "cell_type": "markdown",
      "source": [
        "## Função como parâmetro"
      ],
      "metadata": {
        "id": "57rUWIKG0Z7Y"
      }
    },
    {
      "cell_type": "code",
      "execution_count": 1,
      "metadata": {
        "id": "hmKHuzclyXrY"
      },
      "outputs": [],
      "source": [
        "def soma(a,b):\n",
        "  return a+b\n"
      ]
    },
    {
      "cell_type": "code",
      "source": [
        "def subtração(a, b):\n",
        "  return a-b"
      ],
      "metadata": {
        "id": "sBJ7qW9gzSid"
      },
      "execution_count": 3,
      "outputs": []
    },
    {
      "cell_type": "code",
      "source": [
        "def imprime(a, b, foper):\n",
        "  print(foper(a, b))"
      ],
      "metadata": {
        "id": "6NtYODjkzSd5"
      },
      "execution_count": 4,
      "outputs": []
    },
    {
      "cell_type": "code",
      "source": [
        "imprime(5, 4, subtração)"
      ],
      "metadata": {
        "colab": {
          "base_uri": "https://localhost:8080/"
        },
        "id": "0GPyLh680DYj",
        "outputId": "7b8b17f9-8234-4ded-b0d7-fe171b33c724"
      },
      "execution_count": 5,
      "outputs": [
        {
          "output_type": "stream",
          "name": "stdout",
          "text": [
            "1\n"
          ]
        }
      ]
    },
    {
      "cell_type": "code",
      "source": [
        "imprime(9, 7, soma)"
      ],
      "metadata": {
        "colab": {
          "base_uri": "https://localhost:8080/"
        },
        "id": "2hBXJxjW0jAx",
        "outputId": "3b55c6df-7e61-487c-836a-3c37683b3111"
      },
      "execution_count": 7,
      "outputs": [
        {
          "output_type": "stream",
          "name": "stdout",
          "text": [
            "16\n"
          ]
        }
      ]
    },
    {
      "cell_type": "markdown",
      "source": [
        "## Empacotamento e desempacotamento de parâmetros"
      ],
      "metadata": {
        "id": "q9E_RNbG0zJJ"
      }
    },
    {
      "cell_type": "code",
      "source": [
        "def soma(a,b):\n",
        "  print(a+b)"
      ],
      "metadata": {
        "id": "H-k0_PAe05X8"
      },
      "execution_count": 8,
      "outputs": []
    },
    {
      "cell_type": "code",
      "source": [
        "lista = [5, 6]"
      ],
      "metadata": {
        "id": "6Owmv5tr1EVm"
      },
      "execution_count": 9,
      "outputs": []
    },
    {
      "cell_type": "code",
      "source": [
        "soma(*lista)"
      ],
      "metadata": {
        "colab": {
          "base_uri": "https://localhost:8080/"
        },
        "id": "DVkV6Vbr1Is_",
        "outputId": "d9253f49-d0f5-47e0-dd43-c7f529ad659e"
      },
      "execution_count": 10,
      "outputs": [
        {
          "output_type": "stream",
          "name": "stdout",
          "text": [
            "11\n"
          ]
        }
      ]
    },
    {
      "cell_type": "code",
      "source": [
        "def soma(*args):\n",
        "  s=0\n",
        "  for x in args:\n",
        "    s+=x\n",
        "  return s"
      ],
      "metadata": {
        "id": "tps5_tf31nkn"
      },
      "execution_count": 11,
      "outputs": []
    },
    {
      "cell_type": "code",
      "source": [
        "soma(4, 5, 6)"
      ],
      "metadata": {
        "colab": {
          "base_uri": "https://localhost:8080/"
        },
        "id": "9TrGyX9-13C9",
        "outputId": "f6bfaa00-ff89-4d40-ca03-c8009ebd8124"
      },
      "execution_count": 13,
      "outputs": [
        {
          "output_type": "execute_result",
          "data": {
            "text/plain": [
              "15"
            ]
          },
          "metadata": {},
          "execution_count": 13
        }
      ]
    },
    {
      "cell_type": "markdown",
      "source": [
        "## Função Lambda\n"
      ],
      "metadata": {
        "id": "hGQEsY5G291z"
      }
    },
    {
      "cell_type": "code",
      "source": [
        "Funcao_lambda = lambda x: x*2"
      ],
      "metadata": {
        "id": "O_bWUyuN3Dji"
      },
      "execution_count": 15,
      "outputs": []
    },
    {
      "cell_type": "code",
      "source": [
        "print(Funcao_lambda(6))"
      ],
      "metadata": {
        "colab": {
          "base_uri": "https://localhost:8080/"
        },
        "id": "fhFlzoYl3YWy",
        "outputId": "46feb1be-053b-4b30-dcbf-2acedde545e0"
      },
      "execution_count": 16,
      "outputs": [
        {
          "output_type": "stream",
          "name": "stdout",
          "text": [
            "12\n"
          ]
        }
      ]
    },
    {
      "cell_type": "markdown",
      "source": [
        "## Números Aleatórios em Python\n",
        "\n",
        "import random"
      ],
      "metadata": {
        "id": "bnfpT3MR4TSV"
      }
    },
    {
      "cell_type": "code",
      "source": [
        "import random\n",
        "\n",
        "for x in range(10):\n",
        "  print(random.uniform(15, 20))"
      ],
      "metadata": {
        "colab": {
          "base_uri": "https://localhost:8080/"
        },
        "id": "i3yhGnbS4NEa",
        "outputId": "a0fdaea8-6730-40a8-e1ad-e38084e2ca94"
      },
      "execution_count": 26,
      "outputs": [
        {
          "output_type": "stream",
          "name": "stdout",
          "text": [
            "15.147196092724439\n",
            "16.20681734935934\n",
            "16.190640211894426\n",
            "16.16876667675573\n",
            "15.872419104434329\n",
            "18.18952452722445\n",
            "16.780708355823243\n",
            "17.040900381288267\n",
            "16.658535297131987\n",
            "18.314749149655892\n"
          ]
        }
      ]
    },
    {
      "cell_type": "code",
      "source": [
        "print(random.sample(range(1,100), 6))"
      ],
      "metadata": {
        "colab": {
          "base_uri": "https://localhost:8080/"
        },
        "id": "3QmlCDE86Rho",
        "outputId": "6733d693-275b-40ac-898e-2622c436b90d"
      },
      "execution_count": 28,
      "outputs": [
        {
          "output_type": "stream",
          "name": "stdout",
          "text": [
            "[99, 50, 13, 87, 27, 20]\n"
          ]
        }
      ]
    },
    {
      "cell_type": "markdown",
      "source": [
        "# Função type"
      ],
      "metadata": {
        "id": "OQTyoHGw7srH"
      }
    },
    {
      "cell_type": "code",
      "source": [
        "numero = 15"
      ],
      "metadata": {
        "id": "RghcXE277sUu"
      },
      "execution_count": 29,
      "outputs": []
    },
    {
      "cell_type": "code",
      "source": [
        "type(numero)"
      ],
      "metadata": {
        "colab": {
          "base_uri": "https://localhost:8080/"
        },
        "id": "oyPFXAVw70Y7",
        "outputId": "7916a101-ff6f-4a6c-b4a8-78f73330051f"
      },
      "execution_count": 30,
      "outputs": [
        {
          "output_type": "execute_result",
          "data": {
            "text/plain": [
              "int"
            ]
          },
          "metadata": {},
          "execution_count": 30
        }
      ]
    },
    {
      "cell_type": "code",
      "source": [
        "verdadeiro =  True"
      ],
      "metadata": {
        "id": "6gUuskAJ78y-"
      },
      "execution_count": 31,
      "outputs": []
    },
    {
      "cell_type": "code",
      "source": [
        "type(verdadeiro)"
      ],
      "metadata": {
        "colab": {
          "base_uri": "https://localhost:8080/"
        },
        "id": "m0ZI2-jW8BbB",
        "outputId": "c122003f-6559-477f-df2a-37e3a8c593fa"
      },
      "execution_count": 32,
      "outputs": [
        {
          "output_type": "execute_result",
          "data": {
            "text/plain": [
              "bool"
            ]
          },
          "metadata": {},
          "execution_count": 32
        }
      ]
    },
    {
      "cell_type": "code",
      "source": [
        "fracional = 5.23"
      ],
      "metadata": {
        "id": "p1a0xB3h8F_Q"
      },
      "execution_count": 33,
      "outputs": []
    },
    {
      "cell_type": "code",
      "source": [
        "type(fracional)"
      ],
      "metadata": {
        "colab": {
          "base_uri": "https://localhost:8080/"
        },
        "id": "48prUTCT8Jzs",
        "outputId": "7f15a009-9389-4cd9-977e-b5ef83592087"
      },
      "execution_count": 34,
      "outputs": [
        {
          "output_type": "execute_result",
          "data": {
            "text/plain": [
              "float"
            ]
          },
          "metadata": {},
          "execution_count": 34
        }
      ]
    },
    {
      "cell_type": "code",
      "source": [
        "lista = []"
      ],
      "metadata": {
        "id": "19HGjNEL8OUp"
      },
      "execution_count": 35,
      "outputs": []
    },
    {
      "cell_type": "code",
      "source": [
        "type(lista)"
      ],
      "metadata": {
        "colab": {
          "base_uri": "https://localhost:8080/"
        },
        "id": "Gr1XRN5l8Q28",
        "outputId": "5116e158-35c6-4dcf-84b3-7933e3757d08"
      },
      "execution_count": 36,
      "outputs": [
        {
          "output_type": "execute_result",
          "data": {
            "text/plain": [
              "list"
            ]
          },
          "metadata": {},
          "execution_count": 36
        }
      ]
    },
    {
      "cell_type": "code",
      "source": [
        "dicionario = {}"
      ],
      "metadata": {
        "id": "OR-KzycO8axj"
      },
      "execution_count": 37,
      "outputs": []
    },
    {
      "cell_type": "code",
      "source": [
        "type(dicionario)"
      ],
      "metadata": {
        "colab": {
          "base_uri": "https://localhost:8080/"
        },
        "id": "LLBTgLW_8dw0",
        "outputId": "8c24c9fc-0441-456e-d14f-5100497606a5"
      },
      "execution_count": 38,
      "outputs": [
        {
          "output_type": "execute_result",
          "data": {
            "text/plain": [
              "dict"
            ]
          },
          "metadata": {},
          "execution_count": 38
        }
      ]
    },
    {
      "cell_type": "code",
      "source": [
        "def soma():\n",
        "  return "
      ],
      "metadata": {
        "id": "-M7zAbzO8i2U"
      },
      "execution_count": 40,
      "outputs": []
    },
    {
      "cell_type": "code",
      "source": [
        "type(soma)"
      ],
      "metadata": {
        "colab": {
          "base_uri": "https://localhost:8080/"
        },
        "id": "T14gis4W8sjx",
        "outputId": "bc29cd3c-988d-4786-f377-5640ddc1030b"
      },
      "execution_count": 41,
      "outputs": [
        {
          "output_type": "execute_result",
          "data": {
            "text/plain": [
              "function"
            ]
          },
          "metadata": {},
          "execution_count": 41
        }
      ]
    },
    {
      "cell_type": "markdown",
      "source": [
        "## List Comprehensions"
      ],
      "metadata": {
        "id": "Dxj1jRMk86c5"
      }
    },
    {
      "cell_type": "code",
      "source": [
        "lista = [x for x in range(10) if x%2 !=0]"
      ],
      "metadata": {
        "id": "Ro2q34t586CL"
      },
      "execution_count": 57,
      "outputs": []
    },
    {
      "cell_type": "code",
      "source": [
        "lista"
      ],
      "metadata": {
        "colab": {
          "base_uri": "https://localhost:8080/"
        },
        "id": "HqeSgd5Q9IDY",
        "outputId": "03062fa4-e55d-4126-afd3-0840f40870f3"
      },
      "execution_count": 58,
      "outputs": [
        {
          "output_type": "execute_result",
          "data": {
            "text/plain": [
              "[1, 3, 5, 7, 9]"
            ]
          },
          "metadata": {},
          "execution_count": 58
        }
      ]
    },
    {
      "cell_type": "code",
      "source": [
        "letras = [s.upper() for s in \"fghijk\"]"
      ],
      "metadata": {
        "id": "iv_KUDtG96Od"
      },
      "execution_count": 50,
      "outputs": []
    },
    {
      "cell_type": "code",
      "source": [
        "letras"
      ],
      "metadata": {
        "colab": {
          "base_uri": "https://localhost:8080/"
        },
        "id": "wzXHw53W-EWF",
        "outputId": "8dc9c306-9b3c-4781-8fa5-7410b9159b90"
      },
      "execution_count": 51,
      "outputs": [
        {
          "output_type": "execute_result",
          "data": {
            "text/plain": [
              "['F', 'G', 'H', 'I', 'J', 'K']"
            ]
          },
          "metadata": {},
          "execution_count": 51
        }
      ]
    },
    {
      "cell_type": "code",
      "source": [
        "import math"
      ],
      "metadata": {
        "id": "2hDP-_lU-oG1"
      },
      "execution_count": 59,
      "outputs": []
    },
    {
      "cell_type": "code",
      "source": [
        "lista = [math.sqrt(x) for x in range(0, 10)]"
      ],
      "metadata": {
        "id": "phl_tKRj-qfA"
      },
      "execution_count": 60,
      "outputs": []
    },
    {
      "cell_type": "code",
      "source": [
        "lista"
      ],
      "metadata": {
        "colab": {
          "base_uri": "https://localhost:8080/"
        },
        "id": "JEf2Z57F-3-X",
        "outputId": "42e1efcf-a2e1-46ce-8d6f-a5b528d90d90"
      },
      "execution_count": 61,
      "outputs": [
        {
          "output_type": "execute_result",
          "data": {
            "text/plain": [
              "[0.0,\n",
              " 1.0,\n",
              " 1.4142135623730951,\n",
              " 1.7320508075688772,\n",
              " 2.0,\n",
              " 2.23606797749979,\n",
              " 2.449489742783178,\n",
              " 2.6457513110645907,\n",
              " 2.8284271247461903,\n",
              " 3.0]"
            ]
          },
          "metadata": {},
          "execution_count": 61
        }
      ]
    }
  ]
}