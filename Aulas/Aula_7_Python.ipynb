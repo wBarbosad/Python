{
  "nbformat": 4,
  "nbformat_minor": 0,
  "metadata": {
    "colab": {
      "provenance": []
    },
    "kernelspec": {
      "name": "python3",
      "display_name": "Python 3"
    },
    "language_info": {
      "name": "python"
    }
  },
  "cells": [
    {
      "cell_type": "markdown",
      "source": [
        "## DICIONÁRIOS\n",
        "\n",
        "São compostos de uma chave e um valor que se relacionam."
      ],
      "metadata": {
        "id": "YvTB6lHGse_N"
      }
    },
    {
      "cell_type": "code",
      "execution_count": 1,
      "metadata": {
        "id": "1Y16RYMWq0up"
      },
      "outputs": [],
      "source": [
        "tabela = {\"Alface\" : 3.0, \"Arroz\": 7.0, \"Tomate\": 7.0, \"Feijão\": 8.0}"
      ]
    },
    {
      "cell_type": "code",
      "source": [
        "print(tabela[\"Tomate\"])"
      ],
      "metadata": {
        "colab": {
          "base_uri": "https://localhost:8080/"
        },
        "id": "sc5WcxaHtmHk",
        "outputId": "b1801586-2d08-46c2-ab8b-8fd6d5e58c83"
      },
      "execution_count": 2,
      "outputs": [
        {
          "output_type": "stream",
          "name": "stdout",
          "text": [
            "7.0\n"
          ]
        }
      ]
    },
    {
      "cell_type": "code",
      "source": [
        "tabela"
      ],
      "metadata": {
        "colab": {
          "base_uri": "https://localhost:8080/"
        },
        "id": "XPrjOmFyt8G9",
        "outputId": "9acf19cd-adcc-476e-f27f-0f8c6377602f"
      },
      "execution_count": 3,
      "outputs": [
        {
          "output_type": "execute_result",
          "data": {
            "text/plain": [
              "{'Alface': 3.0, 'Arroz': 7.0, 'Tomate': 7.0, 'Feijão': 8.0}"
            ]
          },
          "metadata": {},
          "execution_count": 3
        }
      ]
    },
    {
      "cell_type": "code",
      "source": [
        "tabela[\"Tomate\"]=5.6"
      ],
      "metadata": {
        "id": "_rdX6JkxuE8h"
      },
      "execution_count": 4,
      "outputs": []
    },
    {
      "cell_type": "code",
      "source": [
        "tabela"
      ],
      "metadata": {
        "colab": {
          "base_uri": "https://localhost:8080/"
        },
        "id": "UKQqz5pOuJ8t",
        "outputId": "861e368d-ea65-4078-fe90-67e3d4a57060"
      },
      "execution_count": 5,
      "outputs": [
        {
          "output_type": "execute_result",
          "data": {
            "text/plain": [
              "{'Alface': 3.0, 'Arroz': 7.0, 'Tomate': 5.6, 'Feijão': 8.0}"
            ]
          },
          "metadata": {},
          "execution_count": 5
        }
      ]
    },
    {
      "cell_type": "code",
      "source": [
        "tabela[\"Cebola\"]=4.0"
      ],
      "metadata": {
        "id": "BeUuyze6uPjd"
      },
      "execution_count": 8,
      "outputs": []
    },
    {
      "cell_type": "code",
      "source": [
        "tabela"
      ],
      "metadata": {
        "colab": {
          "base_uri": "https://localhost:8080/"
        },
        "id": "bPP_THVNuU6d",
        "outputId": "bae0c99a-ed3a-46a7-ed10-936938184729"
      },
      "execution_count": 9,
      "outputs": [
        {
          "output_type": "execute_result",
          "data": {
            "text/plain": [
              "{'Alface': 3.0, 'Arroz': 7.0, 'Tomate': 5.6, 'Feijão': 8.0, 'Cebola': 4.0}"
            ]
          },
          "metadata": {},
          "execution_count": 9
        }
      ]
    },
    {
      "cell_type": "code",
      "source": [
        "print(\"Uva\" in tabela)"
      ],
      "metadata": {
        "colab": {
          "base_uri": "https://localhost:8080/"
        },
        "id": "gmwofesuu0Fr",
        "outputId": "c21c0f1d-ba54-42de-8e91-fee98a9a66a1"
      },
      "execution_count": 11,
      "outputs": [
        {
          "output_type": "stream",
          "name": "stdout",
          "text": [
            "False\n"
          ]
        }
      ]
    },
    {
      "cell_type": "code",
      "source": [
        "print(tabela.keys())"
      ],
      "metadata": {
        "colab": {
          "base_uri": "https://localhost:8080/"
        },
        "id": "4L25seUjvFIw",
        "outputId": "6b5c66db-31c7-4320-ce9d-091ec68b0a4e"
      },
      "execution_count": 13,
      "outputs": [
        {
          "output_type": "stream",
          "name": "stdout",
          "text": [
            "dict_keys(['Alface', 'Arroz', 'Tomate', 'Feijão', 'Cebola'])\n"
          ]
        }
      ]
    },
    {
      "cell_type": "code",
      "source": [
        "tabela.values()"
      ],
      "metadata": {
        "colab": {
          "base_uri": "https://localhost:8080/"
        },
        "id": "qnenn9aAvQW9",
        "outputId": "ac639064-0da2-47e9-a7e4-e12ad179775c"
      },
      "execution_count": 14,
      "outputs": [
        {
          "output_type": "execute_result",
          "data": {
            "text/plain": [
              "dict_values([3.0, 7.0, 5.6, 8.0, 4.0])"
            ]
          },
          "metadata": {},
          "execution_count": 14
        }
      ]
    },
    {
      "cell_type": "code",
      "source": [
        "while True:\n",
        "  produto = input(\"Digite o nome do produto, fim para terminar:\")\n",
        "  if produto == \"fim\":\n",
        "    break\n",
        "  if produto in tabela:\n",
        "    print(f\"Preço {tabela[produto]:5.2f}\")\n",
        "  else:\n",
        "    print(\"Produto não existe no mercado!\")"
      ],
      "metadata": {
        "colab": {
          "base_uri": "https://localhost:8080/"
        },
        "id": "ADdbcBa5vhr2",
        "outputId": "3288860b-d9f9-4715-b13c-0e803809d210"
      },
      "execution_count": 17,
      "outputs": [
        {
          "name": "stdout",
          "output_type": "stream",
          "text": [
            "Digite o nome do produto, fim para terminar:Arroz\n",
            "Preço  7.00\n",
            "Digite o nome do produto, fim para terminar:Cebola\n",
            "Preço  4.00\n",
            "Digite o nome do produto, fim para terminar:Tomate\n",
            "Preço  5.60\n",
            "Digite o nome do produto, fim para terminar:Batata\n",
            "Produto não existe no mercado!\n",
            "Digite o nome do produto, fim para terminar:fim\n"
          ]
        }
      ]
    },
    {
      "cell_type": "markdown",
      "source": [
        "chave: valor\n",
        "\n",
        "chave: lista"
      ],
      "metadata": {
        "id": "hGDHvTQgyCaJ"
      }
    },
    {
      "cell_type": "code",
      "source": [
        "estoque = {\"Alface\" : [1000, 3.0], \"Arroz\":[500, 7.0], \"Tomate\": [80, 7.0], \"Feijão\": [ 300, 8.0]}"
      ],
      "metadata": {
        "id": "qGaeT4_YyZHN"
      },
      "execution_count": 25,
      "outputs": []
    },
    {
      "cell_type": "code",
      "source": [
        "estoque[\"Alface\"]"
      ],
      "metadata": {
        "colab": {
          "base_uri": "https://localhost:8080/"
        },
        "id": "-7LGeehGyxkZ",
        "outputId": "70b7611c-f297-4ebb-ce8e-0f43a8bb7c82"
      },
      "execution_count": 20,
      "outputs": [
        {
          "output_type": "execute_result",
          "data": {
            "text/plain": [
              "[1000, 3.0]"
            ]
          },
          "metadata": {},
          "execution_count": 20
        }
      ]
    },
    {
      "cell_type": "code",
      "source": [
        "venda = [[\"Tomate\", 5], [\"Arroz\", 6], [\"Alface\", 10]]\n",
        "total = 0\n",
        "print(\"Vendas: \\n\")\n",
        "for operação in venda:\n",
        "  produto, quantidade = operação\n",
        "  preço = estoque[produto][1]\n",
        "  custo = preço*quantidade\n",
        "  print(f\"{produto:12s}:{quantidade:3d}x{preço:6.2f} = {custo:6.2f}\")\n",
        "  estoque[produto][0]-=quantidade\n",
        "  total+=custo\n",
        "print(f\" Custo total:{total:21.2f}\")\n",
        "print(\"Estoque: \\n\")\n",
        "for chave, dados in estoque.items():\n",
        "  print(\"Decrição\", chave)\n",
        "  print(\"Quantidade\", dados[0])\n",
        "  print(f\"Preço {dados[1]:6.2f} \\n\")"
      ],
      "metadata": {
        "colab": {
          "base_uri": "https://localhost:8080/"
        },
        "id": "d9OiVhz5y-gJ",
        "outputId": "4a1a288d-3aa2-4e5a-ce36-05243eb0fce7"
      },
      "execution_count": 27,
      "outputs": [
        {
          "output_type": "stream",
          "name": "stdout",
          "text": [
            "Vendas: \n",
            "\n",
            "Tomate      :  5x  7.00 =  35.00\n",
            "Arroz       :  6x  7.00 =  42.00\n",
            "Alface      : 10x  3.00 =  30.00\n",
            " Custo total:               107.00\n",
            "Estoque: \n",
            "\n",
            "Decrição Alface\n",
            "Quantidade 980\n",
            "Preço   3.00 \n",
            "\n",
            "Decrição Arroz\n",
            "Quantidade 488\n",
            "Preço   7.00 \n",
            "\n",
            "Decrição Tomate\n",
            "Quantidade 70\n",
            "Preço   7.00 \n",
            "\n",
            "Decrição Feijão\n",
            "Quantidade 300\n",
            "Preço   8.00 \n",
            "\n"
          ]
        }
      ]
    },
    {
      "cell_type": "code",
      "source": [
        "dicionario = {}\n",
        "\n",
        "for letra in \"abacate\":\n",
        "  dicionario[letra]=dicionario.get(letra,0)+1\n",
        "print(dicionario)"
      ],
      "metadata": {
        "colab": {
          "base_uri": "https://localhost:8080/"
        },
        "id": "dLNq47EO4Ib5",
        "outputId": "bc7f7d87-dd6b-42e6-c65d-397993b3dac9"
      },
      "execution_count": 34,
      "outputs": [
        {
          "output_type": "stream",
          "name": "stdout",
          "text": [
            "{'a': 3, 'b': 1, 'c': 1, 't': 1, 'e': 1}\n"
          ]
        }
      ]
    },
    {
      "cell_type": "markdown",
      "source": [
        "## Tuplas\n",
        "\n",
        "São imutáveis"
      ],
      "metadata": {
        "id": "-gd27awt6LS6"
      }
    },
    {
      "cell_type": "code",
      "source": [
        "tupla = (\"a\", \"b\", \"c\", \"d\")"
      ],
      "metadata": {
        "id": "MteuBip16Jrf"
      },
      "execution_count": 35,
      "outputs": []
    },
    {
      "cell_type": "code",
      "source": [
        "tupla"
      ],
      "metadata": {
        "colab": {
          "base_uri": "https://localhost:8080/"
        },
        "id": "nxAxF6To64O1",
        "outputId": "69dfa5d6-b4f2-4d8b-9787-6b3d098519dd"
      },
      "execution_count": 36,
      "outputs": [
        {
          "output_type": "execute_result",
          "data": {
            "text/plain": [
              "('a', 'b', 'c', 'd')"
            ]
          },
          "metadata": {},
          "execution_count": 36
        }
      ]
    },
    {
      "cell_type": "code",
      "source": [
        "tupla[1:]"
      ],
      "metadata": {
        "colab": {
          "base_uri": "https://localhost:8080/"
        },
        "id": "uwKnMbqD7Bto",
        "outputId": "e2d9f309-f33a-4663-cabf-9eac0937fb27"
      },
      "execution_count": 41,
      "outputs": [
        {
          "output_type": "execute_result",
          "data": {
            "text/plain": [
              "('b', 'c', 'd')"
            ]
          },
          "metadata": {},
          "execution_count": 41
        }
      ]
    },
    {
      "cell_type": "code",
      "source": [
        "tupla*2"
      ],
      "metadata": {
        "colab": {
          "base_uri": "https://localhost:8080/"
        },
        "id": "IJK0utVv7PWF",
        "outputId": "140d8d9e-0378-48cf-de4a-289e79e5a127"
      },
      "execution_count": 42,
      "outputs": [
        {
          "output_type": "execute_result",
          "data": {
            "text/plain": [
              "('a', 'b', 'c', 'd', 'a', 'b', 'c', 'd')"
            ]
          },
          "metadata": {},
          "execution_count": 42
        }
      ]
    },
    {
      "cell_type": "code",
      "source": [
        "len(tupla)"
      ],
      "metadata": {
        "colab": {
          "base_uri": "https://localhost:8080/"
        },
        "id": "2FcIlHsd7Sst",
        "outputId": "bf687509-11bf-44a1-d2b2-d10bb6f28b34"
      },
      "execution_count": 43,
      "outputs": [
        {
          "output_type": "execute_result",
          "data": {
            "text/plain": [
              "4"
            ]
          },
          "metadata": {},
          "execution_count": 43
        }
      ]
    },
    {
      "cell_type": "code",
      "source": [
        "tupla[0]=\"A\""
      ],
      "metadata": {
        "colab": {
          "base_uri": "https://localhost:8080/",
          "height": 170
        },
        "id": "rKRZmXFd7ZR0",
        "outputId": "0c929511-54c9-400e-d3f1-ab86f5a3b684"
      },
      "execution_count": 44,
      "outputs": [
        {
          "output_type": "error",
          "ename": "TypeError",
          "evalue": "ignored",
          "traceback": [
            "\u001b[0;31m---------------------------------------------------------------------------\u001b[0m",
            "\u001b[0;31mTypeError\u001b[0m                                 Traceback (most recent call last)",
            "\u001b[0;32m<ipython-input-44-486b1331fc79>\u001b[0m in \u001b[0;36m<cell line: 1>\u001b[0;34m()\u001b[0m\n\u001b[0;32m----> 1\u001b[0;31m \u001b[0mtupla\u001b[0m\u001b[0;34m[\u001b[0m\u001b[0;36m0\u001b[0m\u001b[0;34m]\u001b[0m\u001b[0;34m=\u001b[0m\u001b[0;34m\"A\"\u001b[0m\u001b[0;34m\u001b[0m\u001b[0;34m\u001b[0m\u001b[0m\n\u001b[0m",
            "\u001b[0;31mTypeError\u001b[0m: 'tuple' object does not support item assignment"
          ]
        }
      ]
    },
    {
      "cell_type": "code",
      "source": [
        "a, b = 10, 20"
      ],
      "metadata": {
        "id": "QzzKdKZj7r12"
      },
      "execution_count": 45,
      "outputs": []
    },
    {
      "cell_type": "code",
      "source": [
        "a"
      ],
      "metadata": {
        "colab": {
          "base_uri": "https://localhost:8080/"
        },
        "id": "lLurkGHt7vdr",
        "outputId": "08bcdd85-b5f4-4148-faf7-273dd2fd6874"
      },
      "execution_count": 46,
      "outputs": [
        {
          "output_type": "execute_result",
          "data": {
            "text/plain": [
              "10"
            ]
          },
          "metadata": {},
          "execution_count": 46
        }
      ]
    },
    {
      "cell_type": "code",
      "source": [
        "b"
      ],
      "metadata": {
        "colab": {
          "base_uri": "https://localhost:8080/"
        },
        "id": "5b0Ugc4t7x4f",
        "outputId": "c874df08-879e-4fda-923a-f6fca9d7d870"
      },
      "execution_count": 47,
      "outputs": [
        {
          "output_type": "execute_result",
          "data": {
            "text/plain": [
              "20"
            ]
          },
          "metadata": {},
          "execution_count": 47
        }
      ]
    },
    {
      "cell_type": "code",
      "source": [
        "a, b = b, a"
      ],
      "metadata": {
        "id": "7ow5WWPn75uk"
      },
      "execution_count": 48,
      "outputs": []
    },
    {
      "cell_type": "code",
      "source": [
        "a"
      ],
      "metadata": {
        "colab": {
          "base_uri": "https://localhost:8080/"
        },
        "id": "Ih3kw3Y379dY",
        "outputId": "72f342f5-b97c-4391-9c4a-c50f069eb864"
      },
      "execution_count": 49,
      "outputs": [
        {
          "output_type": "execute_result",
          "data": {
            "text/plain": [
              "20"
            ]
          },
          "metadata": {},
          "execution_count": 49
        }
      ]
    },
    {
      "cell_type": "code",
      "source": [
        "b"
      ],
      "metadata": {
        "colab": {
          "base_uri": "https://localhost:8080/"
        },
        "id": "73vwnLjp7_Ig",
        "outputId": "ef86e859-be84-4d30-81d1-b4954a641d35"
      },
      "execution_count": 50,
      "outputs": [
        {
          "output_type": "execute_result",
          "data": {
            "text/plain": [
              "10"
            ]
          },
          "metadata": {},
          "execution_count": 50
        }
      ]
    },
    {
      "cell_type": "code",
      "source": [
        "tupla1 = (10)"
      ],
      "metadata": {
        "id": "4d9imRkn8JLz"
      },
      "execution_count": 51,
      "outputs": []
    },
    {
      "cell_type": "code",
      "source": [
        "tupla1"
      ],
      "metadata": {
        "colab": {
          "base_uri": "https://localhost:8080/"
        },
        "id": "FQfeW-Sk8NFJ",
        "outputId": "281c8954-390e-441e-c312-a01ab4e8ca59"
      },
      "execution_count": 52,
      "outputs": [
        {
          "output_type": "execute_result",
          "data": {
            "text/plain": [
              "10"
            ]
          },
          "metadata": {},
          "execution_count": 52
        }
      ]
    },
    {
      "cell_type": "code",
      "source": [
        "tupla2 = (2.1)"
      ],
      "metadata": {
        "id": "ILm8B7cN8UQP"
      },
      "execution_count": 53,
      "outputs": []
    },
    {
      "cell_type": "code",
      "source": [
        "tupla2"
      ],
      "metadata": {
        "colab": {
          "base_uri": "https://localhost:8080/"
        },
        "id": "o9O6lNoj8emg",
        "outputId": "a706211e-a98c-4727-abdf-e504b0d273e5"
      },
      "execution_count": 54,
      "outputs": [
        {
          "output_type": "execute_result",
          "data": {
            "text/plain": [
              "2.1"
            ]
          },
          "metadata": {},
          "execution_count": 54
        }
      ]
    },
    {
      "cell_type": "code",
      "source": [
        "tupla3 = (2,)"
      ],
      "metadata": {
        "id": "qZVUN3h68guE"
      },
      "execution_count": 55,
      "outputs": []
    },
    {
      "cell_type": "code",
      "source": [
        "tupla3"
      ],
      "metadata": {
        "colab": {
          "base_uri": "https://localhost:8080/"
        },
        "id": "-BIIxzqk8kyq",
        "outputId": "e483b540-60fd-4503-83d1-2f2727b2aa7c"
      },
      "execution_count": 56,
      "outputs": [
        {
          "output_type": "execute_result",
          "data": {
            "text/plain": [
              "(2,)"
            ]
          },
          "metadata": {},
          "execution_count": 56
        }
      ]
    },
    {
      "cell_type": "code",
      "source": [
        "len(tupla3)"
      ],
      "metadata": {
        "colab": {
          "base_uri": "https://localhost:8080/"
        },
        "id": "QuMgYuK98pPC",
        "outputId": "c9231798-3081-4b88-a64b-ea85dea6fa39"
      },
      "execution_count": 57,
      "outputs": [
        {
          "output_type": "execute_result",
          "data": {
            "text/plain": [
              "1"
            ]
          },
          "metadata": {},
          "execution_count": 57
        }
      ]
    },
    {
      "cell_type": "code",
      "source": [
        "tupla4=()"
      ],
      "metadata": {
        "id": "Z1oLfXcp8uC1"
      },
      "execution_count": 58,
      "outputs": []
    },
    {
      "cell_type": "code",
      "source": [
        "len(tupla4)"
      ],
      "metadata": {
        "colab": {
          "base_uri": "https://localhost:8080/"
        },
        "id": "Ba9cRbUu8woI",
        "outputId": "3cf1308d-8746-460e-9067-47419bc4737a"
      },
      "execution_count": 59,
      "outputs": [
        {
          "output_type": "execute_result",
          "data": {
            "text/plain": [
              "0"
            ]
          },
          "metadata": {},
          "execution_count": 59
        }
      ]
    },
    {
      "cell_type": "code",
      "source": [
        "Lista=[1, 2 ,3]"
      ],
      "metadata": {
        "id": "ILpSJM9v81zZ"
      },
      "execution_count": 60,
      "outputs": []
    },
    {
      "cell_type": "code",
      "source": [
        "TuplaList=tuple(Lista)"
      ],
      "metadata": {
        "id": "6igBx7Zt87WG"
      },
      "execution_count": 61,
      "outputs": []
    },
    {
      "cell_type": "code",
      "source": [
        "TuplaList"
      ],
      "metadata": {
        "colab": {
          "base_uri": "https://localhost:8080/"
        },
        "id": "6Ql1yTeN9CIi",
        "outputId": "d005697d-069c-490a-8e89-f4e37cfb4e3f"
      },
      "execution_count": 62,
      "outputs": [
        {
          "output_type": "execute_result",
          "data": {
            "text/plain": [
              "(1, 2, 3)"
            ]
          },
          "metadata": {},
          "execution_count": 62
        }
      ]
    },
    {
      "cell_type": "code",
      "source": [
        "tupla1=(1, 2, 3)\n",
        "tupla2=(4, 5, 6)"
      ],
      "metadata": {
        "id": "qveFthmx9IMn"
      },
      "execution_count": 63,
      "outputs": []
    },
    {
      "cell_type": "code",
      "source": [
        "tupla1+tupla2"
      ],
      "metadata": {
        "colab": {
          "base_uri": "https://localhost:8080/"
        },
        "id": "3N5KWiY69REb",
        "outputId": "9766b57b-cf21-4008-8c94-7ee164ef7726"
      },
      "execution_count": 64,
      "outputs": [
        {
          "output_type": "execute_result",
          "data": {
            "text/plain": [
              "(1, 2, 3, 4, 5, 6)"
            ]
          },
          "metadata": {},
          "execution_count": 64
        }
      ]
    },
    {
      "cell_type": "code",
      "source": [
        "tupla = (\"a\", [\"b\", \"c\", \"d\", \"e\"])"
      ],
      "metadata": {
        "id": "1e6Dl6rl9iSY"
      },
      "execution_count": 65,
      "outputs": []
    },
    {
      "cell_type": "code",
      "source": [
        "tupla"
      ],
      "metadata": {
        "colab": {
          "base_uri": "https://localhost:8080/"
        },
        "id": "sLMQHONu9uFn",
        "outputId": "0df31360-e4e4-4a7a-e172-4e6ac8c1d195"
      },
      "execution_count": 66,
      "outputs": [
        {
          "output_type": "execute_result",
          "data": {
            "text/plain": [
              "('a', ['b', 'c', 'd', 'e'])"
            ]
          },
          "metadata": {},
          "execution_count": 66
        }
      ]
    },
    {
      "cell_type": "code",
      "source": [
        "len(tupla)"
      ],
      "metadata": {
        "colab": {
          "base_uri": "https://localhost:8080/"
        },
        "id": "bUzWbE329wTz",
        "outputId": "44fbea75-1b45-45f4-ca3c-72bf5089de3f"
      },
      "execution_count": 67,
      "outputs": [
        {
          "output_type": "execute_result",
          "data": {
            "text/plain": [
              "2"
            ]
          },
          "metadata": {},
          "execution_count": 67
        }
      ]
    },
    {
      "cell_type": "code",
      "source": [
        "tupla[1]"
      ],
      "metadata": {
        "colab": {
          "base_uri": "https://localhost:8080/"
        },
        "id": "yX4UeFol905N",
        "outputId": "6ffc12a8-1cbf-45ed-f82f-1926f3e71f79"
      },
      "execution_count": 68,
      "outputs": [
        {
          "output_type": "execute_result",
          "data": {
            "text/plain": [
              "['b', 'c', 'd', 'e']"
            ]
          },
          "metadata": {},
          "execution_count": 68
        }
      ]
    },
    {
      "cell_type": "code",
      "source": [
        "tupla[1].append(\"f\")"
      ],
      "metadata": {
        "id": "8fG__gAB949x"
      },
      "execution_count": 69,
      "outputs": []
    },
    {
      "cell_type": "code",
      "source": [
        "tupla"
      ],
      "metadata": {
        "colab": {
          "base_uri": "https://localhost:8080/"
        },
        "id": "K5YPJFrB-B7e",
        "outputId": "cd1e7c34-0143-4194-e362-be4e2763dc35"
      },
      "execution_count": 70,
      "outputs": [
        {
          "output_type": "execute_result",
          "data": {
            "text/plain": [
              "('a', ['b', 'c', 'd', 'e', 'f'])"
            ]
          },
          "metadata": {},
          "execution_count": 70
        }
      ]
    },
    {
      "cell_type": "code",
      "source": [
        "a, b = 1, 2"
      ],
      "metadata": {
        "id": "tN-m5DPV-He8"
      },
      "execution_count": 71,
      "outputs": []
    },
    {
      "cell_type": "code",
      "source": [
        "b, c =[3, 4]"
      ],
      "metadata": {
        "id": "YemsVs8D-h2O"
      },
      "execution_count": 72,
      "outputs": []
    },
    {
      "cell_type": "code",
      "source": [
        "a"
      ],
      "metadata": {
        "colab": {
          "base_uri": "https://localhost:8080/"
        },
        "id": "b954FNth-mcB",
        "outputId": "63bf29ca-7779-4f27-b922-57e9832cdd9a"
      },
      "execution_count": 73,
      "outputs": [
        {
          "output_type": "execute_result",
          "data": {
            "text/plain": [
              "1"
            ]
          },
          "metadata": {},
          "execution_count": 73
        }
      ]
    },
    {
      "cell_type": "code",
      "source": [
        "b"
      ],
      "metadata": {
        "colab": {
          "base_uri": "https://localhost:8080/"
        },
        "id": "mZg0FMaW-oNH",
        "outputId": "6becd886-b36b-4960-947d-9a70173135d7"
      },
      "execution_count": 74,
      "outputs": [
        {
          "output_type": "execute_result",
          "data": {
            "text/plain": [
              "3"
            ]
          },
          "metadata": {},
          "execution_count": 74
        }
      ]
    },
    {
      "cell_type": "code",
      "source": [
        "*a, b=[1, 2, 3, 4]"
      ],
      "metadata": {
        "id": "q7kzWMcD-zPU"
      },
      "execution_count": 75,
      "outputs": []
    },
    {
      "cell_type": "code",
      "source": [
        "a"
      ],
      "metadata": {
        "colab": {
          "base_uri": "https://localhost:8080/"
        },
        "id": "u0HxjpyB-y8x",
        "outputId": "6dc8965e-a926-4a22-9b32-e4018482e511"
      },
      "execution_count": 76,
      "outputs": [
        {
          "output_type": "execute_result",
          "data": {
            "text/plain": [
              "[1, 2, 3]"
            ]
          },
          "metadata": {},
          "execution_count": 76
        }
      ]
    },
    {
      "cell_type": "code",
      "source": [
        "b"
      ],
      "metadata": {
        "colab": {
          "base_uri": "https://localhost:8080/"
        },
        "id": "m2UXGhGX-7-1",
        "outputId": "fb2711ec-495f-4711-cac3-947f56a34cbe"
      },
      "execution_count": 77,
      "outputs": [
        {
          "output_type": "execute_result",
          "data": {
            "text/plain": [
              "4"
            ]
          },
          "metadata": {},
          "execution_count": 77
        }
      ]
    },
    {
      "cell_type": "code",
      "source": [
        "a, *b=[1, 2, 3, 4]"
      ],
      "metadata": {
        "id": "Q4jD0t7D_CwQ"
      },
      "execution_count": 78,
      "outputs": []
    },
    {
      "cell_type": "code",
      "source": [
        "a"
      ],
      "metadata": {
        "colab": {
          "base_uri": "https://localhost:8080/"
        },
        "id": "cxrtvdj7_FaP",
        "outputId": "9368bd77-9a9d-4dd7-9f63-4493f13d8d03"
      },
      "execution_count": 79,
      "outputs": [
        {
          "output_type": "execute_result",
          "data": {
            "text/plain": [
              "1"
            ]
          },
          "metadata": {},
          "execution_count": 79
        }
      ]
    },
    {
      "cell_type": "code",
      "source": [
        "b"
      ],
      "metadata": {
        "colab": {
          "base_uri": "https://localhost:8080/"
        },
        "id": "KL0ALUGB_HK1",
        "outputId": "ddae902f-7d41-4379-d8df-74e47877a23f"
      },
      "execution_count": 80,
      "outputs": [
        {
          "output_type": "execute_result",
          "data": {
            "text/plain": [
              "[2, 3, 4]"
            ]
          },
          "metadata": {},
          "execution_count": 80
        }
      ]
    },
    {
      "cell_type": "code",
      "source": [
        "a, *b, c=[1, 2, 3, 4, 5 , 6]"
      ],
      "metadata": {
        "id": "9kIJEFZd_NH1"
      },
      "execution_count": 81,
      "outputs": []
    },
    {
      "cell_type": "code",
      "source": [
        "a"
      ],
      "metadata": {
        "colab": {
          "base_uri": "https://localhost:8080/"
        },
        "id": "UUvwonoX_UgR",
        "outputId": "a906d858-1b6e-4205-f50c-a1adc4c12ce4"
      },
      "execution_count": 82,
      "outputs": [
        {
          "output_type": "execute_result",
          "data": {
            "text/plain": [
              "1"
            ]
          },
          "metadata": {},
          "execution_count": 82
        }
      ]
    },
    {
      "cell_type": "code",
      "source": [
        "c"
      ],
      "metadata": {
        "colab": {
          "base_uri": "https://localhost:8080/"
        },
        "id": "2MlfwbVb_W5O",
        "outputId": "722b29a9-5007-417b-d90d-f049c3f3191b"
      },
      "execution_count": 83,
      "outputs": [
        {
          "output_type": "execute_result",
          "data": {
            "text/plain": [
              "6"
            ]
          },
          "metadata": {},
          "execution_count": 83
        }
      ]
    },
    {
      "cell_type": "code",
      "source": [
        "b"
      ],
      "metadata": {
        "colab": {
          "base_uri": "https://localhost:8080/"
        },
        "id": "jbno2W4J_ZAI",
        "outputId": "381f3760-928f-48b3-9a3e-0ebf11a1b83d"
      },
      "execution_count": 84,
      "outputs": [
        {
          "output_type": "execute_result",
          "data": {
            "text/plain": [
              "[2, 3, 4, 5]"
            ]
          },
          "metadata": {},
          "execution_count": 84
        }
      ]
    },
    {
      "cell_type": "markdown",
      "source": [
        "## Set\n",
        "\n",
        "não admite elementos repetidos"
      ],
      "metadata": {
        "id": "YuF-ic-t_vax"
      }
    },
    {
      "cell_type": "code",
      "source": [
        "a=set()"
      ],
      "metadata": {
        "id": "UsQXVc8j_g0U"
      },
      "execution_count": 85,
      "outputs": []
    },
    {
      "cell_type": "code",
      "source": [
        "a.add(1)"
      ],
      "metadata": {
        "id": "xxL7Nd3B_9US"
      },
      "execution_count": 86,
      "outputs": []
    },
    {
      "cell_type": "code",
      "source": [
        "a.add(2)"
      ],
      "metadata": {
        "id": "TwoknUs-ADRl"
      },
      "execution_count": 87,
      "outputs": []
    },
    {
      "cell_type": "code",
      "source": [
        "a.add(3)"
      ],
      "metadata": {
        "id": "YExBvgKUAG87"
      },
      "execution_count": 88,
      "outputs": []
    },
    {
      "cell_type": "code",
      "source": [
        "a"
      ],
      "metadata": {
        "colab": {
          "base_uri": "https://localhost:8080/"
        },
        "id": "jCCOpmQmAJmy",
        "outputId": "8838dbf7-6c95-4322-bbcb-14473fd9facf"
      },
      "execution_count": 89,
      "outputs": [
        {
          "output_type": "execute_result",
          "data": {
            "text/plain": [
              "{1, 2, 3}"
            ]
          },
          "metadata": {},
          "execution_count": 89
        }
      ]
    },
    {
      "cell_type": "code",
      "source": [
        "a.add(1)"
      ],
      "metadata": {
        "id": "d_8E18TaAMSb"
      },
      "execution_count": 90,
      "outputs": []
    },
    {
      "cell_type": "code",
      "source": [
        "a"
      ],
      "metadata": {
        "colab": {
          "base_uri": "https://localhost:8080/"
        },
        "id": "Td-Kub3OANtG",
        "outputId": "6e199e66-e0b7-4573-f2ca-1ec8636b4a10"
      },
      "execution_count": 91,
      "outputs": [
        {
          "output_type": "execute_result",
          "data": {
            "text/plain": [
              "{1, 2, 3}"
            ]
          },
          "metadata": {},
          "execution_count": 91
        }
      ]
    },
    {
      "cell_type": "code",
      "source": [
        "4 in a"
      ],
      "metadata": {
        "colab": {
          "base_uri": "https://localhost:8080/"
        },
        "id": "QonK6GkNARh9",
        "outputId": "a0869130-3f1c-43ad-d784-ea1144368058"
      },
      "execution_count": 93,
      "outputs": [
        {
          "output_type": "execute_result",
          "data": {
            "text/plain": [
              "False"
            ]
          },
          "metadata": {},
          "execution_count": 93
        }
      ]
    },
    {
      "cell_type": "code",
      "source": [
        "b=set([2, 3, 4])"
      ],
      "metadata": {
        "id": "fMGgzI-eAYVW"
      },
      "execution_count": 94,
      "outputs": []
    },
    {
      "cell_type": "code",
      "source": [
        "b"
      ],
      "metadata": {
        "colab": {
          "base_uri": "https://localhost:8080/"
        },
        "id": "jFmu4ZdvAdEh",
        "outputId": "05f0a39a-d5f8-43e4-fe17-c53265a36cfd"
      },
      "execution_count": 95,
      "outputs": [
        {
          "output_type": "execute_result",
          "data": {
            "text/plain": [
              "{2, 3, 4}"
            ]
          },
          "metadata": {},
          "execution_count": 95
        }
      ]
    },
    {
      "cell_type": "code",
      "source": [
        "a - b"
      ],
      "metadata": {
        "colab": {
          "base_uri": "https://localhost:8080/"
        },
        "id": "lXPdErorAkEV",
        "outputId": "e6c74168-b55c-4a88-cc3d-124669a91c03"
      },
      "execution_count": 96,
      "outputs": [
        {
          "output_type": "execute_result",
          "data": {
            "text/plain": [
              "{1}"
            ]
          },
          "metadata": {},
          "execution_count": 96
        }
      ]
    },
    {
      "cell_type": "code",
      "source": [
        "a|b"
      ],
      "metadata": {
        "colab": {
          "base_uri": "https://localhost:8080/"
        },
        "id": "5tpYB-7fAvJK",
        "outputId": "88d0489e-8009-48a0-bf66-43c5123bc810"
      },
      "execution_count": 97,
      "outputs": [
        {
          "output_type": "execute_result",
          "data": {
            "text/plain": [
              "{1, 2, 3, 4}"
            ]
          },
          "metadata": {},
          "execution_count": 97
        }
      ]
    },
    {
      "cell_type": "code",
      "source": [
        "len(a|b)"
      ],
      "metadata": {
        "colab": {
          "base_uri": "https://localhost:8080/"
        },
        "id": "JIWNzCCQA0jG",
        "outputId": "1cf56325-6bd5-4e35-fe91-eef86ec1fa41"
      },
      "execution_count": 100,
      "outputs": [
        {
          "output_type": "execute_result",
          "data": {
            "text/plain": [
              "4"
            ]
          },
          "metadata": {},
          "execution_count": 100
        }
      ]
    }
  ]
}