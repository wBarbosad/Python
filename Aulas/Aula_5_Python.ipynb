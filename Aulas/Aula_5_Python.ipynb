{
  "nbformat": 4,
  "nbformat_minor": 0,
  "metadata": {
    "colab": {
      "provenance": []
    },
    "kernelspec": {
      "name": "python3",
      "display_name": "Python 3"
    },
    "language_info": {
      "name": "python"
    }
  },
  "cells": [
    {
      "cell_type": "code",
      "execution_count": 2,
      "metadata": {
        "id": "-rQ7zC4YimZG"
      },
      "outputs": [],
      "source": [
        "L=[15, 22, 4]"
      ]
    },
    {
      "cell_type": "code",
      "source": [
        "L[2]"
      ],
      "metadata": {
        "colab": {
          "base_uri": "https://localhost:8080/"
        },
        "id": "mao0mJfZl6BF",
        "outputId": "e510c8ff-4721-4097-c2a6-d227b374053b"
      },
      "execution_count": 4,
      "outputs": [
        {
          "output_type": "execute_result",
          "data": {
            "text/plain": [
              "4"
            ]
          },
          "metadata": {},
          "execution_count": 4
        }
      ]
    },
    {
      "cell_type": "code",
      "source": [
        "L[1]=8"
      ],
      "metadata": {
        "id": "i-yKwVOLmHhm"
      },
      "execution_count": 5,
      "outputs": []
    },
    {
      "cell_type": "code",
      "source": [
        "L[1]"
      ],
      "metadata": {
        "colab": {
          "base_uri": "https://localhost:8080/"
        },
        "id": "O8Upl94WmHJ_",
        "outputId": "9564cdb9-ee5e-403a-d8bb-2035d3e2d460"
      },
      "execution_count": 6,
      "outputs": [
        {
          "output_type": "execute_result",
          "data": {
            "text/plain": [
              "8"
            ]
          },
          "metadata": {},
          "execution_count": 6
        }
      ]
    },
    {
      "cell_type": "code",
      "source": [
        "notas=[0, 0, 0, 0, 0]\n",
        "soma = 0\n",
        "x=0\n",
        "while x<5:\n",
        "  notas[x] = float(input(f\"Nota{x}:\"))\n",
        "  soma+=notas[x]\n",
        "  x+=1\n",
        "print(f\"Média:{soma/x:5.2f}\")"
      ],
      "metadata": {
        "colab": {
          "base_uri": "https://localhost:8080/"
        },
        "id": "_V9LumeymXY-",
        "outputId": "f2f0be54-6d2f-458e-91b6-a3fcdb3ca88a"
      },
      "execution_count": 7,
      "outputs": [
        {
          "output_type": "stream",
          "name": "stdout",
          "text": [
            "Média: 6.80\n"
          ]
        }
      ]
    },
    {
      "cell_type": "markdown",
      "source": [
        "\n",
        "  ## Teste de mesa\n",
        "   \n",
        "   x soma\n",
        "\n",
        "   0  0\n",
        "  \n",
        "   1  6\n",
        "\n",
        "   2 13\n",
        "\n",
        "   3 21\n",
        "\n",
        "   4 26\n",
        "\n",
        "   5 34\n"
      ],
      "metadata": {
        "id": "gYqEN2ybnf7m"
      }
    },
    {
      "cell_type": "code",
      "source": [
        "numeros=[0, 0, 0, 0, 0]\n",
        "x=0\n",
        "while x<5:\n",
        "  numeros[x] = int(input(f\"Numero{x+1}:\"))\n",
        "  x+=1\n",
        "while True:\n",
        "  escolhido = int(input(\"Qual posicao devo imprimir (digite 0 para sair): \"))\n",
        "  if escolhido ==0:\n",
        "    break\n",
        "  print(f\"Você escolheu o número:{numeros[escolhido-1]}\")"
      ],
      "metadata": {
        "colab": {
          "base_uri": "https://localhost:8080/"
        },
        "id": "KoM64qCBq0Ei",
        "outputId": "d10ba359-1bdf-4c65-b34a-59359f22934e"
      },
      "execution_count": 10,
      "outputs": [
        {
          "name": "stdout",
          "output_type": "stream",
          "text": [
            "Numero1:11\n",
            "Numero2:22\n",
            "Numero3:33\n",
            "Numero4:44\n",
            "Numero5:55\n",
            "Qual posicao devo imprimir (digite 0 para sair): 1\n",
            "Você escolheu o número:22\n",
            "Qual posicao devo imprimir (digite 0 para sair): 4\n",
            "Você escolheu o número:55\n",
            "Qual posicao devo imprimir (digite 0 para sair): 3\n",
            "Você escolheu o número:44\n",
            "Qual posicao devo imprimir (digite 0 para sair): 0\n"
          ]
        }
      ]
    },
    {
      "cell_type": "markdown",
      "source": [
        "## Copia e Fatiamento de lista\n"
      ],
      "metadata": {
        "id": "0I7B1DoyuHr6"
      }
    },
    {
      "cell_type": "code",
      "source": [
        "L=[1, 2, 3, 4, 5 ,6, 7, 8]"
      ],
      "metadata": {
        "id": "7IBGuOgzuRq2"
      },
      "execution_count": 11,
      "outputs": []
    },
    {
      "cell_type": "code",
      "source": [
        "Copia = L"
      ],
      "metadata": {
        "id": "_PTGU182uZT2"
      },
      "execution_count": 13,
      "outputs": []
    },
    {
      "cell_type": "code",
      "source": [
        "L"
      ],
      "metadata": {
        "colab": {
          "base_uri": "https://localhost:8080/"
        },
        "id": "bk0xcWurumTD",
        "outputId": "3249be05-687e-4eaf-a470-e13949410397"
      },
      "execution_count": 15,
      "outputs": [
        {
          "output_type": "execute_result",
          "data": {
            "text/plain": [
              "[1, 2, 3, 4, 5, 6, 7, 8]"
            ]
          },
          "metadata": {},
          "execution_count": 15
        }
      ]
    },
    {
      "cell_type": "code",
      "source": [
        "Copia"
      ],
      "metadata": {
        "colab": {
          "base_uri": "https://localhost:8080/"
        },
        "id": "KGoo2mOmuonP",
        "outputId": "84ad98c5-3c11-4c55-8988-018f803dd0b6"
      },
      "execution_count": 16,
      "outputs": [
        {
          "output_type": "execute_result",
          "data": {
            "text/plain": [
              "[1, 2, 3, 4, 5, 6, 7, 8]"
            ]
          },
          "metadata": {},
          "execution_count": 16
        }
      ]
    },
    {
      "cell_type": "code",
      "source": [
        "Copia[2]=33"
      ],
      "metadata": {
        "id": "DaKOiyl4uwnE"
      },
      "execution_count": 17,
      "outputs": []
    },
    {
      "cell_type": "code",
      "source": [
        "Copia"
      ],
      "metadata": {
        "colab": {
          "base_uri": "https://localhost:8080/"
        },
        "id": "44vNFAQTu4Aw",
        "outputId": "c1eae585-47db-4390-f738-5557a4d79b85"
      },
      "execution_count": 18,
      "outputs": [
        {
          "output_type": "execute_result",
          "data": {
            "text/plain": [
              "[1, 2, 33, 4, 5, 6, 7, 8]"
            ]
          },
          "metadata": {},
          "execution_count": 18
        }
      ]
    },
    {
      "cell_type": "code",
      "source": [
        "L"
      ],
      "metadata": {
        "colab": {
          "base_uri": "https://localhost:8080/"
        },
        "id": "OfFrcAP6u6ZR",
        "outputId": "6ec25aeb-0412-43b5-8a35-0026686b8ec8"
      },
      "execution_count": 19,
      "outputs": [
        {
          "output_type": "execute_result",
          "data": {
            "text/plain": [
              "[1, 2, 33, 4, 5, 6, 7, 8]"
            ]
          },
          "metadata": {},
          "execution_count": 19
        }
      ]
    },
    {
      "cell_type": "markdown",
      "source": [
        "O vetor Copia é uma alias para o vetor L"
      ],
      "metadata": {
        "id": "yM-NmRrrvFOw"
      }
    },
    {
      "cell_type": "code",
      "source": [
        "Copia2=L[:]"
      ],
      "metadata": {
        "id": "gdFSI7R6w80l"
      },
      "execution_count": 20,
      "outputs": []
    },
    {
      "cell_type": "code",
      "source": [
        "Copia2"
      ],
      "metadata": {
        "colab": {
          "base_uri": "https://localhost:8080/"
        },
        "id": "esqew8TXw8lk",
        "outputId": "96bb540e-bdc9-4fd5-a26b-f902bcbf3017"
      },
      "execution_count": 21,
      "outputs": [
        {
          "output_type": "execute_result",
          "data": {
            "text/plain": [
              "[1, 2, 33, 4, 5, 6, 7, 8]"
            ]
          },
          "metadata": {},
          "execution_count": 21
        }
      ]
    },
    {
      "cell_type": "code",
      "source": [
        "Copia2[2]=3"
      ],
      "metadata": {
        "id": "YxMIcsvrxHvr"
      },
      "execution_count": 22,
      "outputs": []
    },
    {
      "cell_type": "code",
      "source": [
        "L"
      ],
      "metadata": {
        "colab": {
          "base_uri": "https://localhost:8080/"
        },
        "id": "7xK_ZdKlxLhI",
        "outputId": "f873312b-aa3d-421d-9364-72c601d4454d"
      },
      "execution_count": 23,
      "outputs": [
        {
          "output_type": "execute_result",
          "data": {
            "text/plain": [
              "[1, 2, 33, 4, 5, 6, 7, 8]"
            ]
          },
          "metadata": {},
          "execution_count": 23
        }
      ]
    },
    {
      "cell_type": "code",
      "source": [
        "Copia"
      ],
      "metadata": {
        "colab": {
          "base_uri": "https://localhost:8080/"
        },
        "id": "WPDTrBM7xNlE",
        "outputId": "79b09ef3-dffe-4c70-98a0-31793a1d0afa"
      },
      "execution_count": 24,
      "outputs": [
        {
          "output_type": "execute_result",
          "data": {
            "text/plain": [
              "[1, 2, 33, 4, 5, 6, 7, 8]"
            ]
          },
          "metadata": {},
          "execution_count": 24
        }
      ]
    },
    {
      "cell_type": "code",
      "source": [
        "Copia2"
      ],
      "metadata": {
        "colab": {
          "base_uri": "https://localhost:8080/"
        },
        "id": "gwVtuuXLxQjn",
        "outputId": "b9a0933f-3680-4cfd-9de4-05d6f18a774f"
      },
      "execution_count": 25,
      "outputs": [
        {
          "output_type": "execute_result",
          "data": {
            "text/plain": [
              "[1, 2, 3, 4, 5, 6, 7, 8]"
            ]
          },
          "metadata": {},
          "execution_count": 25
        }
      ]
    },
    {
      "cell_type": "markdown",
      "source": [
        "# Fatiamento de listas"
      ],
      "metadata": {
        "id": "8Ka5OkoJxfA-"
      }
    },
    {
      "cell_type": "code",
      "source": [
        "L[0:4]"
      ],
      "metadata": {
        "colab": {
          "base_uri": "https://localhost:8080/"
        },
        "id": "CdC5nxe5xjEm",
        "outputId": "2b69d02e-1789-4311-9304-5efa73e33793"
      },
      "execution_count": 26,
      "outputs": [
        {
          "output_type": "execute_result",
          "data": {
            "text/plain": [
              "[1, 2, 33, 4]"
            ]
          },
          "metadata": {},
          "execution_count": 26
        }
      ]
    },
    {
      "cell_type": "code",
      "source": [
        "L[:4]"
      ],
      "metadata": {
        "colab": {
          "base_uri": "https://localhost:8080/"
        },
        "id": "Nd03Cn6JxwXU",
        "outputId": "8f3ae745-a489-4ec7-b680-a99950e99e10"
      },
      "execution_count": 27,
      "outputs": [
        {
          "output_type": "execute_result",
          "data": {
            "text/plain": [
              "[1, 2, 33, 4]"
            ]
          },
          "metadata": {},
          "execution_count": 27
        }
      ]
    },
    {
      "cell_type": "code",
      "source": [
        "L[1:4]"
      ],
      "metadata": {
        "colab": {
          "base_uri": "https://localhost:8080/"
        },
        "id": "CPub4O7Bx3HV",
        "outputId": "a985c75a-dd26-42e2-ee8a-b24c3a578fbc"
      },
      "execution_count": 29,
      "outputs": [
        {
          "output_type": "execute_result",
          "data": {
            "text/plain": [
              "[2, 33, 4]"
            ]
          },
          "metadata": {},
          "execution_count": 29
        }
      ]
    },
    {
      "cell_type": "code",
      "source": [
        "L[:-1]"
      ],
      "metadata": {
        "colab": {
          "base_uri": "https://localhost:8080/"
        },
        "id": "kmPBLu8nx_BY",
        "outputId": "cb5b7e02-503e-4749-ec0b-0e381022d976"
      },
      "execution_count": 30,
      "outputs": [
        {
          "output_type": "execute_result",
          "data": {
            "text/plain": [
              "[1, 2, 33, 4, 5, 6, 7]"
            ]
          },
          "metadata": {},
          "execution_count": 30
        }
      ]
    },
    {
      "cell_type": "code",
      "source": [
        "L[5:]"
      ],
      "metadata": {
        "colab": {
          "base_uri": "https://localhost:8080/"
        },
        "id": "PjdxDMZsyHEh",
        "outputId": "72100713-db5c-4c79-c9c5-673cb320c4cf"
      },
      "execution_count": 31,
      "outputs": [
        {
          "output_type": "execute_result",
          "data": {
            "text/plain": [
              "[6, 7, 8]"
            ]
          },
          "metadata": {},
          "execution_count": 31
        }
      ]
    },
    {
      "cell_type": "code",
      "source": [
        "L[-1]"
      ],
      "metadata": {
        "colab": {
          "base_uri": "https://localhost:8080/"
        },
        "id": "M3SSmBWpyTc5",
        "outputId": "1b1bc1fb-9a51-4926-acfc-ea5931dd7af8"
      },
      "execution_count": 32,
      "outputs": [
        {
          "output_type": "execute_result",
          "data": {
            "text/plain": [
              "8"
            ]
          },
          "metadata": {},
          "execution_count": 32
        }
      ]
    },
    {
      "cell_type": "code",
      "source": [
        "L[-2]"
      ],
      "metadata": {
        "colab": {
          "base_uri": "https://localhost:8080/"
        },
        "id": "11JTiTbUyW1u",
        "outputId": "a8b9eefe-4974-4664-b1d6-f288ca286d0f"
      },
      "execution_count": 33,
      "outputs": [
        {
          "output_type": "execute_result",
          "data": {
            "text/plain": [
              "7"
            ]
          },
          "metadata": {},
          "execution_count": 33
        }
      ]
    },
    {
      "cell_type": "code",
      "source": [
        "L[-3]"
      ],
      "metadata": {
        "colab": {
          "base_uri": "https://localhost:8080/"
        },
        "id": "6w-cF8NxyamK",
        "outputId": "ee4c2640-bdb5-45bd-f4af-16a396c0b8ae"
      },
      "execution_count": 34,
      "outputs": [
        {
          "output_type": "execute_result",
          "data": {
            "text/plain": [
              "6"
            ]
          },
          "metadata": {},
          "execution_count": 34
        }
      ]
    },
    {
      "cell_type": "markdown",
      "source": [
        "# Tamanho de listas"
      ],
      "metadata": {
        "id": "JfcAe-4Uyet1"
      }
    },
    {
      "cell_type": "code",
      "source": [
        "len(L)"
      ],
      "metadata": {
        "colab": {
          "base_uri": "https://localhost:8080/"
        },
        "id": "gbIGnxFXyjze",
        "outputId": "ebe2f33f-5f8f-4034-c0c7-0be49b32792a"
      },
      "execution_count": 35,
      "outputs": [
        {
          "output_type": "execute_result",
          "data": {
            "text/plain": [
              "8"
            ]
          },
          "metadata": {},
          "execution_count": 35
        }
      ]
    },
    {
      "cell_type": "code",
      "source": [
        "Vazio=[]"
      ],
      "metadata": {
        "id": "Zubi-Q6QyqWo"
      },
      "execution_count": 36,
      "outputs": []
    },
    {
      "cell_type": "code",
      "source": [
        "len(Vazio)"
      ],
      "metadata": {
        "colab": {
          "base_uri": "https://localhost:8080/"
        },
        "id": "rySIf08Hyuse",
        "outputId": "e30f4cc2-a1bf-47f5-c4bb-c97bed088f6b"
      },
      "execution_count": 37,
      "outputs": [
        {
          "output_type": "execute_result",
          "data": {
            "text/plain": [
              "0"
            ]
          },
          "metadata": {},
          "execution_count": 37
        }
      ]
    },
    {
      "cell_type": "code",
      "source": [
        "L=[1, 2, 3, 4, 5, 6, 7, 8]\n",
        "x=0\n",
        "while x< len(L):\n",
        "  print(L[x])\n",
        "  x+=1"
      ],
      "metadata": {
        "colab": {
          "base_uri": "https://localhost:8080/"
        },
        "id": "PHfeBZZfy9Vs",
        "outputId": "4d9797e5-60af-4402-e32d-3be415f5d965"
      },
      "execution_count": 39,
      "outputs": [
        {
          "output_type": "stream",
          "name": "stdout",
          "text": [
            "1\n",
            "2\n",
            "3\n",
            "4\n",
            "5\n",
            "6\n",
            "7\n",
            "8\n"
          ]
        }
      ]
    },
    {
      "cell_type": "code",
      "source": [
        "l=[]"
      ],
      "metadata": {
        "id": "gp7UKw4fzoQ6"
      },
      "execution_count": 40,
      "outputs": []
    },
    {
      "cell_type": "code",
      "source": [
        "l.append(\"a\")"
      ],
      "metadata": {
        "id": "Xd90jEn1zrak"
      },
      "execution_count": 41,
      "outputs": []
    },
    {
      "cell_type": "code",
      "source": [
        "l"
      ],
      "metadata": {
        "colab": {
          "base_uri": "https://localhost:8080/"
        },
        "id": "LHmskWHwzz4_",
        "outputId": "d03784c4-0f7c-4e09-a007-8e25a4a56d20"
      },
      "execution_count": 42,
      "outputs": [
        {
          "output_type": "execute_result",
          "data": {
            "text/plain": [
              "['a']"
            ]
          },
          "metadata": {},
          "execution_count": 42
        }
      ]
    },
    {
      "cell_type": "code",
      "source": [
        "l.append(\"b\")\n",
        "l.append(\"c\")"
      ],
      "metadata": {
        "id": "l_BJkxJ2z4Dd"
      },
      "execution_count": 43,
      "outputs": []
    },
    {
      "cell_type": "code",
      "source": [
        "l"
      ],
      "metadata": {
        "colab": {
          "base_uri": "https://localhost:8080/"
        },
        "id": "OzZUcmFFz7dR",
        "outputId": "430070ae-d71a-460f-f041-681ce6d9a654"
      },
      "execution_count": 44,
      "outputs": [
        {
          "output_type": "execute_result",
          "data": {
            "text/plain": [
              "['a', 'b', 'c']"
            ]
          },
          "metadata": {},
          "execution_count": 44
        }
      ]
    },
    {
      "cell_type": "code",
      "source": [
        "l=l+[1]"
      ],
      "metadata": {
        "id": "vZCP-yaH0G2e"
      },
      "execution_count": 45,
      "outputs": []
    },
    {
      "cell_type": "code",
      "source": [
        "l"
      ],
      "metadata": {
        "colab": {
          "base_uri": "https://localhost:8080/"
        },
        "id": "65lsLW0i0LO-",
        "outputId": "b45fd8de-ad6b-4c0b-9030-fe532d28a3ce"
      },
      "execution_count": 46,
      "outputs": [
        {
          "output_type": "execute_result",
          "data": {
            "text/plain": [
              "['a', 'b', 'c', 1]"
            ]
          },
          "metadata": {},
          "execution_count": 46
        }
      ]
    },
    {
      "cell_type": "code",
      "source": [
        "l+=[2]"
      ],
      "metadata": {
        "id": "P-lRebpf0ORH"
      },
      "execution_count": 47,
      "outputs": []
    },
    {
      "cell_type": "code",
      "source": [
        "l"
      ],
      "metadata": {
        "colab": {
          "base_uri": "https://localhost:8080/"
        },
        "id": "M1QzUeKW0Vxd",
        "outputId": "0974238d-ea8c-4510-c433-7f6af8452a42"
      },
      "execution_count": 48,
      "outputs": [
        {
          "output_type": "execute_result",
          "data": {
            "text/plain": [
              "['a', 'b', 'c', 1, 2]"
            ]
          },
          "metadata": {},
          "execution_count": 48
        }
      ]
    },
    {
      "cell_type": "code",
      "source": [
        "l+=[3, 4, 5]"
      ],
      "metadata": {
        "id": "4bf1TmrH0XO4"
      },
      "execution_count": 49,
      "outputs": []
    },
    {
      "cell_type": "code",
      "source": [
        "l"
      ],
      "metadata": {
        "colab": {
          "base_uri": "https://localhost:8080/"
        },
        "id": "OD1tTWrm0cCa",
        "outputId": "3f514c3b-cc32-4b9c-d711-0b3ab58301c9"
      },
      "execution_count": 50,
      "outputs": [
        {
          "output_type": "execute_result",
          "data": {
            "text/plain": [
              "['a', 'b', 'c', 1, 2, 3, 4, 5]"
            ]
          },
          "metadata": {},
          "execution_count": 50
        }
      ]
    },
    {
      "cell_type": "code",
      "source": [
        "l.append([\"d\", \"e\"])"
      ],
      "metadata": {
        "id": "Uven0KIW0ouS"
      },
      "execution_count": 57,
      "outputs": []
    },
    {
      "cell_type": "code",
      "source": [
        "l.extend([\"d\", \"e\"])"
      ],
      "metadata": {
        "id": "lnaWNsjt0w7b"
      },
      "execution_count": 51,
      "outputs": []
    },
    {
      "cell_type": "code",
      "source": [
        "l"
      ],
      "metadata": {
        "colab": {
          "base_uri": "https://localhost:8080/"
        },
        "id": "O2SZ9Vhj1CAB",
        "outputId": "ff181bc7-707c-468a-9883-6d7ccc68aaaa"
      },
      "execution_count": 66,
      "outputs": [
        {
          "output_type": "execute_result",
          "data": {
            "text/plain": [
              "['a', 3, 4, 5, 'd', 'e', 'd', 'd', ['d', 'e']]"
            ]
          },
          "metadata": {},
          "execution_count": 66
        }
      ]
    },
    {
      "cell_type": "code",
      "source": [
        "del l[1]"
      ],
      "metadata": {
        "id": "Muy6agL_10qO"
      },
      "execution_count": 65,
      "outputs": []
    },
    {
      "cell_type": "code",
      "source": [
        "l= list(range(101))"
      ],
      "metadata": {
        "id": "4OkOmPz72JNS"
      },
      "execution_count": 67,
      "outputs": []
    },
    {
      "cell_type": "code",
      "source": [
        "l"
      ],
      "metadata": {
        "colab": {
          "base_uri": "https://localhost:8080/"
        },
        "id": "u-2L3Jbp2QDg",
        "outputId": "094fca9a-dec5-4201-f309-2649eaa690d5"
      },
      "execution_count": 68,
      "outputs": [
        {
          "output_type": "execute_result",
          "data": {
            "text/plain": [
              "[0,\n",
              " 1,\n",
              " 2,\n",
              " 3,\n",
              " 4,\n",
              " 5,\n",
              " 6,\n",
              " 7,\n",
              " 8,\n",
              " 9,\n",
              " 10,\n",
              " 11,\n",
              " 12,\n",
              " 13,\n",
              " 14,\n",
              " 15,\n",
              " 16,\n",
              " 17,\n",
              " 18,\n",
              " 19,\n",
              " 20,\n",
              " 21,\n",
              " 22,\n",
              " 23,\n",
              " 24,\n",
              " 25,\n",
              " 26,\n",
              " 27,\n",
              " 28,\n",
              " 29,\n",
              " 30,\n",
              " 31,\n",
              " 32,\n",
              " 33,\n",
              " 34,\n",
              " 35,\n",
              " 36,\n",
              " 37,\n",
              " 38,\n",
              " 39,\n",
              " 40,\n",
              " 41,\n",
              " 42,\n",
              " 43,\n",
              " 44,\n",
              " 45,\n",
              " 46,\n",
              " 47,\n",
              " 48,\n",
              " 49,\n",
              " 50,\n",
              " 51,\n",
              " 52,\n",
              " 53,\n",
              " 54,\n",
              " 55,\n",
              " 56,\n",
              " 57,\n",
              " 58,\n",
              " 59,\n",
              " 60,\n",
              " 61,\n",
              " 62,\n",
              " 63,\n",
              " 64,\n",
              " 65,\n",
              " 66,\n",
              " 67,\n",
              " 68,\n",
              " 69,\n",
              " 70,\n",
              " 71,\n",
              " 72,\n",
              " 73,\n",
              " 74,\n",
              " 75,\n",
              " 76,\n",
              " 77,\n",
              " 78,\n",
              " 79,\n",
              " 80,\n",
              " 81,\n",
              " 82,\n",
              " 83,\n",
              " 84,\n",
              " 85,\n",
              " 86,\n",
              " 87,\n",
              " 88,\n",
              " 89,\n",
              " 90,\n",
              " 91,\n",
              " 92,\n",
              " 93,\n",
              " 94,\n",
              " 95,\n",
              " 96,\n",
              " 97,\n",
              " 98,\n",
              " 99,\n",
              " 100]"
            ]
          },
          "metadata": {},
          "execution_count": 68
        }
      ]
    },
    {
      "cell_type": "code",
      "source": [
        "del l[1:99]"
      ],
      "metadata": {
        "id": "ncEiuJ_v2bG8"
      },
      "execution_count": 69,
      "outputs": []
    },
    {
      "cell_type": "code",
      "source": [
        "l"
      ],
      "metadata": {
        "colab": {
          "base_uri": "https://localhost:8080/"
        },
        "id": "DpwqAiXf2fVz",
        "outputId": "4ad39fa7-a8bd-4442-d5ae-b9df9d91bd30"
      },
      "execution_count": 70,
      "outputs": [
        {
          "output_type": "execute_result",
          "data": {
            "text/plain": [
              "[0, 99, 100]"
            ]
          },
          "metadata": {},
          "execution_count": 70
        }
      ]
    },
    {
      "cell_type": "markdown",
      "source": [
        "FIFO = FIRST IN FIST OUT"
      ],
      "metadata": {
        "id": "ROZ82PpP3FrB"
      }
    },
    {
      "cell_type": "markdown",
      "source": [],
      "metadata": {
        "id": "Wxc2m_bO3oXy"
      }
    },
    {
      "cell_type": "code",
      "source": [
        "fila=[1, 2, 3, 4]"
      ],
      "metadata": {
        "id": "J5eOc-RQ3ZTe"
      },
      "execution_count": 71,
      "outputs": []
    },
    {
      "cell_type": "code",
      "source": [
        "fila.append(5)"
      ],
      "metadata": {
        "id": "tof1MRRP3haa"
      },
      "execution_count": 74,
      "outputs": []
    },
    {
      "cell_type": "code",
      "source": [
        "fila"
      ],
      "metadata": {
        "colab": {
          "base_uri": "https://localhost:8080/"
        },
        "id": "tXVwLlNE3hLu",
        "outputId": "fc1ec7fa-0b3d-40ae-e703-f8dd9869c2e3"
      },
      "execution_count": 75,
      "outputs": [
        {
          "output_type": "execute_result",
          "data": {
            "text/plain": [
              "[1, 2, 3, 4, 5]"
            ]
          },
          "metadata": {},
          "execution_count": 75
        }
      ]
    },
    {
      "cell_type": "code",
      "source": [
        "del fila[0]"
      ],
      "metadata": {
        "id": "2aYmNhEQ30bh"
      },
      "execution_count": 76,
      "outputs": []
    },
    {
      "cell_type": "code",
      "source": [
        "fila"
      ],
      "metadata": {
        "colab": {
          "base_uri": "https://localhost:8080/"
        },
        "id": "GuWLHJGt34Wt",
        "outputId": "eff30fbf-034e-48d1-d09e-57c3c742bc83"
      },
      "execution_count": 77,
      "outputs": [
        {
          "output_type": "execute_result",
          "data": {
            "text/plain": [
              "[2, 3, 4, 5]"
            ]
          },
          "metadata": {},
          "execution_count": 77
        }
      ]
    },
    {
      "cell_type": "code",
      "source": [
        "ultimo = 10\n",
        "fila = list(range(1, ultimo+1))\n",
        "while True:\n",
        "  print(f\"\\n Existem {len(fila)} clientes na fila\")\n",
        "  print(f\"Fila atual: {fila}\")\n",
        "  print(\"Digite F para adicionar um cliente no final da fila,\")\n",
        "  print(\"ou A para realizar o atendimento, S para sair.\")\n",
        "  operacao = input(\"Operação (F, A ou S)\")\n",
        "  if operacao == \"A\":\n",
        "    if len(fila)>0:\n",
        "      atendido = fila.pop(0)\n",
        "      print(f\"Cliente {atendido} atendido\")\n",
        "    else:\n",
        "      print(\"Fila vazia!\")\n",
        "  elif operacao == \"F\":\n",
        "    ultimo+=1\n",
        "    fila.append(ultimo)\n",
        "  elif operacao == \"S\":\n",
        "    break\n",
        "  else:\n",
        "    print(\"Operação inválida!!\")"
      ],
      "metadata": {
        "colab": {
          "base_uri": "https://localhost:8080/"
        },
        "id": "iHczwdsZ3-gV",
        "outputId": "6ea12e6a-1903-4325-9578-362eaec48d5c"
      },
      "execution_count": 78,
      "outputs": [
        {
          "name": "stdout",
          "output_type": "stream",
          "text": [
            "\n",
            " Existem 10 clientes na fila\n",
            "Fila atual: [1, 2, 3, 4, 5, 6, 7, 8, 9, 10]\n",
            "Digite F para adicionar um cliente no final da fila,\n",
            "ou A para realizar o atendimento, S para sair.\n",
            "Operação (F, A ou S)A\n",
            "Cliente 1 atendido\n",
            "\n",
            " Existem 9 clientes na fila\n",
            "Fila atual: [2, 3, 4, 5, 6, 7, 8, 9, 10]\n",
            "Digite F para adicionar um cliente no final da fila,\n",
            "ou A para realizar o atendimento, S para sair.\n",
            "Operação (F, A ou S)w\n",
            "Operação inválida!!\n",
            "\n",
            " Existem 9 clientes na fila\n",
            "Fila atual: [2, 3, 4, 5, 6, 7, 8, 9, 10]\n",
            "Digite F para adicionar um cliente no final da fila,\n",
            "ou A para realizar o atendimento, S para sair.\n",
            "Operação (F, A ou S)F\n",
            "\n",
            " Existem 10 clientes na fila\n",
            "Fila atual: [2, 3, 4, 5, 6, 7, 8, 9, 10, 11]\n",
            "Digite F para adicionar um cliente no final da fila,\n",
            "ou A para realizar o atendimento, S para sair.\n",
            "Operação (F, A ou S)A\n",
            "Cliente 2 atendido\n",
            "\n",
            " Existem 9 clientes na fila\n",
            "Fila atual: [3, 4, 5, 6, 7, 8, 9, 10, 11]\n",
            "Digite F para adicionar um cliente no final da fila,\n",
            "ou A para realizar o atendimento, S para sair.\n",
            "Operação (F, A ou S)A\n",
            "Cliente 3 atendido\n",
            "\n",
            " Existem 8 clientes na fila\n",
            "Fila atual: [4, 5, 6, 7, 8, 9, 10, 11]\n",
            "Digite F para adicionar um cliente no final da fila,\n",
            "ou A para realizar o atendimento, S para sair.\n",
            "Operação (F, A ou S)A\n",
            "Cliente 4 atendido\n",
            "\n",
            " Existem 7 clientes na fila\n",
            "Fila atual: [5, 6, 7, 8, 9, 10, 11]\n",
            "Digite F para adicionar um cliente no final da fila,\n",
            "ou A para realizar o atendimento, S para sair.\n",
            "Operação (F, A ou S)A\n",
            "Cliente 5 atendido\n",
            "\n",
            " Existem 6 clientes na fila\n",
            "Fila atual: [6, 7, 8, 9, 10, 11]\n",
            "Digite F para adicionar um cliente no final da fila,\n",
            "ou A para realizar o atendimento, S para sair.\n",
            "Operação (F, A ou S)A\n",
            "Cliente 6 atendido\n",
            "\n",
            " Existem 5 clientes na fila\n",
            "Fila atual: [7, 8, 9, 10, 11]\n",
            "Digite F para adicionar um cliente no final da fila,\n",
            "ou A para realizar o atendimento, S para sair.\n",
            "Operação (F, A ou S)A\n",
            "Cliente 7 atendido\n",
            "\n",
            " Existem 4 clientes na fila\n",
            "Fila atual: [8, 9, 10, 11]\n",
            "Digite F para adicionar um cliente no final da fila,\n",
            "ou A para realizar o atendimento, S para sair.\n",
            "Operação (F, A ou S)A\n",
            "Cliente 8 atendido\n",
            "\n",
            " Existem 3 clientes na fila\n",
            "Fila atual: [9, 10, 11]\n",
            "Digite F para adicionar um cliente no final da fila,\n",
            "ou A para realizar o atendimento, S para sair.\n",
            "Operação (F, A ou S)A\n",
            "Cliente 9 atendido\n",
            "\n",
            " Existem 2 clientes na fila\n",
            "Fila atual: [10, 11]\n",
            "Digite F para adicionar um cliente no final da fila,\n",
            "ou A para realizar o atendimento, S para sair.\n",
            "Operação (F, A ou S)A\n",
            "Cliente 10 atendido\n",
            "\n",
            " Existem 1 clientes na fila\n",
            "Fila atual: [11]\n",
            "Digite F para adicionar um cliente no final da fila,\n",
            "ou A para realizar o atendimento, S para sair.\n",
            "Operação (F, A ou S)A\n",
            "Cliente 11 atendido\n",
            "\n",
            " Existem 0 clientes na fila\n",
            "Fila atual: []\n",
            "Digite F para adicionar um cliente no final da fila,\n",
            "ou A para realizar o atendimento, S para sair.\n",
            "Operação (F, A ou S)A\n",
            "Fila vazia!\n",
            "\n",
            " Existem 0 clientes na fila\n",
            "Fila atual: []\n",
            "Digite F para adicionar um cliente no final da fila,\n",
            "ou A para realizar o atendimento, S para sair.\n",
            "Operação (F, A ou S)F\n",
            "\n",
            " Existem 1 clientes na fila\n",
            "Fila atual: [12]\n",
            "Digite F para adicionar um cliente no final da fila,\n",
            "ou A para realizar o atendimento, S para sair.\n",
            "Operação (F, A ou S)F\n",
            "\n",
            " Existem 2 clientes na fila\n",
            "Fila atual: [12, 13]\n",
            "Digite F para adicionar um cliente no final da fila,\n",
            "ou A para realizar o atendimento, S para sair.\n",
            "Operação (F, A ou S)F\n",
            "\n",
            " Existem 3 clientes na fila\n",
            "Fila atual: [12, 13, 14]\n",
            "Digite F para adicionar um cliente no final da fila,\n",
            "ou A para realizar o atendimento, S para sair.\n",
            "Operação (F, A ou S)F\n",
            "\n",
            " Existem 4 clientes na fila\n",
            "Fila atual: [12, 13, 14, 15]\n",
            "Digite F para adicionar um cliente no final da fila,\n",
            "ou A para realizar o atendimento, S para sair.\n",
            "Operação (F, A ou S)F\n",
            "\n",
            " Existem 5 clientes na fila\n",
            "Fila atual: [12, 13, 14, 15, 16]\n",
            "Digite F para adicionar um cliente no final da fila,\n",
            "ou A para realizar o atendimento, S para sair.\n",
            "Operação (F, A ou S)F\n",
            "\n",
            " Existem 6 clientes na fila\n",
            "Fila atual: [12, 13, 14, 15, 16, 17]\n",
            "Digite F para adicionar um cliente no final da fila,\n",
            "ou A para realizar o atendimento, S para sair.\n",
            "Operação (F, A ou S)F\n",
            "\n",
            " Existem 7 clientes na fila\n",
            "Fila atual: [12, 13, 14, 15, 16, 17, 18]\n",
            "Digite F para adicionar um cliente no final da fila,\n",
            "ou A para realizar o atendimento, S para sair.\n",
            "Operação (F, A ou S)F\n",
            "\n",
            " Existem 8 clientes na fila\n",
            "Fila atual: [12, 13, 14, 15, 16, 17, 18, 19]\n",
            "Digite F para adicionar um cliente no final da fila,\n",
            "ou A para realizar o atendimento, S para sair.\n",
            "Operação (F, A ou S)F\n",
            "\n",
            " Existem 9 clientes na fila\n",
            "Fila atual: [12, 13, 14, 15, 16, 17, 18, 19, 20]\n",
            "Digite F para adicionar um cliente no final da fila,\n",
            "ou A para realizar o atendimento, S para sair.\n",
            "Operação (F, A ou S)F\n",
            "\n",
            " Existem 10 clientes na fila\n",
            "Fila atual: [12, 13, 14, 15, 16, 17, 18, 19, 20, 21]\n",
            "Digite F para adicionar um cliente no final da fila,\n",
            "ou A para realizar o atendimento, S para sair.\n",
            "Operação (F, A ou S)S\n"
          ]
        }
      ]
    }
  ]
}