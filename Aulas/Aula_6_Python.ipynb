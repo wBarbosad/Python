{
  "nbformat": 4,
  "nbformat_minor": 0,
  "metadata": {
    "colab": {
      "provenance": []
    },
    "kernelspec": {
      "name": "python3",
      "display_name": "Python 3"
    },
    "language_info": {
      "name": "python"
    }
  },
  "cells": [
    {
      "cell_type": "markdown",
      "source": [
        "## Lista como pilha\n",
        "\n",
        "Inserimos os elelmentos no topo da pilha e removemos no topo pilha.\n",
        "\n",
        "LIFO - Last In First Out\n",
        "\n",
        "1,2,3,4,5"
      ],
      "metadata": {
        "id": "ACDqcXttnqO1"
      }
    },
    {
      "cell_type": "code",
      "execution_count": null,
      "metadata": {
        "id": "5O8epRUomQob"
      },
      "outputs": [],
      "source": [
        "prato = 5\n",
        "pilha = list(range(1,prato+1))\n",
        "\n",
        "while True:\n",
        "  print(f\"\\n Existem {len(pilha)} pratos na pilha\")\n",
        "  print(f\"Pilha atual: {pilha}\")\n",
        "  print(\"Digite E para empilhar um novo prato:\")\n",
        "  print(\"ou D para desempilhar . S para sair\")\n",
        "  operacao = input(\"Informe a operação desejada (E, D ou S):\")\n",
        "  if operacao == \"D\":\n",
        "    if len(pilha) > 0:\n",
        "      lavado = pilha.pop(-1)\n",
        "      print(f\"Prato {lavado} lavado\")\n",
        "    else:\n",
        "      print(\"Pilha vazia!\")\n",
        "  elif operacao == \"E\":\n",
        "    prato +=1\n",
        "    pilha.append(prato)\n",
        "  elif operacao == \"S\":\n",
        "    break\n",
        "  else:\n",
        "    print(\"Operação inválida!\")\n"
      ]
    },
    {
      "cell_type": "code",
      "source": [
        "Lista=[15, 27, 32, 29]\n",
        "pesquisar = int(input(\"Digite o valor procurado:\"))\n",
        "encontrado = False\n",
        "x=0\n",
        "while x <len(Lista):\n",
        "  if Lista[x]==pesquisar:\n",
        "    encontrado=True\n",
        "    break\n",
        "  x+=1\n",
        "if encontrado:\n",
        "  print(f\"{pesquisar} encontrado na posição {x+1}\")\n",
        "else:\n",
        "  print(f\"{pesquisar} não encontrado!\")"
      ],
      "metadata": {
        "colab": {
          "base_uri": "https://localhost:8080/"
        },
        "id": "z6kBoLJHsPlb",
        "outputId": "59a009b5-3121-413d-8747-f2c63ca82fa5"
      },
      "execution_count": 8,
      "outputs": [
        {
          "output_type": "stream",
          "name": "stdout",
          "text": [
            "Digite o valor procurado:29\n",
            "29 encontrado na posição 4\n"
          ]
        }
      ]
    },
    {
      "cell_type": "code",
      "source": [
        "Lista=[15, 27, 32, 29]\n",
        "for e in Lista:\n",
        "  print(e)"
      ],
      "metadata": {
        "colab": {
          "base_uri": "https://localhost:8080/"
        },
        "id": "UEZJCoq3vc1M",
        "outputId": "547228b9-bbfc-4fcd-88e5-8e9bbccbae93"
      },
      "execution_count": 9,
      "outputs": [
        {
          "output_type": "stream",
          "name": "stdout",
          "text": [
            "15\n",
            "27\n",
            "32\n",
            "29\n"
          ]
        }
      ]
    },
    {
      "cell_type": "code",
      "source": [
        "Lista=[15, 27, 32, 29]\n",
        "x=0\n",
        "while x < len(Lista):\n",
        "  e = Lista[x]\n",
        "  print(e)\n",
        "  x+=1"
      ],
      "metadata": {
        "colab": {
          "base_uri": "https://localhost:8080/"
        },
        "id": "Voz0m6S_v3AL",
        "outputId": "2474acfa-e0ae-4b86-9e6f-2a5d48f609a6"
      },
      "execution_count": 10,
      "outputs": [
        {
          "output_type": "stream",
          "name": "stdout",
          "text": [
            "15\n",
            "27\n",
            "32\n",
            "29\n"
          ]
        }
      ]
    },
    {
      "cell_type": "code",
      "source": [
        "for i in range(1, 11, 2):\n",
        "  print (i, end=\" \")\n",
        "print()"
      ],
      "metadata": {
        "colab": {
          "base_uri": "https://localhost:8080/"
        },
        "id": "-cBDPW5rwsW9",
        "outputId": "48e5aef6-65f7-4fef-b94e-0cbc20ea848f"
      },
      "execution_count": 16,
      "outputs": [
        {
          "output_type": "stream",
          "name": "stdout",
          "text": [
            "1 3 5 7 9 \n"
          ]
        }
      ]
    },
    {
      "cell_type": "code",
      "source": [
        "Lista = list(range(1, 10 , 2))\n",
        "print(Lista)"
      ],
      "metadata": {
        "colab": {
          "base_uri": "https://localhost:8080/"
        },
        "id": "f_icHVrTyL19",
        "outputId": "a7aebd21-5fff-451e-c21a-2800d720d4e1"
      },
      "execution_count": 17,
      "outputs": [
        {
          "output_type": "stream",
          "name": "stdout",
          "text": [
            "[1, 3, 5, 7, 9]\n"
          ]
        }
      ]
    },
    {
      "cell_type": "code",
      "source": [
        "Lista2=[5, 9, 13]\n",
        "x=0\n",
        "for e in enumerate(Lista2):\n",
        "  print(f\"[{x}] {e}\")\n",
        "  x+=1"
      ],
      "metadata": {
        "colab": {
          "base_uri": "https://localhost:8080/"
        },
        "id": "0qBJfsG6yxqH",
        "outputId": "4f8f0e8c-8373-4eb8-f28e-16fe28af136e"
      },
      "execution_count": 23,
      "outputs": [
        {
          "output_type": "stream",
          "name": "stdout",
          "text": [
            "[0] (0, 5)\n",
            "[1] (1, 9)\n",
            "[2] (2, 13)\n"
          ]
        }
      ]
    },
    {
      "cell_type": "code",
      "source": [
        "Lista=[2, 4, 6, 1, 4, 0]\n",
        "maior = Lista[0]\n",
        "for i in Lista:\n",
        "  if i > maior:\n",
        "    maior = i\n",
        "print(maior)"
      ],
      "metadata": {
        "colab": {
          "base_uri": "https://localhost:8080/"
        },
        "id": "kNQLLDHCz5wp",
        "outputId": "40232002-09fd-45f2-c1b1-9c628f3c0946"
      },
      "execution_count": 25,
      "outputs": [
        {
          "output_type": "stream",
          "name": "stdout",
          "text": [
            "6\n"
          ]
        }
      ]
    },
    {
      "cell_type": "code",
      "source": [
        "Frutas = [\"maçãs\", \"goiabas\", \"laranjas\"]\n",
        "len(Frutas)"
      ],
      "metadata": {
        "colab": {
          "base_uri": "https://localhost:8080/"
        },
        "id": "MLwbqME-05IO",
        "outputId": "01b601ff-4562-481c-d409-b8bc3a4b3e29"
      },
      "execution_count": 26,
      "outputs": [
        {
          "output_type": "execute_result",
          "data": {
            "text/plain": [
              "3"
            ]
          },
          "metadata": {},
          "execution_count": 26
        }
      ]
    },
    {
      "cell_type": "code",
      "source": [
        "Frutas[0]"
      ],
      "metadata": {
        "colab": {
          "base_uri": "https://localhost:8080/",
          "height": 35
        },
        "id": "s2n27FFM1O-k",
        "outputId": "fc1ceb15-6f61-4d77-c929-b92bbb5385bd"
      },
      "execution_count": 27,
      "outputs": [
        {
          "output_type": "execute_result",
          "data": {
            "text/plain": [
              "'maçãs'"
            ],
            "application/vnd.google.colaboratory.intrinsic+json": {
              "type": "string"
            }
          },
          "metadata": {},
          "execution_count": 27
        }
      ]
    },
    {
      "cell_type": "code",
      "source": [
        "print(Frutas[2][2])"
      ],
      "metadata": {
        "colab": {
          "base_uri": "https://localhost:8080/"
        },
        "id": "E1YQnT3V1WKU",
        "outputId": "01662b6c-929b-4df6-bbfe-813c102f3ebb"
      },
      "execution_count": 32,
      "outputs": [
        {
          "output_type": "stream",
          "name": "stdout",
          "text": [
            "r\n"
          ]
        }
      ]
    },
    {
      "cell_type": "code",
      "source": [
        "Frutas = [\"maçãs\", \"goiabas\", \"laranjas\"]\n",
        "for i in Frutas:\n",
        "  for letra in i:\n",
        "    print(letra)"
      ],
      "metadata": {
        "colab": {
          "base_uri": "https://localhost:8080/"
        },
        "id": "5rOthDaU1p6C",
        "outputId": "01e7d85e-b04f-4a43-e582-57924c39aacc"
      },
      "execution_count": 33,
      "outputs": [
        {
          "output_type": "stream",
          "name": "stdout",
          "text": [
            "m\n",
            "a\n",
            "ç\n",
            "ã\n",
            "s\n",
            "g\n",
            "o\n",
            "i\n",
            "a\n",
            "b\n",
            "a\n",
            "s\n",
            "l\n",
            "a\n",
            "r\n",
            "a\n",
            "n\n",
            "j\n",
            "a\n",
            "s\n"
          ]
        }
      ]
    },
    {
      "cell_type": "code",
      "source": [
        "produto_a=[\"maçã\", 20, 0.50]\n",
        "produto_b=[\"banana\", 10, 0.50]\n",
        "produto_c=[\"goiaba\", 10, 0.50]\n",
        "produto_d=[\"laranja\", 10, 0.50]\n",
        "compras = [produto_a, produto_b, produto_c, produto_d]"
      ],
      "metadata": {
        "id": "aOWOtNm12F75"
      },
      "execution_count": 34,
      "outputs": []
    },
    {
      "cell_type": "code",
      "source": [
        "for i in compras:\n",
        "  print(f\"Produto:{i[0]}\")\n",
        "  print(f\"Quantidade:{i[1]}\")\n",
        "  print(f\"Preço:{i[2]:5.2f}\")"
      ],
      "metadata": {
        "colab": {
          "base_uri": "https://localhost:8080/"
        },
        "id": "AtUPu6Ez2zym",
        "outputId": "0a2dd207-d38e-46e4-8e34-6427b50e42a1"
      },
      "execution_count": 35,
      "outputs": [
        {
          "output_type": "stream",
          "name": "stdout",
          "text": [
            "Produto:maçã\n",
            "Quantidade:20\n",
            "Preço: 0.50\n",
            "Produto:banana\n",
            "Quantidade:10\n",
            "Preço: 0.50\n",
            "Produto:goiaba\n",
            "Quantidade:10\n",
            "Preço: 0.50\n",
            "Produto:laranja\n",
            "Quantidade:10\n",
            "Preço: 0.50\n"
          ]
        }
      ]
    },
    {
      "cell_type": "markdown",
      "source": [
        "## Buble Sort\n",
        "Método de ordenação por bolha"
      ],
      "metadata": {
        "id": "UR02U0KG3Yi9"
      }
    },
    {
      "cell_type": "code",
      "source": [
        "Lista = [7, 5, 12, 6, 8, 23]\n",
        "fim = 6 \n",
        "while fim > 1:\n",
        "  troca =False\n",
        "  x=0\n",
        "  while x < (fim-1):\n",
        "    if Lista[x]>Lista[x+1]:\n",
        "      troca = True\n",
        "      temp=Lista[x]\n",
        "      Lista[x] = Lista[x+1]\n",
        "      Lista[x+1] = temp\n",
        "    x+=1\n",
        "  if not troca:\n",
        "    break\n",
        "  fim -= 1\n",
        "for i in Lista:\n",
        "  print(i)\n"
      ],
      "metadata": {
        "colab": {
          "base_uri": "https://localhost:8080/"
        },
        "id": "s6wQt3d73YPT",
        "outputId": "947fa7c2-5a3c-4f6c-f3ac-8992e6796587"
      },
      "execution_count": 36,
      "outputs": [
        {
          "output_type": "stream",
          "name": "stdout",
          "text": [
            "5\n",
            "6\n",
            "7\n",
            "8\n",
            "12\n",
            "23\n"
          ]
        }
      ]
    }
  ]
}