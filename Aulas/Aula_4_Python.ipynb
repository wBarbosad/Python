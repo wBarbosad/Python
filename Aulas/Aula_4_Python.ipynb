{
  "nbformat": 4,
  "nbformat_minor": 0,
  "metadata": {
    "colab": {
      "provenance": []
    },
    "kernelspec": {
      "name": "python3",
      "display_name": "Python 3"
    },
    "language_info": {
      "name": "python"
    }
  },
  "cells": [
    {
      "cell_type": "markdown",
      "source": [
        "Elif\n",
        "\n",
        "Uma estrutura usada para aninhamento de ifs. "
      ],
      "metadata": {
        "id": "h2Jjpkwcgewd"
      }
    },
    {
      "cell_type": "code",
      "execution_count": null,
      "metadata": {
        "colab": {
          "base_uri": "https://localhost:8080/"
        },
        "id": "_G1PoWxvdA48",
        "outputId": "5d0a7a53-73a6-4cdb-a199-d02e88acce27"
      },
      "outputs": [
        {
          "output_type": "stream",
          "name": "stdout",
          "text": [
            "Insira a categoria do produto:4\n",
            "Categoria inválida\n",
            "0\n"
          ]
        }
      ],
      "source": [
        "categoria = int(input(\"Insira a categoria do produto:\"))\n",
        "if categoria == 1:\n",
        "  preco =10\n",
        "elif categoria == 2:\n",
        "  preco = 20\n",
        "elif categoria == 3:\n",
        "  preco = 30\n",
        "else:\n",
        "  print(\"Categoria inválida\")\n",
        "  preco = 0\n",
        "print(preco)\n"
      ]
    },
    {
      "cell_type": "markdown",
      "source": [
        "## Estruturas de repetição\n",
        "\n",
        "while -> realiza a repetiçã enquanto uma condição for verdadeira.\n",
        "\n",
        "---\n",
        "Formato do while em Python\n",
        "\n",
        "$while <condição>:$\n",
        "\n",
        "$bloco$\n"
      ],
      "metadata": {
        "id": "N1MsqyUziq5f"
      }
    },
    {
      "cell_type": "code",
      "source": [
        "x=1\n",
        "while x<=3:\n",
        "  print(x)\n",
        "  x=x+1"
      ],
      "metadata": {
        "colab": {
          "base_uri": "https://localhost:8080/"
        },
        "id": "wqMosoaEio8F",
        "outputId": "9ca12bb2-d73f-4fca-942b-c04832fe5d1a"
      },
      "execution_count": null,
      "outputs": [
        {
          "output_type": "stream",
          "name": "stdout",
          "text": [
            "1\n",
            "2\n",
            "3\n"
          ]
        }
      ]
    },
    {
      "cell_type": "code",
      "source": [
        "fim = int(input(\"Informe qual o ultimo valor para imprimir:\"))\n",
        "x=1\n",
        "while x<fim:\n",
        "  print(x)\n",
        "  x=x+1"
      ],
      "metadata": {
        "colab": {
          "base_uri": "https://localhost:8080/"
        },
        "id": "m-iiJUaMlI4d",
        "outputId": "301e93b2-5e18-4ceb-9697-e164af3e9491"
      },
      "execution_count": null,
      "outputs": [
        {
          "output_type": "stream",
          "name": "stdout",
          "text": [
            "Informe qual o ultimo valor para imprimir:10\n",
            "1\n",
            "2\n",
            "3\n",
            "4\n",
            "5\n",
            "6\n",
            "7\n",
            "8\n",
            "9\n"
          ]
        }
      ]
    },
    {
      "cell_type": "markdown",
      "source": [
        "Imprimindo valores multiplos de 2"
      ],
      "metadata": {
        "id": "DYhpJbEllH37"
      }
    },
    {
      "cell_type": "code",
      "source": [
        "fim = int(input(\"Informe qual o ultimo valor para imprimir:\"))\n",
        "x=1\n",
        "while x<=fim:\n",
        "  if x%2==0:\n",
        "    print(x)\n",
        "  x=x+1"
      ],
      "metadata": {
        "colab": {
          "base_uri": "https://localhost:8080/"
        },
        "id": "34pfBZ-9l-wR",
        "outputId": "ed12b4c7-9693-45a8-99e2-8be6a6658230"
      },
      "execution_count": null,
      "outputs": [
        {
          "output_type": "stream",
          "name": "stdout",
          "text": [
            "Informe qual o ultimo valor para imprimir:10\n",
            "2\n",
            "4\n",
            "6\n",
            "8\n",
            "10\n"
          ]
        }
      ]
    },
    {
      "cell_type": "code",
      "source": [
        "fim = int(input(\"Informe qual o ultimo valor para imprimir:\"))\n",
        "x=0\n",
        "while x<=fim:\n",
        "  print(x)\n",
        "  x=x+2"
      ],
      "metadata": {
        "colab": {
          "base_uri": "https://localhost:8080/"
        },
        "id": "TEUy6_L0mq-U",
        "outputId": "6d318499-f736-4df2-e9dd-a1a6e6216004"
      },
      "execution_count": null,
      "outputs": [
        {
          "output_type": "stream",
          "name": "stdout",
          "text": [
            "Informe qual o ultimo valor para imprimir:10\n",
            "0\n",
            "2\n",
            "4\n",
            "6\n",
            "8\n",
            "10\n"
          ]
        }
      ]
    },
    {
      "cell_type": "code",
      "source": [
        "fim = int(input(\"Informe qual o ultimo valor para imprimir:\"))\n",
        "x=1\n",
        "while x<=fim:\n",
        "  if x%2==1:\n",
        "    print(x)\n",
        "  x=x+1"
      ],
      "metadata": {
        "colab": {
          "base_uri": "https://localhost:8080/"
        },
        "id": "7gHncKiSm6uD",
        "outputId": "2675a751-6175-43a4-b771-827d7cd02781"
      },
      "execution_count": null,
      "outputs": [
        {
          "output_type": "stream",
          "name": "stdout",
          "text": [
            "Informe qual o ultimo valor para imprimir:10\n",
            "1\n",
            "3\n",
            "5\n",
            "7\n",
            "9\n"
          ]
        }
      ]
    },
    {
      "cell_type": "code",
      "source": [
        "n = int(input(\"Informe o valor da tabuada:\"))\n",
        "x=0\n",
        "while x<=10:\n",
        "  print(n*x)\n",
        "  x+=1"
      ],
      "metadata": {
        "colab": {
          "base_uri": "https://localhost:8080/"
        },
        "id": "9_I6KW_lnIAz",
        "outputId": "cad3d682-df84-4538-f664-1480655ab786"
      },
      "execution_count": null,
      "outputs": [
        {
          "output_type": "stream",
          "name": "stdout",
          "text": [
            "Informe o valor da tabuada:3\n",
            "0\n",
            "3\n",
            "6\n",
            "9\n",
            "12\n",
            "15\n",
            "18\n",
            "21\n",
            "24\n",
            "27\n",
            "30\n"
          ]
        }
      ]
    },
    {
      "cell_type": "markdown",
      "source": [
        "## Acumuladores\n",
        "\n",
        "contadores tem valores adicionados são constantes, já nos acumuladores o valor não é constante."
      ],
      "metadata": {
        "id": "VEFa41rlpUSX"
      }
    },
    {
      "cell_type": "code",
      "source": [
        "n=1\n",
        "soma=0\n",
        "while n <= 4:\n",
        "  x = int(input(f\"Digite o {n} número:\"))\n",
        "  soma = soma + x\n",
        "  n = n + 1\n",
        "print(f\"Média: {soma/4}\")"
      ],
      "metadata": {
        "colab": {
          "base_uri": "https://localhost:8080/"
        },
        "id": "gs9m0sTDp0q9",
        "outputId": "3c27b74c-0bf9-4685-f8ec-c0131db4e5aa"
      },
      "execution_count": null,
      "outputs": [
        {
          "output_type": "stream",
          "name": "stdout",
          "text": [
            "Digite o 1 número:3\n",
            "Digite o 2 número:3\n",
            "Digite o 3 número:3\n",
            "Digite o 4 número:3\n",
            "Média: 3.0\n"
          ]
        }
      ]
    },
    {
      "cell_type": "markdown",
      "source": [
        "## Operadores de atribuição especial\n",
        "\n",
        "$+= x+=1 x=x+1$\n",
        "\n",
        "$-= x-=1 x=x-1$\n",
        "\n",
        "$*= m*=2 m=m*2$\n",
        "\n",
        "$/= d/=2 d=d/2$\n",
        "\n",
        "$**=$   $e**=2$  $e=e**2$\n",
        "\n",
        "$//= f//=4 f=f//4$"
      ],
      "metadata": {
        "id": "P9V2mvhyrM8e"
      }
    },
    {
      "cell_type": "markdown",
      "source": [
        "## Interrupção de repetição\n",
        "\n",
        "Para executar uma interupção é precisa inserir um break no programa."
      ],
      "metadata": {
        "id": "O0fqesUMsoY7"
      }
    },
    {
      "cell_type": "code",
      "source": [
        "soma=0\n",
        "while True:\n",
        "  x = int(input(f\"Digite um número ou 0 para sair:\"))\n",
        "  if x ==0:\n",
        "    break\n",
        "  soma += x\n",
        "print(soma)"
      ],
      "metadata": {
        "colab": {
          "base_uri": "https://localhost:8080/"
        },
        "id": "7S5ghnmGtCpH",
        "outputId": "1e44f6e3-d9a1-48e4-fc85-8c3fef4450e8"
      },
      "execution_count": null,
      "outputs": [
        {
          "output_type": "stream",
          "name": "stdout",
          "text": [
            "Digite um número ou 0 para sair:10\n",
            "Digite um número ou 0 para sair:10\n",
            "Digite um número ou 0 para sair:10\n",
            "Digite um número ou 0 para sair:0\n",
            "30\n"
          ]
        }
      ]
    },
    {
      "cell_type": "markdown",
      "source": [
        "## Repetição Aninhada\n",
        "\n",
        "Repetições que permintem o incrimentos dos diversas variáveis"
      ],
      "metadata": {
        "id": "Vida8cVvt6GS"
      }
    },
    {
      "cell_type": "code",
      "source": [
        "tabuada =1\n",
        "while tabuada <=10:\n",
        "  numero = 1\n",
        "  while numero <=10:\n",
        "    print(f\"{tabuada} x {numero} = {tabuada*numero}\")\n",
        "    numero +=1\n",
        "  tabuada +=1"
      ],
      "metadata": {
        "colab": {
          "base_uri": "https://localhost:8080/"
        },
        "id": "ar3mZZxftCX2",
        "outputId": "dc4c039d-4582-44b6-ffb4-36f1801d8626"
      },
      "execution_count": null,
      "outputs": [
        {
          "output_type": "stream",
          "name": "stdout",
          "text": [
            "1 x 1 = 1\n",
            "1 x 2 = 2\n",
            "1 x 3 = 3\n",
            "1 x 4 = 4\n",
            "1 x 5 = 5\n",
            "1 x 6 = 6\n",
            "1 x 7 = 7\n",
            "1 x 8 = 8\n",
            "1 x 9 = 9\n",
            "1 x 10 = 10\n",
            "2 x 1 = 2\n",
            "2 x 2 = 4\n",
            "2 x 3 = 6\n",
            "2 x 4 = 8\n",
            "2 x 5 = 10\n",
            "2 x 6 = 12\n",
            "2 x 7 = 14\n",
            "2 x 8 = 16\n",
            "2 x 9 = 18\n",
            "2 x 10 = 20\n",
            "3 x 1 = 3\n",
            "3 x 2 = 6\n",
            "3 x 3 = 9\n",
            "3 x 4 = 12\n",
            "3 x 5 = 15\n",
            "3 x 6 = 18\n",
            "3 x 7 = 21\n",
            "3 x 8 = 24\n",
            "3 x 9 = 27\n",
            "3 x 10 = 30\n",
            "4 x 1 = 4\n",
            "4 x 2 = 8\n",
            "4 x 3 = 12\n",
            "4 x 4 = 16\n",
            "4 x 5 = 20\n",
            "4 x 6 = 24\n",
            "4 x 7 = 28\n",
            "4 x 8 = 32\n",
            "4 x 9 = 36\n",
            "4 x 10 = 40\n",
            "5 x 1 = 5\n",
            "5 x 2 = 10\n",
            "5 x 3 = 15\n",
            "5 x 4 = 20\n",
            "5 x 5 = 25\n",
            "5 x 6 = 30\n",
            "5 x 7 = 35\n",
            "5 x 8 = 40\n",
            "5 x 9 = 45\n",
            "5 x 10 = 50\n",
            "6 x 1 = 6\n",
            "6 x 2 = 12\n",
            "6 x 3 = 18\n",
            "6 x 4 = 24\n",
            "6 x 5 = 30\n",
            "6 x 6 = 36\n",
            "6 x 7 = 42\n",
            "6 x 8 = 48\n",
            "6 x 9 = 54\n",
            "6 x 10 = 60\n",
            "7 x 1 = 7\n",
            "7 x 2 = 14\n",
            "7 x 3 = 21\n",
            "7 x 4 = 28\n",
            "7 x 5 = 35\n",
            "7 x 6 = 42\n",
            "7 x 7 = 49\n",
            "7 x 8 = 56\n",
            "7 x 9 = 63\n",
            "7 x 10 = 70\n",
            "8 x 1 = 8\n",
            "8 x 2 = 16\n",
            "8 x 3 = 24\n",
            "8 x 4 = 32\n",
            "8 x 5 = 40\n",
            "8 x 6 = 48\n",
            "8 x 7 = 56\n",
            "8 x 8 = 64\n",
            "8 x 9 = 72\n",
            "8 x 10 = 80\n",
            "9 x 1 = 9\n",
            "9 x 2 = 18\n",
            "9 x 3 = 27\n",
            "9 x 4 = 36\n",
            "9 x 5 = 45\n",
            "9 x 6 = 54\n",
            "9 x 7 = 63\n",
            "9 x 8 = 72\n",
            "9 x 9 = 81\n",
            "9 x 10 = 90\n",
            "10 x 1 = 10\n",
            "10 x 2 = 20\n",
            "10 x 3 = 30\n",
            "10 x 4 = 40\n",
            "10 x 5 = 50\n",
            "10 x 6 = 60\n",
            "10 x 7 = 70\n",
            "10 x 8 = 80\n",
            "10 x 9 = 90\n",
            "10 x 10 = 100\n"
          ]
        }
      ]
    },
    {
      "cell_type": "markdown",
      "source": [
        "$ if <condição>:$\n",
        "\n",
        "$programa$\n",
        "\n",
        "if True:\n",
        "x+=1 <- executada\n",
        "\n",
        "\n"
      ],
      "metadata": {
        "id": "9h9Q519Ovhky"
      }
    },
    {
      "cell_type": "markdown",
      "source": [
        "$ se <condição>:$\n",
        "\n",
        "$programa_A$\n",
        "\n",
        "$senão:$\n",
        "\n",
        "$programa_B$\n",
        "\n",
        "\n",
        "if True <- $programa_A$\n",
        "\n",
        "if False <- $programa_B$"
      ],
      "metadata": {
        "id": "SBRXYsIbwWTv"
      }
    },
    {
      "cell_type": "markdown",
      "source": [
        "$while <condição>$\n",
        "\n",
        "$programa$\n",
        "\n",
        "enquanto True\n",
        "\n",
        "programa"
      ],
      "metadata": {
        "id": "5xX0aYhTw-Kl"
      }
    }
  ]
}