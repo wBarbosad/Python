{
  "nbformat": 4,
  "nbformat_minor": 0,
  "metadata": {
    "colab": {
      "provenance": []
    },
    "kernelspec": {
      "name": "python3",
      "display_name": "Python 3"
    },
    "language_info": {
      "name": "python"
    }
  },
  "cells": [
    {
      "cell_type": "code",
      "execution_count": 1,
      "metadata": {
        "id": "6ZY8vkSPtRMf"
      },
      "outputs": [],
      "source": [
        "String = \"Alô Mundo\""
      ]
    },
    {
      "cell_type": "code",
      "source": [
        "print(String)"
      ],
      "metadata": {
        "colab": {
          "base_uri": "https://localhost:8080/"
        },
        "id": "bpz0RtCfuh70",
        "outputId": "446e5ad5-ba7a-416d-c262-d0e48d558102"
      },
      "execution_count": 2,
      "outputs": [
        {
          "output_type": "stream",
          "name": "stdout",
          "text": [
            "Alô Mundo\n"
          ]
        }
      ]
    },
    {
      "cell_type": "code",
      "source": [
        "print(String[0])"
      ],
      "metadata": {
        "colab": {
          "base_uri": "https://localhost:8080/"
        },
        "id": "a0lo_rs1urhg",
        "outputId": "ca96fee6-b0a1-4c10-9e2b-cce5a378cc52"
      },
      "execution_count": 3,
      "outputs": [
        {
          "output_type": "stream",
          "name": "stdout",
          "text": [
            "A\n"
          ]
        }
      ]
    },
    {
      "cell_type": "code",
      "source": [
        "String[0]=\"a\""
      ],
      "metadata": {
        "colab": {
          "base_uri": "https://localhost:8080/",
          "height": 172
        },
        "id": "Ubeis03Yuw50",
        "outputId": "329f3d31-6f15-46ad-ee51-f65a9bc1d74b"
      },
      "execution_count": 4,
      "outputs": [
        {
          "output_type": "error",
          "ename": "TypeError",
          "evalue": "ignored",
          "traceback": [
            "\u001b[0;31m---------------------------------------------------------------------------\u001b[0m",
            "\u001b[0;31mTypeError\u001b[0m                                 Traceback (most recent call last)",
            "\u001b[0;32m<ipython-input-4-e921f10f5725>\u001b[0m in \u001b[0;36m<cell line: 1>\u001b[0;34m()\u001b[0m\n\u001b[0;32m----> 1\u001b[0;31m \u001b[0mString\u001b[0m\u001b[0;34m[\u001b[0m\u001b[0;36m0\u001b[0m\u001b[0;34m]\u001b[0m\u001b[0;34m=\u001b[0m\u001b[0;34m\"a\"\u001b[0m\u001b[0;34m\u001b[0m\u001b[0;34m\u001b[0m\u001b[0m\n\u001b[0m",
            "\u001b[0;31mTypeError\u001b[0m: 'str' object does not support item assignment"
          ]
        }
      ]
    },
    {
      "cell_type": "code",
      "source": [
        "Lista = list(\"Alô Mundo\")"
      ],
      "metadata": {
        "id": "Nrq3UkDVv8tr"
      },
      "execution_count": 5,
      "outputs": []
    },
    {
      "cell_type": "code",
      "source": [
        "print(Lista)"
      ],
      "metadata": {
        "colab": {
          "base_uri": "https://localhost:8080/"
        },
        "id": "DT8U613XwDc-",
        "outputId": "814d7b15-a0ee-411b-b861-dde9c9c25952"
      },
      "execution_count": 6,
      "outputs": [
        {
          "output_type": "stream",
          "name": "stdout",
          "text": [
            "['A', 'l', 'ô', ' ', 'M', 'u', 'n', 'd', 'o']\n"
          ]
        }
      ]
    },
    {
      "cell_type": "code",
      "source": [
        "Lista[0]=\"a\""
      ],
      "metadata": {
        "id": "K3Jx9t0owMIn"
      },
      "execution_count": 8,
      "outputs": []
    },
    {
      "cell_type": "code",
      "source": [
        "print(Lista)"
      ],
      "metadata": {
        "colab": {
          "base_uri": "https://localhost:8080/"
        },
        "id": "eV3GIKhbwTuo",
        "outputId": "5cc9b125-5f08-448c-bff2-7aa5186b6885"
      },
      "execution_count": 9,
      "outputs": [
        {
          "output_type": "stream",
          "name": "stdout",
          "text": [
            "['a', 'l', 'ô', ' ', 'M', 'u', 'n', 'd', 'o']\n"
          ]
        }
      ]
    },
    {
      "cell_type": "code",
      "source": [
        "string=\"\".join(Lista)"
      ],
      "metadata": {
        "id": "GcDrlp_hwfdE"
      },
      "execution_count": 10,
      "outputs": []
    },
    {
      "cell_type": "code",
      "source": [
        "print(string)"
      ],
      "metadata": {
        "colab": {
          "base_uri": "https://localhost:8080/"
        },
        "id": "5iiXZHVGwoOR",
        "outputId": "36f536dd-602e-4142-d53e-726f6df257f7"
      },
      "execution_count": 12,
      "outputs": [
        {
          "output_type": "stream",
          "name": "stdout",
          "text": [
            "alô Mundo\n"
          ]
        }
      ]
    },
    {
      "cell_type": "code",
      "source": [
        "nome = \"Caetano Veloso\""
      ],
      "metadata": {
        "id": "I3ErBfT3w32f"
      },
      "execution_count": 13,
      "outputs": []
    },
    {
      "cell_type": "code",
      "source": [
        "nome.startswith(\"Caetano\")"
      ],
      "metadata": {
        "colab": {
          "base_uri": "https://localhost:8080/"
        },
        "id": "un_9HNk0w_pl",
        "outputId": "716cac22-cc70-4f5e-9fbd-46b055f7b332"
      },
      "execution_count": 14,
      "outputs": [
        {
          "output_type": "execute_result",
          "data": {
            "text/plain": [
              "True"
            ]
          },
          "metadata": {},
          "execution_count": 14
        }
      ]
    },
    {
      "cell_type": "code",
      "source": [
        "nome.startswith(\"caetano\")"
      ],
      "metadata": {
        "colab": {
          "base_uri": "https://localhost:8080/"
        },
        "id": "HZF0F8FExPtW",
        "outputId": "9e97ae00-ea8a-480c-e951-134f3469f334"
      },
      "execution_count": 15,
      "outputs": [
        {
          "output_type": "execute_result",
          "data": {
            "text/plain": [
              "False"
            ]
          },
          "metadata": {},
          "execution_count": 15
        }
      ]
    },
    {
      "cell_type": "code",
      "source": [
        "nome.endswith(\"Veloso\")"
      ],
      "metadata": {
        "colab": {
          "base_uri": "https://localhost:8080/"
        },
        "id": "mIXPZjAcxZxY",
        "outputId": "55a56fe2-8702-420c-a7e0-b35321ffce8f"
      },
      "execution_count": 16,
      "outputs": [
        {
          "output_type": "execute_result",
          "data": {
            "text/plain": [
              "True"
            ]
          },
          "metadata": {},
          "execution_count": 16
        }
      ]
    },
    {
      "cell_type": "code",
      "source": [
        "nome.lower().startswith(\"caetano\")"
      ],
      "metadata": {
        "colab": {
          "base_uri": "https://localhost:8080/"
        },
        "id": "TN562GEvxwbd",
        "outputId": "adfcbb57-f25d-4ee2-bbed-c56e8f5d86b3"
      },
      "execution_count": 19,
      "outputs": [
        {
          "output_type": "execute_result",
          "data": {
            "text/plain": [
              "True"
            ]
          },
          "metadata": {},
          "execution_count": 19
        }
      ]
    },
    {
      "cell_type": "code",
      "source": [
        "nome.upper()"
      ],
      "metadata": {
        "colab": {
          "base_uri": "https://localhost:8080/",
          "height": 35
        },
        "id": "kdtglkLcx3dT",
        "outputId": "ab2ec4e4-7ac4-4161-db7a-c7c1fd4b398e"
      },
      "execution_count": 18,
      "outputs": [
        {
          "output_type": "execute_result",
          "data": {
            "text/plain": [
              "'CAETANO VELOSO'"
            ],
            "application/vnd.google.colaboratory.intrinsic+json": {
              "type": "string"
            }
          },
          "metadata": {},
          "execution_count": 18
        }
      ]
    },
    {
      "cell_type": "code",
      "source": [
        "\"VELOSO\" in nome.upper()"
      ],
      "metadata": {
        "colab": {
          "base_uri": "https://localhost:8080/"
        },
        "id": "qtqWprprySNw",
        "outputId": "6984abdb-ba14-437f-b46e-341bf0780242"
      },
      "execution_count": 31,
      "outputs": [
        {
          "output_type": "execute_result",
          "data": {
            "text/plain": [
              "True"
            ]
          },
          "metadata": {},
          "execution_count": 31
        }
      ]
    },
    {
      "cell_type": "code",
      "source": [
        "tigres = \"um tigre, dois tigres, três tigres\""
      ],
      "metadata": {
        "id": "e4h5IiT-z6-s"
      },
      "execution_count": 32,
      "outputs": []
    },
    {
      "cell_type": "code",
      "source": [
        "tigres.count(\"tigres\")"
      ],
      "metadata": {
        "colab": {
          "base_uri": "https://localhost:8080/"
        },
        "id": "YsAAwi8i0E2q",
        "outputId": "a8ae6a00-9ea6-4855-e85a-19fb2369dc08"
      },
      "execution_count": 34,
      "outputs": [
        {
          "output_type": "execute_result",
          "data": {
            "text/plain": [
              "2"
            ]
          },
          "metadata": {},
          "execution_count": 34
        }
      ]
    },
    {
      "cell_type": "code",
      "source": [
        "tigres.rfind(\"tigre\", 30)"
      ],
      "metadata": {
        "colab": {
          "base_uri": "https://localhost:8080/"
        },
        "id": "SB4mW3r30Uk1",
        "outputId": "867eca78-08d6-43a8-9d89-90f25da1df6c"
      },
      "execution_count": 45,
      "outputs": [
        {
          "output_type": "execute_result",
          "data": {
            "text/plain": [
              "-1"
            ]
          },
          "metadata": {},
          "execution_count": 45
        }
      ]
    },
    {
      "cell_type": "code",
      "source": [
        "tigres.find(\"tigre\",0, 10)"
      ],
      "metadata": {
        "colab": {
          "base_uri": "https://localhost:8080/"
        },
        "id": "ZQ6MmGti1PRr",
        "outputId": "15ffdaf3-812f-4ecf-949c-4fba17e8c975"
      },
      "execution_count": 42,
      "outputs": [
        {
          "output_type": "execute_result",
          "data": {
            "text/plain": [
              "3"
            ]
          },
          "metadata": {},
          "execution_count": 42
        }
      ]
    },
    {
      "cell_type": "code",
      "source": [
        "p=0\n",
        "while(p>-1):\n",
        "  p=tigres.find(\"tigre\", p)\n",
        "  if p>=0:\n",
        "    print(f\"Posição: {p}\")\n",
        "    p+=1"
      ],
      "metadata": {
        "colab": {
          "base_uri": "https://localhost:8080/"
        },
        "id": "49Ygoi2A1_56",
        "outputId": "861e3b3a-ad7f-4a30-96cf-9d088b0e6a9f"
      },
      "execution_count": 43,
      "outputs": [
        {
          "output_type": "stream",
          "name": "stdout",
          "text": [
            "Posição: 3\n",
            "Posição: 15\n",
            "Posição: 28\n"
          ]
        }
      ]
    },
    {
      "cell_type": "code",
      "source": [
        "tigres.rindex(\"tigre\", 14, 26)"
      ],
      "metadata": {
        "colab": {
          "base_uri": "https://localhost:8080/"
        },
        "id": "uiNoSTf63Nfv",
        "outputId": "b77853b7-470d-4bec-cfce-cb25cf0f3b57"
      },
      "execution_count": 50,
      "outputs": [
        {
          "output_type": "execute_result",
          "data": {
            "text/plain": [
              "15"
            ]
          },
          "metadata": {},
          "execution_count": 50
        }
      ]
    },
    {
      "cell_type": "code",
      "source": [
        "tigres = \"um tigre, dois tigres, três tigres\""
      ],
      "metadata": {
        "id": "dAL5xqRd3xXp"
      },
      "execution_count": 51,
      "outputs": []
    },
    {
      "cell_type": "code",
      "source": [
        "tigres.split(\" \")"
      ],
      "metadata": {
        "colab": {
          "base_uri": "https://localhost:8080/"
        },
        "id": "jKLR9XrR3zMv",
        "outputId": "19bf3caa-3688-425a-9b3c-6dbcd1114872"
      },
      "execution_count": 57,
      "outputs": [
        {
          "output_type": "execute_result",
          "data": {
            "text/plain": [
              "['um', 'tigre,', 'dois', 'tigres,', 'três', 'tigres']"
            ]
          },
          "metadata": {},
          "execution_count": 57
        }
      ]
    },
    {
      "cell_type": "code",
      "source": [
        "tigres2 = \"um tigre \\ndois tigres \\ntrês tigres\""
      ],
      "metadata": {
        "id": "xyFHt_m04o6S"
      },
      "execution_count": 60,
      "outputs": []
    },
    {
      "cell_type": "code",
      "source": [
        "print(tigres2)"
      ],
      "metadata": {
        "colab": {
          "base_uri": "https://localhost:8080/"
        },
        "id": "pT0djxqx4vOF",
        "outputId": "28286ea8-2d7d-42bd-c37b-4609374b5e2c"
      },
      "execution_count": 61,
      "outputs": [
        {
          "output_type": "stream",
          "name": "stdout",
          "text": [
            "um tigre \n",
            "dois tigres \n",
            "três tigres\n"
          ]
        }
      ]
    },
    {
      "cell_type": "code",
      "source": [
        "tigres2.splitlines()"
      ],
      "metadata": {
        "colab": {
          "base_uri": "https://localhost:8080/"
        },
        "id": "thkxymau45Cu",
        "outputId": "9c6da799-472f-4214-fcac-7ae78b8f4cfa"
      },
      "execution_count": 62,
      "outputs": [
        {
          "output_type": "execute_result",
          "data": {
            "text/plain": [
              "['um tigre ', 'dois tigres ', 'três tigres']"
            ]
          },
          "metadata": {},
          "execution_count": 62
        }
      ]
    },
    {
      "cell_type": "code",
      "source": [
        "tigres2.replace(\"tigre\", \"cachorro\", 2)"
      ],
      "metadata": {
        "colab": {
          "base_uri": "https://localhost:8080/",
          "height": 35
        },
        "id": "wxtJTQ465D3E",
        "outputId": "2bfec5ff-5447-4090-9d9a-7d07393cd837"
      },
      "execution_count": 65,
      "outputs": [
        {
          "output_type": "execute_result",
          "data": {
            "text/plain": [
              "'um cachorro \\ndois cachorros \\ntrês tigres'"
            ],
            "application/vnd.google.colaboratory.intrinsic+json": {
              "type": "string"
            }
          },
          "metadata": {},
          "execution_count": 65
        }
      ]
    },
    {
      "cell_type": "code",
      "source": [
        "print(tigres2)"
      ],
      "metadata": {
        "colab": {
          "base_uri": "https://localhost:8080/"
        },
        "id": "Nzgc6kxf5qFK",
        "outputId": "21adfeea-d88c-4a9f-e0be-31c573fd26b7"
      },
      "execution_count": 66,
      "outputs": [
        {
          "output_type": "stream",
          "name": "stdout",
          "text": [
            "um tigre \n",
            "dois tigres \n",
            "três tigres\n"
          ]
        }
      ]
    },
    {
      "cell_type": "code",
      "source": [
        "cachorros = tigres2.replace(\"tigre\", \"cachorro\", 2)"
      ],
      "metadata": {
        "id": "SDriGAiR5ylR"
      },
      "execution_count": 67,
      "outputs": []
    },
    {
      "cell_type": "code",
      "source": [
        "print(cachorros)"
      ],
      "metadata": {
        "colab": {
          "base_uri": "https://localhost:8080/"
        },
        "id": "f9Zg5bRw54Os",
        "outputId": "503b8489-9062-4a6d-bc28-a43c2a824f04"
      },
      "execution_count": 68,
      "outputs": [
        {
          "output_type": "stream",
          "name": "stdout",
          "text": [
            "um cachorro \n",
            "dois cachorros \n",
            "três tigres\n"
          ]
        }
      ]
    },
    {
      "cell_type": "code",
      "source": [
        "s=\"...Hello  Moto...\""
      ],
      "metadata": {
        "id": "ICXZ3aV-5_21"
      },
      "execution_count": 76,
      "outputs": []
    },
    {
      "cell_type": "code",
      "source": [
        "s.strip(\".\")"
      ],
      "metadata": {
        "colab": {
          "base_uri": "https://localhost:8080/",
          "height": 35
        },
        "id": "awIAaJJR6bjy",
        "outputId": "d7fe8ead-2475-4040-bdbf-92eea5d047f4"
      },
      "execution_count": 77,
      "outputs": [
        {
          "output_type": "execute_result",
          "data": {
            "text/plain": [
              "'Hello  Moto'"
            ],
            "application/vnd.google.colaboratory.intrinsic+json": {
              "type": "string"
            }
          },
          "metadata": {},
          "execution_count": 77
        }
      ]
    },
    {
      "cell_type": "code",
      "source": [
        "p=\"helloword\"\n",
        "s=\"134\""
      ],
      "metadata": {
        "id": "w7XvL-BM7Zy0"
      },
      "execution_count": 83,
      "outputs": []
    },
    {
      "cell_type": "code",
      "source": [
        "p.isalnum()"
      ],
      "metadata": {
        "colab": {
          "base_uri": "https://localhost:8080/"
        },
        "id": "fa_CVyoO7qCI",
        "outputId": "3392f205-a116-4adb-d6e0-232c4ae367aa"
      },
      "execution_count": 80,
      "outputs": [
        {
          "output_type": "execute_result",
          "data": {
            "text/plain": [
              "False"
            ]
          },
          "metadata": {},
          "execution_count": 80
        }
      ]
    },
    {
      "cell_type": "code",
      "source": [
        "p.isalpha()"
      ],
      "metadata": {
        "colab": {
          "base_uri": "https://localhost:8080/"
        },
        "id": "ES9HtWpi8B63",
        "outputId": "3bbc9509-8135-4947-bbd5-1a0f9f66b03a"
      },
      "execution_count": 84,
      "outputs": [
        {
          "output_type": "execute_result",
          "data": {
            "text/plain": [
              "True"
            ]
          },
          "metadata": {},
          "execution_count": 84
        }
      ]
    },
    {
      "cell_type": "code",
      "source": [
        "s.isnumeric()"
      ],
      "metadata": {
        "colab": {
          "base_uri": "https://localhost:8080/"
        },
        "id": "Xqbbao3b8bOf",
        "outputId": "2d65ea31-b6d9-4616-fe09-eebb58f0dcb7"
      },
      "execution_count": 87,
      "outputs": [
        {
          "output_type": "execute_result",
          "data": {
            "text/plain": [
              "True"
            ]
          },
          "metadata": {},
          "execution_count": 87
        }
      ]
    },
    {
      "cell_type": "code",
      "source": [
        "unicode = \"\\u2153\" 1/3"
      ],
      "metadata": {
        "id": "d-_ks4Cj9D5f"
      },
      "execution_count": 88,
      "outputs": []
    },
    {
      "cell_type": "code",
      "source": [
        "unicode.isnumeric()"
      ],
      "metadata": {
        "colab": {
          "base_uri": "https://localhost:8080/"
        },
        "id": "feuDKO6I9JMc",
        "outputId": "b7a7e938-ad5f-4c9c-9de1-c88fec971699"
      },
      "execution_count": 89,
      "outputs": [
        {
          "output_type": "execute_result",
          "data": {
            "text/plain": [
              "True"
            ]
          },
          "metadata": {},
          "execution_count": 89
        }
      ]
    },
    {
      "cell_type": "code",
      "source": [
        "print(p)"
      ],
      "metadata": {
        "colab": {
          "base_uri": "https://localhost:8080/"
        },
        "id": "BYZ9qLN79Vjd",
        "outputId": "c1b9e525-6885-49ee-c863-f8ebc2bf4ae7"
      },
      "execution_count": 90,
      "outputs": [
        {
          "output_type": "stream",
          "name": "stdout",
          "text": [
            "helloword\n"
          ]
        }
      ]
    },
    {
      "cell_type": "code",
      "source": [
        "p.islower()"
      ],
      "metadata": {
        "colab": {
          "base_uri": "https://localhost:8080/"
        },
        "id": "cryCWjz_9Yb8",
        "outputId": "4200cba7-be55-43f1-e0e3-b3b594f1584e"
      },
      "execution_count": 92,
      "outputs": [
        {
          "output_type": "execute_result",
          "data": {
            "text/plain": [
              "True"
            ]
          },
          "metadata": {},
          "execution_count": 92
        }
      ]
    },
    {
      "cell_type": "code",
      "source": [
        "\"Hello Word\".isprintable()"
      ],
      "metadata": {
        "colab": {
          "base_uri": "https://localhost:8080/"
        },
        "id": "S91Wpyih9r_B",
        "outputId": "dd8e4f2a-8396-4d7b-cb70-6ed6c45b9509"
      },
      "execution_count": 102,
      "outputs": [
        {
          "output_type": "execute_result",
          "data": {
            "text/plain": [
              "True"
            ]
          },
          "metadata": {},
          "execution_count": 102
        }
      ]
    },
    {
      "cell_type": "code",
      "source": [
        "w=\"um \\n dois \\t três \\r\""
      ],
      "metadata": {
        "id": "VRRokvrW9_Kr"
      },
      "execution_count": 97,
      "outputs": []
    },
    {
      "cell_type": "code",
      "source": [
        "print(w)"
      ],
      "metadata": {
        "colab": {
          "base_uri": "https://localhost:8080/"
        },
        "id": "ZuS32HM6-KHk",
        "outputId": "e61ced43-2cef-4d1f-ad1e-851c2dbb36d8"
      },
      "execution_count": 98,
      "outputs": [
        {
          "output_type": "stream",
          "name": "stdout",
          "text": [
            "um \n",
            " dois \t três \r\n"
          ]
        }
      ]
    },
    {
      "cell_type": "code",
      "source": [
        "\"{2} {0} {1} {2}\".format(\"Hello\", \"Word\", \"2023\")"
      ],
      "metadata": {
        "colab": {
          "base_uri": "https://localhost:8080/",
          "height": 35
        },
        "id": "c2USe9gh-zn4",
        "outputId": "e8d28491-3fd3-4682-f519-dd13c853593b"
      },
      "execution_count": 106,
      "outputs": [
        {
          "output_type": "execute_result",
          "data": {
            "text/plain": [
              "'2023 Hello Word 2023'"
            ],
            "application/vnd.google.colaboratory.intrinsic+json": {
              "type": "string"
            }
          },
          "metadata": {},
          "execution_count": 106
        }
      ]
    },
    {
      "cell_type": "code",
      "source": [
        "\"{0:?<10}{1}\".format(\"123\", \"4567\")"
      ],
      "metadata": {
        "colab": {
          "base_uri": "https://localhost:8080/",
          "height": 35
        },
        "id": "smPHOoKe_wLC",
        "outputId": "1520be8a-8493-4f82-e23b-495a47a5fa3a"
      },
      "execution_count": 115,
      "outputs": [
        {
          "output_type": "execute_result",
          "data": {
            "text/plain": [
              "'123???????4567'"
            ],
            "application/vnd.google.colaboratory.intrinsic+json": {
              "type": "string"
            }
          },
          "metadata": {},
          "execution_count": 115
        }
      ]
    }
  ]
}