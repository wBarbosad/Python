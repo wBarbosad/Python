{
  "nbformat": 4,
  "nbformat_minor": 0,
  "metadata": {
    "colab": {
      "provenance": []
    },
    "kernelspec": {
      "name": "python3",
      "display_name": "Python 3"
    },
    "language_info": {
      "name": "python"
    }
  },
  "cells": [
    {
      "cell_type": "code",
      "execution_count": null,
      "metadata": {
        "colab": {
          "base_uri": "https://localhost:8080/"
        },
        "id": "1sDh6ZZW4t7b",
        "outputId": "4e735bd6-2f8b-4a5b-f7d3-b37dc804307e"
      },
      "outputs": [
        {
          "output_type": "stream",
          "name": "stdout",
          "text": [
            "Qual é a velocidade do seu carro?\n",
            "Responda: 80\n",
            "\n",
            "O(a) senhor(a) foi mutado(a) por excesso de velocidade!\n",
            "\n",
            "O valor da multa é R$ 5 reais \n"
          ]
        }
      ],
      "source": [
        "velocidade = float(input(\"Qual é a velocidade do seu carro?\\nResponda: \"))\n",
        "ValorMulta = 0.0\n",
        "if (velocidade>=80) and (velocidade<160):\n",
        "  print(\"\\nO(a) senhor(a) foi mutado(a) por excesso de velocidade!\")\n",
        "  ValorMulta = 5\n",
        "  print(f\"\\nO valor da multa é R$ {ValorMulta} reais \")\n",
        "else:\n",
        "  if velocidade>=160:\n",
        "    ValorMulta = 2*5\n",
        "    print(\"\\nO(a) senhor(a) foi mutado(a) por excesso de velocidade!\")\n",
        "    ValorMulta = 5\n",
        "    print(f\"O valor da multa é R$ {ValorMulta} reais\")\n",
        "  else: print(\"\\nO(a) senhor(a) não foi multado(a)\")\n",
        "\n"
      ]
    },
    {
      "cell_type": "code",
      "source": [],
      "metadata": {
        "id": "mRQMDnaF55Kf"
      },
      "execution_count": null,
      "outputs": []
    }
  ]
}