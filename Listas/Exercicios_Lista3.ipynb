{
  "nbformat": 4,
  "nbformat_minor": 0,
  "metadata": {
    "colab": {
      "provenance": []
    },
    "kernelspec": {
      "name": "python3",
      "display_name": "Python 3"
    },
    "language_info": {
      "name": "python"
    }
  },
  "cells": [
    {
      "cell_type": "markdown",
      "source": [
        "**Exercício 01:**"
      ],
      "metadata": {
        "id": "F_uUXIZIp9c9"
      }
    },
    {
      "cell_type": "code",
      "execution_count": null,
      "metadata": {
        "colab": {
          "base_uri": "https://localhost:8080/"
        },
        "id": "1sDh6ZZW4t7b",
        "outputId": "4e735bd6-2f8b-4a5b-f7d3-b37dc804307e"
      },
      "outputs": [
        {
          "output_type": "stream",
          "name": "stdout",
          "text": [
            "Qual é a velocidade do seu carro?\n",
            "Responda: 80\n",
            "\n",
            "O(a) senhor(a) foi mutado(a) por excesso de velocidade!\n",
            "\n",
            "O valor da multa é R$ 5 reais \n"
          ]
        }
      ],
      "source": [
        "velocidade = float(input(\"Qual é a velocidade do seu carro?\\nResponda: \"))\n",
        "ValorMulta = 0.0\n",
        "if (velocidade>=80) and (velocidade<160):\n",
        "  print(\"\\nO(a) senhor(a) foi mutado(a) por excesso de velocidade!\")\n",
        "  ValorMulta = 5\n",
        "  print(f\"\\nO valor da multa é R$ {ValorMulta} reais \")\n",
        "else:\n",
        "  if velocidade>=160:\n",
        "    ValorMulta = 2*5\n",
        "    print(\"\\nO(a) senhor(a) foi mutado(a) por excesso de velocidade!\")\n",
        "    ValorMulta = 5\n",
        "    print(f\"O valor da multa é R$ {ValorMulta} reais\")\n",
        "  else: print(\"\\nO(a) senhor(a) não foi multado(a)\")\n",
        "\n"
      ]
    },
    {
      "cell_type": "markdown",
      "source": [
        "**Exercício 02:**"
      ],
      "metadata": {
        "id": "ZreN3UzkqKma"
      }
    },
    {
      "cell_type": "code",
      "source": [
        "numero1 = float(input(\"Informe o primeiro número: \"))\n",
        "numero2 = float(input(\"Informe o segundo número: \"))\n",
        "numero3 = float(input(\"Informe o terceiro número: \"))\n",
        "\n",
        "\n",
        "if (numero1>=numero2) and (numero1>=numero3): \n",
        "  print(f\"\\nO maior número = {numero1}\")\n",
        "else:\n",
        "  if (numero2>=numero3) and (numero2>=numero1): \n",
        "      print(f\"\\nO maior número = {numero2}\")\n",
        "  else: print(f\"\\nO maior número = {numero3}\")\n"
      ],
      "metadata": {
        "colab": {
          "base_uri": "https://localhost:8080/"
        },
        "id": "y3wibchdqMpT",
        "outputId": "28f262da-03fd-48c4-a4b3-a04af009a1de"
      },
      "execution_count": 6,
      "outputs": [
        {
          "output_type": "stream",
          "name": "stdout",
          "text": [
            "Informe o primeiro número: 5.6\n",
            "Informe o segundo número: 8.9\n",
            "Informe o terceiro número: 9.3\n",
            "\n",
            "O maior número = 9.3\n"
          ]
        }
      ]
    },
    {
      "cell_type": "markdown",
      "source": [
        "**Exercício 03:**"
      ],
      "metadata": {
        "id": "B9BBIKV9s3kD"
      }
    },
    {
      "cell_type": "code",
      "source": [
        "salario = float(input(\"Informe o seu salário: \"))\n",
        "if salario>1250:\n",
        "  print(f\"O seu salario com o ajuste/aumento de 10% = {salario*(110/100):4.3f}\")\n",
        "else: \n",
        "    print(f\"O seu salario com o ajuste/aumento de 15% = {salario*(115/100):4.3f}\")\n",
        "\n",
        "\n"
      ],
      "metadata": {
        "colab": {
          "base_uri": "https://localhost:8080/"
        },
        "id": "uoxNuGW5s6Dj",
        "outputId": "f21fb2aa-e766-4943-9c15-9cf9ef9550b4"
      },
      "execution_count": 13,
      "outputs": [
        {
          "output_type": "stream",
          "name": "stdout",
          "text": [
            "Informe o seu salário: 15000\n",
            "O seu salario com o ajuste/aumento de 10% = 16500.000\n"
          ]
        }
      ]
    },
    {
      "cell_type": "markdown",
      "source": [
        "**Exercício 04:**\n"
      ],
      "metadata": {
        "id": "LNOmFXl6uQej"
      }
    },
    {
      "cell_type": "code",
      "source": [
        "distancia = float(input(\"Informe a distância que deseja percorrer em (km): \"))\n",
        "if distancia<=200: \n",
        "  print(f\"O preço da passagem a ser cobrada por essa distância = R$ {distancia*0.50} Reais \")\n",
        "else: \n",
        "  if distancia>200:\n",
        "    print(f\"O preço da passagem a ser cobrada por essa distância = R$ {distancia*0.45} Reais\")\n",
        "\n"
      ],
      "metadata": {
        "colab": {
          "base_uri": "https://localhost:8080/"
        },
        "id": "6501bbzJuVcm",
        "outputId": "9c5523c6-286a-4d05-d6bf-4f8ad93e941a"
      },
      "execution_count": 18,
      "outputs": [
        {
          "output_type": "stream",
          "name": "stdout",
          "text": [
            "Informe a distância que deseja percorrer em (km): 201\n",
            "O preço da passagem a ser cobrada por essa distância = R$ 90.45 Reais\n"
          ]
        }
      ]
    }
  ]
}