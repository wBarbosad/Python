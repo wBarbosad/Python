{
  "nbformat": 4,
  "nbformat_minor": 0,
  "metadata": {
    "colab": {
      "provenance": []
    },
    "kernelspec": {
      "name": "python3",
      "display_name": "Python 3"
    },
    "language_info": {
      "name": "python"
    }
  },
  "cells": [
    {
      "cell_type": "markdown",
      "source": [
        "#**Exercício 01:**"
      ],
      "metadata": {
        "id": "G_FO8DCdhw-r"
      }
    },
    {
      "cell_type": "code",
      "execution_count": null,
      "metadata": {
        "id": "8wBRMInRgQHp"
      },
      "outputs": [],
      "source": [
        "T = [-10, -8, 0, 1, 2, 5, -2, -4];\n",
        "maiorTemperatura = 0;\n",
        "menorTemperatura = 1;\n",
        "x = 0;\n",
        "\n",
        "while x<len(T):\n",
        "  if(T[x]>=maiorTemperatura):\n",
        "    maiorTemperatura = T[x];\n",
        "  elif (T[x]<menorTemperatura):\n",
        "    menorTemperatura = T[x];\n",
        "  x+=1;\n",
        "\n",
        "print(f\"Menor número = {menorTemperatura}\");\n",
        "print(f\"Maior número = {maiorTemperatura}\");\n"
      ]
    },
    {
      "cell_type": "markdown",
      "source": [
        "**Exercício 02:** Vai percorrer toda a lista verificando os elementos desta lista, sabendo que não há números menores que o próximo, não teremos uma troca de posição. Nota-se que os elementos da lista estão ordenados na ordem crescente.\n",
        "\n",
        "\n",
        "**Exercício 03:** O programa encerra e não ordena a lista, visto que, os elementos que são iguais não podem permitir o acesso aos outros elementos e, portanto, não consegue comparar se é maior ou menor que o número anterior por conta dessa igualdade.\n",
        "\n",
        "**Exercício 04:** "
      ],
      "metadata": {
        "id": "gAE0tOdQh2lM"
      }
    },
    {
      "cell_type": "markdown",
      "source": [
        "#**Exercício 05:**"
      ],
      "metadata": {
        "id": "jsAwYXcFi0yZ"
      }
    },
    {
      "cell_type": "code",
      "source": [
        "A = [5, 99, 20, 36, 4569, 20];\n",
        "menorNumero = 1;\n",
        "x = 0;\n",
        "\n",
        "while x<len(A):\n",
        "  if (A[x]<menorNumero):\n",
        "    menorNumero = A[x];\n",
        "  x+=1;\n",
        "\n",
        "print(f\"Menor número = {menorNumero}\");"
      ],
      "metadata": {
        "id": "d4fHd85Bi4ag"
      },
      "execution_count": null,
      "outputs": []
    },
    {
      "cell_type": "markdown",
      "source": [
        "#**Exercício 06:**"
      ],
      "metadata": {
        "id": "zhEcDBJ5j_a2"
      }
    },
    {
      "cell_type": "code",
      "source": [
        "valor1 = int(input(\"Digite um valor a ser pesquisado: \"));\n",
        "valor2 = int(input(\"Digite o segundo valor a ser pesquisado: \"));\n",
        "L = [4, 6, 2, 3, 9, 7, 10, 125, 36, 996, 85, 15, 325, 36];\n",
        "x = 0;\n",
        "y = 0;\n",
        "while x<len(L):\n",
        "  if(valor1==L[x]):\n",
        "    print(f\"\\nValor {valor1} foi encontrado na posicao {x} da Lista\");\n",
        "    if(y==0):\n",
        "      print(f\"O {valor1} foi o primeiro a ser encontrado\");\n",
        "    elif(y!=0): \n",
        "      print(f\"O {valor1} foi o segundo a ser encontrado\");\n",
        "    y+=1;\n",
        "  elif(valor2==L[x]):\n",
        "    print(f\"\\nValor {valor2} foi encontrado na posicao {x} da Lista\");\n",
        "    if(y==0):\n",
        "      print(f\"O {valor2} foi o primeiro a ser encontrado\");\n",
        "    elif(y!=0): \n",
        "      print(f\"O {valor2} foi o segundo a ser encontrado\");\n",
        "    y+=1;\n",
        "  x+=1;\n"
      ],
      "metadata": {
        "colab": {
          "base_uri": "https://localhost:8080/"
        },
        "id": "29lBLdMFkGi1",
        "outputId": "b22f1446-b10f-4210-f15b-1e05d148d17f"
      },
      "execution_count": null,
      "outputs": [
        {
          "output_type": "stream",
          "name": "stdout",
          "text": [
            "Digite um valor a ser pesquisado: 5\n",
            "Digite o segundo valor a ser pesquisado: 3\n",
            "\n",
            "Valor 3 foi encontrado na posicao 3 da Lista\n",
            "O 3 foi o primeiro a ser encontrado\n"
          ]
        }
      ]
    },
    {
      "cell_type": "markdown",
      "source": [
        "#**Exercício 07:**"
      ],
      "metadata": {
        "id": "K4-jBotnkCay"
      }
    },
    {
      "cell_type": "code",
      "source": [],
      "metadata": {
        "colab": {
          "base_uri": "https://localhost:8080/"
        },
        "id": "Krx9noBza_fI",
        "outputId": "94262743-c261-4464-e7c7-397642103f70"
      },
      "execution_count": 2,
      "outputs": [
        {
          "output_type": "stream",
          "name": "stdout",
          "text": [
            "[1, 2, 3, 4, 5]\n"
          ]
        }
      ]
    }
  ]
}