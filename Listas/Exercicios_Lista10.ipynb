{
  "nbformat": 4,
  "nbformat_minor": 0,
  "metadata": {
    "colab": {
      "provenance": []
    },
    "kernelspec": {
      "name": "python3",
      "display_name": "Python 3"
    },
    "language_info": {
      "name": "python"
    }
  },
  "cells": [
    {
      "cell_type": "markdown",
      "source": [
        "##**Exercício 11:**"
      ],
      "metadata": {
        "id": "_miGb4y2uwmE"
      }
    },
    {
      "cell_type": "code",
      "execution_count": 6,
      "metadata": {
        "id": "OiLN_Jiautbk"
      },
      "outputs": [],
      "source": [
        "def soma(a, b):\n",
        "  return a+b\n",
        "\n",
        "def operacao(a,b, foper):\n",
        " print(foper(a,b))\n",
        "\n"
      ]
    },
    {
      "cell_type": "code",
      "source": [
        "operacao(5,2, soma)"
      ],
      "metadata": {
        "id": "xUtVvUUhw0Mi"
      },
      "execution_count": null,
      "outputs": []
    },
    {
      "cell_type": "markdown",
      "source": [
        "#**Exercício 2 e 3:**"
      ],
      "metadata": {
        "id": "VxbOaPdq4nXH"
      }
    },
    {
      "cell_type": "code",
      "source": [
        "numeroImpar = lambda x: x%2 \n",
        "\n",
        "\n",
        "for w in range(30):\n",
        "  if(numeroImpar(w)!=0):\n",
        "    print(f\"Número impar {w}\")\n",
        "  else: \n",
        "    print(f\"\\nNúmero par {w}\")"
      ],
      "metadata": {
        "id": "Sza2XHBj4oAQ"
      },
      "execution_count": null,
      "outputs": []
    },
    {
      "cell_type": "markdown",
      "source": [
        "#**Exercício 04:**"
      ],
      "metadata": {
        "id": "aAZ7c4wuKTex"
      }
    },
    {
      "cell_type": "code",
      "source": [
        "import random\n",
        "\n",
        "def numeroAleatorio():\n",
        "  return random.randint(1, 100)\n",
        "\n",
        "numerosPares=[]\n",
        "x=0\n",
        "while x<20:\n",
        "  variavel = numeroAleatorio()\n",
        "  if(variavel%2==0):\n",
        "    numerosPares.append(variavel)\n",
        "    x+=1\n",
        "  elif(len(numerosPares)==20):\n",
        "    break\n",
        "\n",
        "print(numerosPares)"
      ],
      "metadata": {
        "id": "JKw3_iSExLwr"
      },
      "execution_count": null,
      "outputs": []
    },
    {
      "cell_type": "markdown",
      "source": [
        "#**Exercício 05:**"
      ],
      "metadata": {
        "id": "hpDh0dMLKsgf"
      }
    }
  ]
}