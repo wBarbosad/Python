{
  "nbformat": 4,
  "nbformat_minor": 0,
  "metadata": {
    "colab": {
      "provenance": []
    },
    "kernelspec": {
      "name": "python3",
      "display_name": "Python 3"
    },
    "language_info": {
      "name": "python"
    }
  },
  "cells": [
    {
      "cell_type": "markdown",
      "source": [
        "#**Exercício 01:**"
      ],
      "metadata": {
        "id": "BSAGgykodes_"
      }
    },
    {
      "cell_type": "code",
      "execution_count": null,
      "metadata": {
        "id": "51pS6HWVczj3"
      },
      "outputs": [],
      "source": [
        "dicionario = {}\n",
        "\n",
        "\n",
        "for letra in \"Amendoim\":\n",
        "  dicionario=letra, 1;\n",
        "  print(dicionario);"
      ]
    },
    {
      "cell_type": "markdown",
      "source": [
        "#**Exercício 02:** "
      ],
      "metadata": {
        "id": "pw3RioaBgArq"
      }
    },
    {
      "cell_type": "code",
      "source": [
        "Lista1 = set([1, 2, 3, 5, 6, 7, 9, 10]);\n",
        "Lista2 = set([2, 3, 6, 5, 7, 11, 25, 36, 98, 66, 58, 1, 3258]);\n",
        "Lista3 = set([]);\n",
        "\n",
        "print(f\"Valores comuns as duas listas {Lista1&Lista2}\");\n",
        "print(f\"Valores que só existem em Lista1 = {Lista1-Lista2}\");\n",
        "print(f\"Valores que existem apenas na Lista2 = {Lista2-Lista1}\");\n",
        "Lista3 = (Lista1|Lista2)-(Lista1&Lista2);\n",
        "print(f\"Valores não repetidos nas duas listas = {Lista3}\");\n",
        "print(f\"Valores não repetidos nas duas listas = {(Lista1|Lista2)-(Lista2)}\");\n"
      ],
      "metadata": {
        "id": "Rg4Ax_TbgEGj"
      },
      "execution_count": null,
      "outputs": []
    },
    {
      "cell_type": "markdown",
      "source": [
        "#**Exercício 03:**\n"
      ],
      "metadata": {
        "id": "RIGc21WTp2If"
      }
    },
    {
      "cell_type": "code",
      "source": [
        "lista1 = set(list(range(1, 8)));\n",
        "lista2 = set(list(range(2, 27, 3)));\n",
        "print(lista1);\n",
        "print(lista2);\n",
        "\n",
        "print(f\"Elementos que não mudaram = {lista1&lista2}\");\n",
        "print(f\"Novos elementos = {lista2-lista1}\");\n",
        "print(f\"Elementos removidos = {(lista1)-(lista2&lista1)}\");"
      ],
      "metadata": {
        "id": "j8nWAea2p4z1"
      },
      "execution_count": null,
      "outputs": []
    }
  ]
}