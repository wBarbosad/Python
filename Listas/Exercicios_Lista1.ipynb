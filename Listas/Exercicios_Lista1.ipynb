{
  "nbformat": 4,
  "nbformat_minor": 0,
  "metadata": {
    "colab": {
      "provenance": []
    },
    "kernelspec": {
      "name": "python3",
      "display_name": "Python 3"
    },
    "language_info": {
      "name": "python"
    }
  },
  "cells": [
    {
      "cell_type": "markdown",
      "source": [
        "**Exercício** **1**\n"
      ],
      "metadata": {
        "id": "aselYRSy8Cnw"
      }
    },
    {
      "cell_type": "code",
      "execution_count": 25,
      "metadata": {
        "colab": {
          "base_uri": "https://localhost:8080/"
        },
        "id": "ooCpARXH7KSk",
        "outputId": "f4a02a76-e4c1-48c5-f229-ca6ab04baef0"
      },
      "outputs": [
        {
          "output_type": "stream",
          "name": "stdout",
          "text": [
            "Valor de A =  610\n",
            "Valor de B =  0.5333333333333333\n",
            "Valor de C =  39377\n"
          ]
        }
      ],
      "source": [
        "a = 10+20*30\n",
        "b = 4**2/30\n",
        "c = (9**4+2)*6-1\n",
        "\n",
        "print(\"Valor de A = \", a)\n",
        "print(\"Valor de B = \", b)\n",
        "print(\"Valor de C = \", c)\n"
      ]
    },
    {
      "cell_type": "markdown",
      "source": [
        "**Exercício 2**\n"
      ],
      "metadata": {
        "id": "XKWg1Vg28YGV"
      }
    },
    {
      "cell_type": "code",
      "source": [
        "d = 10%3*10**2+1-10*4/2\n",
        "\n",
        "print(\"Valor de D = \", d)"
      ],
      "metadata": {
        "colab": {
          "base_uri": "https://localhost:8080/"
        },
        "id": "E3rLsjaZ8d20",
        "outputId": "c3fd728c-071c-4940-b1cd-29ff50c151e4"
      },
      "execution_count": 27,
      "outputs": [
        {
          "output_type": "stream",
          "name": "stdout",
          "text": [
            "Valor de D =  81.0\n"
          ]
        }
      ]
    },
    {
      "cell_type": "markdown",
      "source": [
        "**Exercício 3**"
      ],
      "metadata": {
        "id": "pcv7qKe59xcn"
      }
    },
    {
      "cell_type": "code",
      "source": [
        "nome = \"Wesley Barbosa da Silva\"\n",
        "print(nome)\n"
      ],
      "metadata": {
        "colab": {
          "base_uri": "https://localhost:8080/"
        },
        "id": "xD5-1YgC97xC",
        "outputId": "1bbc0faa-bddc-4bbd-ed2c-f49744e9a188"
      },
      "execution_count": 16,
      "outputs": [
        {
          "output_type": "stream",
          "name": "stdout",
          "text": [
            "Wesley Barbosa da Silva\n"
          ]
        }
      ]
    },
    {
      "cell_type": "markdown",
      "source": [
        "**Exercício 4**\n",
        "\n",
        "Onde o exercício pede a e b lê-se a2 e b2 respectivamente."
      ],
      "metadata": {
        "id": "-gahcrYJ-MMc"
      }
    },
    {
      "cell_type": "code",
      "source": [
        "a2 = 3\n",
        "b2 = 5\n",
        "\n",
        "print(2*a2*3*b2)"
      ],
      "metadata": {
        "colab": {
          "base_uri": "https://localhost:8080/"
        },
        "id": "Dp8uawgi-PRh",
        "outputId": "b423d225-4ddf-4883-996e-a63b1fbf1b62"
      },
      "execution_count": 20,
      "outputs": [
        {
          "output_type": "stream",
          "name": "stdout",
          "text": [
            "90\n"
          ]
        }
      ]
    },
    {
      "cell_type": "markdown",
      "source": [
        "**Exercício 5**"
      ],
      "metadata": {
        "id": "IvOz-63a-8El"
      }
    },
    {
      "cell_type": "code",
      "source": [
        "x = 1\n",
        "y = 2\n",
        "z = 4\n",
        "\n",
        "print(x+y+z)"
      ],
      "metadata": {
        "colab": {
          "base_uri": "https://localhost:8080/"
        },
        "id": "2aovmB7rAi3X",
        "outputId": "9c279f82-a61f-4464-8100-fbc38b019f26"
      },
      "execution_count": 28,
      "outputs": [
        {
          "output_type": "stream",
          "name": "stdout",
          "text": [
            "7\n"
          ]
        }
      ]
    },
    {
      "cell_type": "markdown",
      "source": [
        "**Exercício 6**"
      ],
      "metadata": {
        "id": "d3_PqtZmAQtN"
      }
    },
    {
      "cell_type": "code",
      "source": [
        "salario = 750\n",
        "percentualDeAumento = 15\n",
        "\n",
        "aumentoSalario = salario*((100+percentualDeAumento)/100)\n",
        "print(aumentoSalario)"
      ],
      "metadata": {
        "colab": {
          "base_uri": "https://localhost:8080/"
        },
        "id": "LGHY7yoi-6f-",
        "outputId": "9b852c1b-e354-4901-b41e-8483ca073b43"
      },
      "execution_count": 36,
      "outputs": [
        {
          "output_type": "stream",
          "name": "stdout",
          "text": [
            "862.4999999999999\n"
          ]
        }
      ]
    },
    {
      "cell_type": "markdown",
      "source": [
        "**Exercício 7**"
      ],
      "metadata": {
        "id": "fdoSEnnQAtyD"
      }
    },
    {
      "cell_type": "code",
      "source": [
        "salario= 2000\n",
        "\n",
        "imposto = salario>1200\n",
        "print(\"O usuário deve pagar imposto? (Caso: Verdadeiro = Deve, caso contrário, não é necessario) = \", imposto)"
      ],
      "metadata": {
        "colab": {
          "base_uri": "https://localhost:8080/"
        },
        "id": "afNTJ4boAyhJ",
        "outputId": "26ea3236-22d7-496e-db41-0a04cd177de8"
      },
      "execution_count": 33,
      "outputs": [
        {
          "output_type": "stream",
          "name": "stdout",
          "text": [
            "O usuário deve pagar imposto? (Caso: Verdadeiro = Deve, caso contrário, não é necessario) =  True\n"
          ]
        }
      ]
    },
    {
      "cell_type": "markdown",
      "source": [
        "**Exercício 8**"
      ],
      "metadata": {
        "id": "11oc_mOHBgFL"
      }
    },
    {
      "cell_type": "code",
      "source": [
        "matéria1 = 6\n",
        "matéria2 = 5.5\n",
        "matéria3 = 6\n",
        "\n",
        "média = (matéria1+matéria2+matéria3)/3\n",
        "\n",
        "aprovado = média>=7\n",
        "reprovado = média<7\n",
        "\n",
        "print(\"Aprovado = \", aprovado, \"\\nReprovado = \", reprovado)"
      ],
      "metadata": {
        "colab": {
          "base_uri": "https://localhost:8080/"
        },
        "id": "MhwioYvUBjw3",
        "outputId": "59aab6e1-a525-4792-c60f-8437e0ecae58"
      },
      "execution_count": 35,
      "outputs": [
        {
          "output_type": "stream",
          "name": "stdout",
          "text": [
            "Aprovado =  False \n",
            "Reprovado =  True\n"
          ]
        }
      ]
    }
  ]
}