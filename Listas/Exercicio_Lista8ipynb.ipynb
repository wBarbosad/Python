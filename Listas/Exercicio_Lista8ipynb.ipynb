{
  "nbformat": 4,
  "nbformat_minor": 0,
  "metadata": {
    "colab": {
      "provenance": []
    },
    "kernelspec": {
      "name": "python3",
      "display_name": "Python 3"
    },
    "language_info": {
      "name": "python"
    }
  },
  "cells": [
    {
      "cell_type": "markdown",
      "source": [
        "#**Exercício 01:**"
      ],
      "metadata": {
        "id": "7a7-TAixPPBB"
      }
    },
    {
      "cell_type": "code",
      "execution_count": null,
      "metadata": {
        "id": "7XBizXBdK9b0"
      },
      "outputs": [],
      "source": [
        "stringA = \"AABBEFAATT\"\n",
        "stringB = \"BE\"\n",
        "\n",
        "stringA.find(stringB)\n",
        "\n",
        "print(f\"A letra {stringB} é encontrada na posição {stringA.find(stringB)}\")\n"
      ]
    },
    {
      "cell_type": "markdown",
      "source": [
        "#**Exercício 07-02 E 07-03:**"
      ],
      "metadata": {
        "id": "UCu4qe5dseRk"
      }
    },
    {
      "cell_type": "code",
      "source": [
        "stringL = \"CTA\"\n",
        "stringJ = \"ABC\"\n",
        "listaY = list(\"\")\n",
        "posicao = 0\n",
        "\n",
        "for letras2 in stringJ:\n",
        "  posicao = stringL.find(letras2)\n",
        "\n",
        "  if(letras2!=stringL[posicao]):\n",
        "    listaY.append(letras2)\n",
        "    \n",
        "\n",
        "for letras1 in stringL:\n",
        "  posicao = stringJ.find(letras1)\n",
        "\n",
        "  if(letras1!=stringJ[posicao]):\n",
        "    listaY.append(letras1)\n",
        "    \n",
        "\n",
        "stringY=\"\".join(listaY)\n",
        "print(stringY)\n",
        "\n",
        "\n",
        "    \n",
        "\n",
        "      "
      ],
      "metadata": {
        "id": "wLfIa4GDsmja"
      },
      "execution_count": null,
      "outputs": []
    },
    {
      "cell_type": "markdown",
      "source": [
        "#**Exercício 02:**"
      ],
      "metadata": {
        "id": "rjDDFUKYPT3R"
      }
    },
    {
      "cell_type": "code",
      "source": [
        "stringC = \"AAACTBF\"\n",
        "stringD = \"CBT\"\n",
        "lista3 = list(\"\")\n",
        "\n",
        "for letra in stringD:\n",
        "  for letra2 in stringC:\n",
        "    if(letra==letra2):\n",
        "      lista3.append(letra)\n",
        "\n",
        "string3=\"\".join(lista3)\n",
        "print(string3)\n",
        "\n",
        "\n"
      ],
      "metadata": {
        "colab": {
          "base_uri": "https://localhost:8080/"
        },
        "id": "yMVMNI9DPXfb",
        "outputId": "4443f34c-234d-4824-9fa9-c6a59b545f9c"
      },
      "execution_count": 97,
      "outputs": [
        {
          "output_type": "stream",
          "name": "stdout",
          "text": [
            "CBT\n"
          ]
        }
      ]
    },
    {
      "cell_type": "markdown",
      "source": [
        "#**Exercício 03:**"
      ],
      "metadata": {
        "id": "kEhCgjSaYqdM"
      }
    },
    {
      "cell_type": "code",
      "source": [
        "listaE = [1, 2, 3, 5]\n",
        "listaF = list(range(1, 8, 2))\n"
      ],
      "metadata": {
        "id": "98WZvLEuYtDS"
      },
      "execution_count": null,
      "outputs": []
    },
    {
      "cell_type": "markdown",
      "source": [
        "#**Exercício 04:**"
      ],
      "metadata": {
        "id": "6j8HF0udZ3Re"
      }
    },
    {
      "cell_type": "code",
      "source": [
        "stringH = \"Aula oito sobre string!\"\n",
        "stringI = \"TTAAC\"\n",
        "\n",
        "while True:\n",
        "  letra = input(f\"Informe um das letra {stringI} (Digite S para sair) = \")\n",
        "  if(letra=='S' or letra=='s'):\n",
        "      break;\n",
        "  elif(letra!='S' and letra!='s'):\n",
        "    print(f\"A letra {letra} aparece {stringI.count(letra)}\")\n",
        "  "
      ],
      "metadata": {
        "id": "wosQHFVCZ5mr"
      },
      "execution_count": null,
      "outputs": []
    },
    {
      "cell_type": "markdown",
      "source": [
        "#**Exercício 05:**"
      ],
      "metadata": {
        "id": "MxVQOph_hXn-"
      }
    },
    {
      "cell_type": "code",
      "source": [
        "stringM = \"AATTGGAA\"\n",
        "listaP = list(\"\")\n",
        "listaW = list(\"\")\n",
        "\n",
        "for letras in stringM:\n",
        "  if(letras!='T' and letras!='A'):\n",
        "    listaP.append(letras)\n",
        "  elif(letras!='T' and letras!='G'):\n",
        "    listaW.append(letras)\n",
        "\n",
        "stringP=\"\".join(listaP)\n",
        "print(stringP)\n",
        "stringW=\"\".join(listaW)\n",
        "print(stringW)"
      ],
      "metadata": {
        "colab": {
          "base_uri": "https://localhost:8080/"
        },
        "id": "KM744k5thae5",
        "outputId": "654e5306-8dc5-43dd-a73e-040ec24559b1"
      },
      "execution_count": 87,
      "outputs": [
        {
          "output_type": "stream",
          "name": "stdout",
          "text": [
            "GG\n",
            "AAAA\n"
          ]
        }
      ]
    },
    {
      "cell_type": "markdown",
      "source": [
        "#**Exercício 06:**"
      ],
      "metadata": {
        "id": "MCZ3LISznbUD"
      }
    },
    {
      "cell_type": "code",
      "source": [
        "string1 = \"AATTCGAA\"\n",
        "string2 = \"TG\"\n",
        "string3 = \"AC\"\n",
        "\n",
        "\n"
      ],
      "metadata": {
        "id": "eMPK4G37ndnI"
      },
      "execution_count": null,
      "outputs": []
    }
  ]
}