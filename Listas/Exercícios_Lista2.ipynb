{
  "nbformat": 4,
  "nbformat_minor": 0,
  "metadata": {
    "colab": {
      "provenance": []
    },
    "kernelspec": {
      "name": "python3",
      "display_name": "Python 3"
    },
    "language_info": {
      "name": "python"
    }
  },
  "cells": [
    {
      "cell_type": "code",
      "execution_count": null,
      "metadata": {
        "colab": {
          "base_uri": "https://localhost:8080/"
        },
        "id": "GgvphjGxljzh",
        "outputId": "7f5f997f-4492-4855-c009-ef5077512763"
      },
      "outputs": [
        {
          "output_type": "stream",
          "name": "stdout",
          "text": [
            "Informe o primeiro número: 6\n",
            "Informe o segundo número: 8\n",
            "O primeiro número é 6 e o segundo número é 8\n"
          ]
        }
      ],
      "source": [
        "w = int(input(\"Informe o primeiro número: \"))\n",
        "y = int(input(\"Informe o segundo número: \"))\n",
        "print(\"O primeiro número é %d e o segundo número é %d\" %(w, y))"
      ]
    },
    {
      "cell_type": "markdown",
      "source": [
        "**Exercício 2**"
      ],
      "metadata": {
        "id": "Aaxi0SegoNm6"
      }
    },
    {
      "cell_type": "code",
      "source": [
        "\"Converter metros em milímetros\"\n",
        "metro = float(input(\"Informe o valor em metros: \"))\n",
        "Converter = metro*(1/1000)\n",
        "\n",
        "print(f\"Valor em milímetros {Converter:.4f} mm\")"
      ],
      "metadata": {
        "colab": {
          "base_uri": "https://localhost:8080/"
        },
        "id": "ZkMhqpUBoTO8",
        "outputId": "a0066621-56d5-4d28-aeaa-c0eba02e133e"
      },
      "execution_count": null,
      "outputs": [
        {
          "output_type": "stream",
          "name": "stdout",
          "text": [
            "Informe o valor em metros: 4569\n",
            "Valor em milímetros 4.5690 mm\n"
          ]
        }
      ]
    },
    {
      "cell_type": "markdown",
      "source": [
        "**Exercício 3**"
      ],
      "metadata": {
        "id": "wTH_HAbjp73j"
      }
    },
    {
      "cell_type": "code",
      "source": [
        "nome = input(\"Informe o seu nome: \")\n",
        "idade = int(input(\"Informe a sua idade: \"))\n",
        "diasAno = 365\n",
        "horasAno = 8760\n",
        "minutosAno = horasAno*60\n",
        "segundosAno = minutosAno*60\n",
        "\n",
        "print(f\"O {nome} possui {idade} anos, {horasAno*idade} horas, {minutosAno*idade} minutos e {segundosAno*idade} segundos!\")\n"
      ],
      "metadata": {
        "colab": {
          "base_uri": "https://localhost:8080/"
        },
        "id": "BvCNpd1Hp-kW",
        "outputId": "c051e97c-4137-4754-9708-223e8131138b"
      },
      "execution_count": null,
      "outputs": [
        {
          "output_type": "stream",
          "name": "stdout",
          "text": [
            "Informe o seu nome: 4\n",
            "Informe a sua idade: 5\n",
            "INFORME UM NUMERO: 6\n",
            "O 4 possui 5 anos, 43800 horas, 2628000 minutos e 157680000 segundos!\n"
          ]
        }
      ]
    },
    {
      "cell_type": "markdown",
      "source": [
        "**Exercício 4**"
      ],
      "metadata": {
        "id": "l2ky8KQVr-ty"
      }
    },
    {
      "cell_type": "code",
      "source": [
        "salario = float(input(\"Informe o seu salário: \"))\n",
        "percentualAumento = float(input(\"Informe o percentual de aumento salarial: \"))\n",
        "acrescimoSalario = salario*(percentualAumento/100)\n",
        "novoSalario =  salario+acrescimoSalario\n",
        "print(f\"Valor de aumento do salário = {acrescimoSalario:.2f}\")\n",
        "print(f\"Novo salário = {novoSalario}\")\n",
        "\n"
      ],
      "metadata": {
        "colab": {
          "base_uri": "https://localhost:8080/"
        },
        "id": "Wnb7ZSpGtuCW",
        "outputId": "f5436d86-2e91-42d2-e0e1-1ba7366f60bc"
      },
      "execution_count": null,
      "outputs": [
        {
          "output_type": "stream",
          "name": "stdout",
          "text": [
            "Informe o seu salário: 200\n",
            "Informe o percentual de aumento salarial: 3\n",
            "Valor de aumento do salário = 6.00\n",
            "Novo salário = 206.0\n"
          ]
        }
      ]
    },
    {
      "cell_type": "markdown",
      "source": [
        "**Exercício 5**"
      ],
      "metadata": {
        "id": "DNisl9_Fv_CC"
      }
    },
    {
      "cell_type": "code",
      "source": [
        "Arroz = float(input(\"Informe o valor do arroz: \"))\n",
        "Desconto = float(input(\"Informe o percentual de desconto: \"))\n",
        "print(f\"O valor de desconto do arroz = {Arroz*(Desconto/100):.3f}, o total a ser pago pelo arroz = {Arroz-(Arroz*(Desconto/100))}\")"
      ],
      "metadata": {
        "colab": {
          "base_uri": "https://localhost:8080/"
        },
        "id": "6B6UqDiOwBdF",
        "outputId": "5a5698e8-41be-4e35-f62c-0ab81ee06c5e"
      },
      "execution_count": null,
      "outputs": [
        {
          "output_type": "stream",
          "name": "stdout",
          "text": [
            "Informe o valor do arroz: 30\n",
            "Informe o percentual de desconto: 6\n",
            "O valor de desconto do arroz = 1.800, o total a ser pago pelo arroz = 28.2\n"
          ]
        }
      ]
    },
    {
      "cell_type": "markdown",
      "source": [
        "**Exercício 6**"
      ],
      "metadata": {
        "id": "T307xjjpxR-1"
      }
    },
    {
      "cell_type": "code",
      "source": [
        "velocidade = float(input(\"Informe a velocidade média durante o trajeto em (metros/segundo): \"))\n",
        "distancia = float(input(\"Informe a distância a ser percorrida em (metros): \"))\n",
        "\n",
        "tempo = distancia/velocidade \n",
        "print(\"O tempo de viagem = %5.4f\" %tempo)\n"
      ],
      "metadata": {
        "colab": {
          "base_uri": "https://localhost:8080/"
        },
        "id": "gAb4c6koxU-C",
        "outputId": "9619a22a-a38c-42cb-e81a-018b11912c19"
      },
      "execution_count": null,
      "outputs": [
        {
          "output_type": "stream",
          "name": "stdout",
          "text": [
            "Informe a velocidade média durante o trajeto em (metros/segundo): 50000\n",
            "Informe a distância a ser percorrida em (metros): 3\n",
            "O tempo de viagem = 0.0001\n"
          ]
        }
      ]
    },
    {
      "cell_type": "markdown",
      "source": [
        "**Exercício 7**"
      ],
      "metadata": {
        "id": "l-Fkdf1yzMGe"
      }
    },
    {
      "cell_type": "code",
      "source": [
        "TemperaturaCelsius = int(input(\"Informe a temperatura em Celsius: \"))\n",
        "Fahrenheit = ((TemperaturaCelsius*9)/5)+32\n",
        "\n",
        "print(f\"A temperatura em Fahrenheit é {Fahrenheit}\")"
      ],
      "metadata": {
        "id": "wuwijYOyzPfY",
        "colab": {
          "base_uri": "https://localhost:8080/"
        },
        "outputId": "3c9a63c0-bc82-4e78-868e-a6ae5b72b27e"
      },
      "execution_count": 13,
      "outputs": [
        {
          "output_type": "stream",
          "name": "stdout",
          "text": [
            "Informe a temperatura em Celsius: 50\n",
            "A temperatura em Fahrenheit é 122.0\n"
          ]
        }
      ]
    },
    {
      "cell_type": "markdown",
      "source": [
        "**Exercício 8**"
      ],
      "metadata": {
        "id": "DHG5BNKbCWNE"
      }
    },
    {
      "cell_type": "code",
      "source": [
        "KmPercorridos = float(input(\"Informe a quantidade de KM percorridos pelo carro: \"))\n",
        "DiasAlugado = int(input(\"Informe a sua quantidade de dias em que o carro foi alugado: \"))\n",
        "valorAPagar = DiasAlugado*60+0.15*KmPercorridos\n",
        "print(f\"Valor a ser pago pelo aluguel e pela distância percorrida = {valorAPagar}\")"
      ],
      "metadata": {
        "id": "02HNO9EZCbnu",
        "colab": {
          "base_uri": "https://localhost:8080/"
        },
        "outputId": "207c3041-fc55-433d-c8b3-c10546c9882d"
      },
      "execution_count": null,
      "outputs": [
        {
          "output_type": "stream",
          "name": "stdout",
          "text": [
            "Informe a quantidade de KM percorridos pelo carro: 1\n",
            "Informe a sua quantidade de dias em que o carro foi alugado: 2\n",
            "Valor a ser pago pelo aluguel e pela distância percorrida = 120.15\n"
          ]
        }
      ]
    },
    {
      "cell_type": "markdown",
      "source": [
        "**Exercício 9**"
      ],
      "metadata": {
        "id": "4aUpRdgwGJJz"
      }
    },
    {
      "cell_type": "code",
      "source": [
        "CigarrosFumados = int(input(\"Informe a quantidade de cigarros fumados: \"))\n",
        "AnosDeFumante = int(input (\"Informe por quantos anos você já fumou: \"))\n",
        "VidaPorMinuto = 10*CigarrosFumados\n",
        "\n",
        "horasx = 10/60\n",
        "Diasy = horasx/24\n",
        "\n",
        "TempoDeVidaPerdido = Diasy*CigarrosFumados\n",
        "print(f\"Tempo de vida perdido = {TempoDeVidaPerdido:5.2} dias \")"
      ],
      "metadata": {
        "id": "ja1bVuroGMsM",
        "colab": {
          "base_uri": "https://localhost:8080/"
        },
        "outputId": "c4230342-d0dc-42a8-e7dd-cb2dc6ae891a"
      },
      "execution_count": 12,
      "outputs": [
        {
          "output_type": "stream",
          "name": "stdout",
          "text": [
            "Informe a quantidade de cigarros fumados: 5\n",
            "Informe por quantos anos você já fumou: 30\n",
            "Tempo de vida perdido = 0.035 dias \n"
          ]
        }
      ]
    }
  ]
}