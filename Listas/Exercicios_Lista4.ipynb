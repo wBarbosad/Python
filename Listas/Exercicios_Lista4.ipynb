{
  "nbformat": 4,
  "nbformat_minor": 0,
  "metadata": {
    "colab": {
      "provenance": []
    },
    "kernelspec": {
      "name": "python3",
      "display_name": "Python 3"
    },
    "language_info": {
      "name": "python"
    }
  },
  "cells": [
    {
      "cell_type": "markdown",
      "source": [
        "#**Exercício 1:**"
      ],
      "metadata": {
        "id": "md_9SR3uVBxr"
      }
    },
    {
      "cell_type": "code",
      "source": [
        "contagem = 10\n",
        "\n",
        "while contagem>=0:\n",
        "  if contagem==0:\n",
        "    print(contagem)\n",
        "    print(\"\\nFogo! 🚀\")\n",
        "  else:\n",
        "    print(contagem)\n",
        "  contagem-=1\n",
        "  "
      ],
      "metadata": {
        "id": "n582lujtVQt5"
      },
      "execution_count": null,
      "outputs": []
    },
    {
      "cell_type": "markdown",
      "source": [
        "#**Exercício 2:**"
      ],
      "metadata": {
        "id": "TaraKIEWYLkt"
      }
    },
    {
      "cell_type": "code",
      "source": [
        "numero1 = int(input(\"Informe o primeiro número: \"))\n",
        "numero2 = int(input(\"Informe o segundo número: \"))\n",
        "soma = 0 \n",
        "while numero1>0:\n",
        "  soma+=numero2\n",
        "  print(soma)\n",
        "  numero1-=1\n",
        " \n",
        " \n",
        "\n"
      ],
      "metadata": {
        "id": "mLIlwtldYQ2E"
      },
      "execution_count": null,
      "outputs": []
    },
    {
      "cell_type": "markdown",
      "source": [
        "#**Exercício 3:**"
      ],
      "metadata": {
        "id": "KBp92J86ecJ1"
      }
    },
    {
      "cell_type": "code",
      "source": [
        "numerador = int(input(\"Informe o divisor: \"))\n",
        "denominador = int(input(\"Informe o dividendo: \"))\n",
        "soma1 = 0\n",
        "operacao=0\n",
        "contabilizador=0\n",
        "resto = numerador%denominador\n",
        "while operacao!=numerador:\n",
        "    soma1+=denominador\n",
        "    operacao+=1\n",
        "    if soma1 == numerador:\n",
        "      print(f\"\\nO resultado da divisão = {operacao}, pois {denominador} x {operacao} + {resto} = {numerador}\")\n",
        "      break\n",
        "    while(resto!=0):\n",
        "       contabilizador+=1\n",
        "       soma1+=denominador\n",
        "       if (contabilizador*denominador+resto) == numerador:\n",
        "         print(f\"\\nO resultado da divisão, no caso, o resto = {resto}, portanto, obtemos a seguinte relação (divisor*quociente)\"\n",
        "               f\"+(resto da divisão) <==> {denominador} x {contabilizador} + {resto} = {numerador}\")\n",
        "         break\n",
        "       break\n",
        "      \n"
      ],
      "metadata": {
        "colab": {
          "base_uri": "https://localhost:8080/"
        },
        "id": "tIw7the6ef-r",
        "outputId": "4b04de65-5625-482c-d542-17b2f325d5f6"
      },
      "execution_count": 184,
      "outputs": [
        {
          "output_type": "stream",
          "name": "stdout",
          "text": [
            "Informe o divisor: 15\n",
            "Informe o dividendo: 4\n",
            "\n",
            "O resultado da divisão, no caso, o resto = 3, portanto, obtemos a seguinte relação (divisor*quociente)+(resto da divisão) <==> 4 x 3 + 3 = 15\n"
          ]
        }
      ]
    },
    {
      "cell_type": "markdown",
      "source": [
        "##**Exercício 04**\n"
      ],
      "metadata": {
        "id": "qCR0Mt3VWy7P"
      }
    },
    {
      "cell_type": "code",
      "source": [
        "depositoInicial = int(input(\"Informe o depósito inicial: \"))\n",
        "taxaJuros = int(input(\"Informe a taxa de juros da poupança: \"))\n",
        "convercaoJuros = (taxaJuros/100)\n",
        "meses = 1\n",
        "totalDeGanhos = 0\n",
        "while meses<=23:\n",
        "  totalDeGanhos = totalDeGanhos + (depositoInicial * convercaoJuros * meses)\n",
        "  meses+=1\n",
        "\n",
        "print(f\"O total de ganhos em {meses} mês = {totalDeGanhos}\")\n",
        "print(f\"Rendimento = {depositoInicial+totalDeGanhos}\")\n"
      ],
      "metadata": {
        "id": "Yo6WgCxUfXZm"
      },
      "execution_count": null,
      "outputs": []
    },
    {
      "cell_type": "markdown",
      "source": [
        "##**Exercício 05**\n"
      ],
      "metadata": {
        "id": "oJ2F48Q0ZayO"
      }
    },
    {
      "cell_type": "code",
      "source": [
        "depositoInicial = int(input(\"Informe o depósito inicial: \"))\n",
        "taxaJuros = int(input(\"Informe a taxa de juros da poupança: \"))\n",
        "convercaoJuros = (taxaJuros/100)\n",
        "meses = 1\n",
        "totalDeGanhos = 0\n",
        "totalDeGanhos = totalDeGanhos + (depositoInicial * convercaoJuros * meses)\n",
        "depositosTotais = 0\n",
        "while meses<=23:\n",
        "  meses+=1\n",
        "  depositoMensal = int(input(f\"Informe o depósito inicial do {meses} mes: \"))\n",
        "  depositosTotais = depositosTotais+depositoMensal\n",
        "  totalDeGanhos = totalDeGanhos + (depositoMensal * convercaoJuros * meses)\n",
        "\n",
        "print(f\"O total de ganhos em {meses} mês = {totalDeGanhos}\")\n",
        "print(f\"Rendimento = {(depositoInicial + depositosTotais) + totalDeGanhos}\")\n"
      ],
      "metadata": {
        "id": "KiA-ywjrZejl"
      },
      "execution_count": null,
      "outputs": []
    },
    {
      "cell_type": "markdown",
      "source": [
        "##**Exercício 06:**"
      ],
      "metadata": {
        "id": "rBfaxzi7bSQm"
      }
    },
    {
      "cell_type": "code",
      "source": [
        "\n",
        "valorInicialDivida = int(input(\"Informe o valor da dívida: \"))\n",
        "juroMensal = int(input(\"Informe o valor do juros mensal: \"))\n",
        "conversaoJuro = (juroMensal/100)\n",
        "valorMensalPagos = int(input(\"Informe o valor a ser pago mensalmente: \"))\n",
        "dividaPaga = 0\n",
        "quitado = 0\n",
        "tempo = 1\n",
        "while quitado==0:\n",
        "      dividaPaga = dividaPaga + (valorMensalPagos*conversaoJuro*tempo)\n",
        "      if dividaPaga == valorInicialDivida:\n",
        "        quitado=1\n",
        "      tempo+=1\n",
        "print(f\"Tempo para quitar a divida {tempo}\")"
      ],
      "metadata": {
        "id": "46dsXKCDbXdV"
      },
      "execution_count": null,
      "outputs": []
    },
    {
      "cell_type": "markdown",
      "source": [
        "##**Exercício 07:**"
      ],
      "metadata": {
        "id": "c4a7w974gHqG"
      }
    },
    {
      "cell_type": "code",
      "source": [
        "soma = 0\n",
        "mediaAritmetica = 0.0\n",
        "contador = 0\n",
        "saida = 1\n",
        "while saida!=0:\n",
        "  numero1 = int(input(\"\\nInforme um número: \"))\n",
        "  saida = int(input(\"\\nDeseja sair?\\n\\t0. Sim\\t1. Não\\t: \"))\n",
        "  contador+=1\n",
        "  soma+=numero1\n",
        "\n",
        "mediaAritmetica = soma/contador\n",
        "print(f\"\\nQuantidade de números digitados = {contador}\")\n",
        "print(f\"Soma dos números = {soma}\")\n",
        "print(f\"Média aritmética = {mediaAritmetica}\")\n"
      ],
      "metadata": {
        "id": "QZrceoT0gLGl"
      },
      "execution_count": null,
      "outputs": []
    },
    {
      "cell_type": "markdown",
      "source": [
        "##**Exercício 08:**\n"
      ],
      "metadata": {
        "id": "wgF9fok_jN4u"
      }
    },
    {
      "cell_type": "code",
      "source": [
        "finalizarCompra = 1\n",
        "totalDasCompras = 0.0\n",
        "preco = 0\n",
        "while finalizarCompra!=0:\n",
        "  codigo = int(input(\"Informe o código do produto: \"))\n",
        "  qtdComprada = int(input(\"Informe a quantidade comprada: \"))\n",
        "  \n",
        "  if codigo==1:\n",
        "    preco = preco + qtdComprada * 0.50\n",
        "  elif codigo==2:\n",
        "    preco = preco + qtdComprada * 1.00\n",
        "  elif codigo==3:\n",
        "    preco = preco + qtdComprada * 4.00\n",
        "  elif codigo==5:\n",
        "    preco = preco + qtdComprada * 7.00\n",
        "  elif codigo==9:\n",
        "    preco = preco + qtdComprada * 8.00\n",
        "  else:\n",
        "    print(\"Código inválido!\")\n",
        "    break\n",
        "  finalizarCompra = int(input(\"\\nDeseja finalizar a compra?\\n\\n\\t0. Sim\\t1. Não\\n\\nOpcao escolhida: \"))\n",
        "\n",
        "totalDasCompras = preco\n",
        "print(f\"O total de compras = {totalDasCompras}\")"
      ],
      "metadata": {
        "id": "vgjNpXEyjTq9"
      },
      "execution_count": null,
      "outputs": []
    },
    {
      "cell_type": "markdown",
      "source": [
        "##**Exercício 09:**"
      ],
      "metadata": {
        "id": "_ugmth8_KzCN"
      }
    },
    {
      "cell_type": "code",
      "source": [
        "\n",
        "  \n"
      ],
      "metadata": {
        "id": "vTxj7LP9LAcG"
      },
      "execution_count": null,
      "outputs": []
    },
    {
      "cell_type": "markdown",
      "source": [
        "##**Exercício 10:**"
      ],
      "metadata": {
        "id": "v1-dGBJEMXjv"
      }
    },
    {
      "cell_type": "code",
      "source": [
        "numeroo1 = int(input(\"Informe o número: \"))\n",
        "verificador = numeroo1\n",
        "\n",
        "while numeroo1>=0:\n",
        "  if numeroo1%2 == 0:\n",
        "    print(f\"O número {numeroo1} é par\")\n",
        "  elif numeroo1%3 == 0: \n",
        "    print(f\"O número {numeroo1} é impar\")\n",
        "  numeroo1-=1\n",
        "print(\"\\n\\n\")\n",
        "while verificador>=0:\n",
        "  if verificador%3!=0 and verificador%2!=0: \n",
        "    print(f\"O número {verificador} é primo\")\n",
        "  elif verificador==3 or verificador==2:\n",
        "    print(f\"O número {verificador} é primo\")\n",
        "  verificador-=1\n"
      ],
      "metadata": {
        "id": "gatoxwOiMatW"
      },
      "execution_count": null,
      "outputs": []
    },
    {
      "cell_type": "markdown",
      "source": [
        "##**Exercício 11:**"
      ],
      "metadata": {
        "id": "7jR-6OChQz10"
      }
    },
    {
      "cell_type": "code",
      "source": [
        "numeroo1 = int(input(\"Informe o número: \"))\n",
        "verificador = 0\n",
        "\n",
        "print(\"\\n\\n\")\n",
        "while verificador<=numeroo1:\n",
        "  if verificador%3!=0 and verificador%2!=0: \n",
        "    print(f\"O número {verificador} é primo\")\n",
        "  elif verificador==3 or verificador==2:\n",
        "    print(f\"O número {verificador} é primo\")\n",
        "  verificador+=1\n"
      ],
      "metadata": {
        "id": "L2mo5otIQ2dm"
      },
      "execution_count": null,
      "outputs": []
    },
    {
      "cell_type": "markdown",
      "source": [
        "##**Exercício 12:** Não entendi. "
      ],
      "metadata": {
        "id": "O0ijdFJwlABg"
      }
    },
    {
      "cell_type": "code",
      "source": [],
      "metadata": {
        "id": "6kRuEArFlCYL"
      },
      "execution_count": null,
      "outputs": []
    },
    {
      "cell_type": "markdown",
      "source": [
        "##**Exercício 13:**"
      ],
      "metadata": {
        "id": "ked0Vguzlg_e"
      }
    },
    {
      "cell_type": "code",
      "source": [
        "nnumero1 = int(input(\"Informe o primeiro número: \"))\n",
        "nnumero2 = int(input(\"Informe o segundo número: \"))\n",
        "resultado = 0\n",
        "contador = 0\n",
        "soma = 0\n",
        "print(f\"\\nModelo pensado {nnumero1} / {nnumero2}\")\n",
        "while resultado!=nnumero1:\n",
        "  soma = soma+nnumero2\n",
        "  contador+=1\n",
        "  if soma==numeroo1:\n",
        "    print(f\"\\nO resultado da divisão = {contador}, pois {nnumero2} x {contador} = {nnumero1}\")\n",
        "    break\n",
        "  "
      ],
      "metadata": {
        "id": "XP_SJvLFlmG2"
      },
      "execution_count": null,
      "outputs": []
    },
    {
      "cell_type": "markdown",
      "source": [
        "##**Exercício 14:**\n"
      ],
      "metadata": {
        "id": "8timH2s4n72G"
      }
    },
    {
      "cell_type": "code",
      "source": [
        "nummero1 = int(input(\"Informe o número: \"))\n",
        "contador3 = 0\n",
        "while contador3>=0:\n",
        "  if nummero1==contador3:\n",
        "    print(f\"O número {nummero1} = {contador3}\")\n",
        "    break\n",
        "  else:\n",
        "   contador3+=1"
      ],
      "metadata": {
        "id": "kZd2eP5IoKfB"
      },
      "execution_count": null,
      "outputs": []
    }
  ]
}