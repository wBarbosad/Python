{
  "nbformat": 4,
  "nbformat_minor": 0,
  "metadata": {
    "colab": {
      "provenance": []
    },
    "kernelspec": {
      "name": "python3",
      "display_name": "Python 3"
    },
    "language_info": {
      "name": "python"
    }
  },
  "cells": [
    {
      "cell_type": "markdown",
      "source": [
        "##**Exercício 01:**"
      ],
      "metadata": {
        "id": "gTiuCvWe4hbC"
      }
    },
    {
      "cell_type": "code",
      "execution_count": null,
      "metadata": {
        "id": "vQKjvyD3ZA89",
        "colab": {
          "base_uri": "https://localhost:8080/"
        },
        "outputId": "83cef0d1-cc74-4ee6-a119-57121f726fa1"
      },
      "outputs": [
        {
          "output_type": "stream",
          "name": "stdout",
          "text": [
            "0\n",
            "1\n",
            "2\n",
            "3\n",
            "4\n",
            "5\n",
            "6\n",
            "7\n",
            "A média das notas = 7.50\n"
          ]
        }
      ],
      "source": [
        "notas = [6, 7, 6, 8, 8, 9, 7, 9]\n",
        "soma = 0\n",
        "media = 0\n",
        "x = 0\n",
        "while x<len(notas):\n",
        "  print(f\"{x}\")\n",
        "  soma=soma+notas[x]\n",
        "  x+=1\n",
        "media = soma/len(notas)\n",
        "print(f\"A média das notas = {media:1.2f}\")"
      ]
    },
    {
      "cell_type": "markdown",
      "source": [
        "##**Exercício 02:**\n"
      ],
      "metadata": {
        "id": "bYwIjS7w5VXz"
      }
    },
    {
      "cell_type": "code",
      "source": [
        "meses = [\"Abril\", \"Marco\", \"Maio\", \"Novembro\", \"Janeiro\", \"Dezembro\"]\n",
        "aniversariantes = [\"Vittoria\", \"Graziella\", \"Adriana\", \"Willian\", \"Wesley\", \"Joao\"]\n",
        "y = 0\n",
        "x = 0\n",
        "aniversarios = []\n",
        "\n",
        "while x<len(meses):\n",
        "  aniversarios.append(aniversariantes[x] + \" - \" + meses[x])\n",
        "  x+=1\n",
        "\n",
        "while y<len(aniversarios):\n",
        "  print(aniversarios[y])\n",
        "  y+=1\n",
        "\n",
        "aniversarios.sort()\n",
        "print(\"\\n\", aniversarios)"
      ],
      "metadata": {
        "colab": {
          "base_uri": "https://localhost:8080/"
        },
        "id": "Xj7lWrYf5gIx",
        "outputId": "cfc57047-d575-4c11-8edf-dd06f8574842"
      },
      "execution_count": null,
      "outputs": [
        {
          "output_type": "stream",
          "name": "stdout",
          "text": [
            "Vittoria - Abril\n",
            "Graziella - Marco\n",
            "Adriana - Maio\n",
            "Willian - Novembro\n",
            "Wesley - Janeiro\n",
            "Joao - Dezembro\n",
            "\n",
            " ['Adriana - Maio', 'Graziella - Marco', 'Joao - Dezembro', 'Vittoria - Abril', 'Wesley - Janeiro', 'Willian - Novembro']\n"
          ]
        }
      ]
    },
    {
      "cell_type": "markdown",
      "source": [
        "##**Exercício 03:**"
      ],
      "metadata": {
        "id": "9k-_Dnpo8-wI"
      }
    },
    {
      "cell_type": "code",
      "source": [
        "alfabeto = [\"a\", \"b\", \"c\", \"d\", \"e\", \"f\", \"g\", \"h\", \"i\", \"j\", \"k\"] \n",
        "vogais = [\"a\", \"e\", \"i\", \"o\", \"u\"]\n",
        "semRepetidos = []\n",
        "x = 0\n",
        "y = 0\n",
        "while x<len(vogais):\n",
        "    while y<len(alfabeto):\n",
        "      if alfabeto[y]==vogais[x]:\n",
        "        del alfabeto[y]\n",
        "        break\n",
        "      else: \n",
        "        y+=1\n",
        "    x+=1\n",
        "print(alfabeto)\n",
        "\n"
      ],
      "metadata": {
        "colab": {
          "base_uri": "https://localhost:8080/"
        },
        "id": "LLKRSpWI9DXq",
        "outputId": "f2610156-2940-42fa-c3b7-3523406ea5b3"
      },
      "execution_count": null,
      "outputs": [
        {
          "output_type": "stream",
          "name": "stdout",
          "text": [
            "['b', 'c', 'd', 'f', 'g', 'h', 'j', 'k']\n"
          ]
        }
      ]
    },
    {
      "cell_type": "markdown",
      "source": [
        "##**Exercício 04:**\n",
        "\n",
        "A lista não contém nada, então, não há itens para serem removidos."
      ],
      "metadata": {
        "id": "iH1hWMrBLswJ"
      }
    },
    {
      "cell_type": "markdown",
      "source": [
        "##**Exercício 05:**"
      ],
      "metadata": {
        "id": "Fx9cEUawMdz4"
      }
    },
    {
      "cell_type": "code",
      "source": [
        "fila = []\n",
        "x = 0\n",
        "\n",
        "while x>=len(fila):\n",
        "  print(\"\\nSelecione uma das opções abaixo\\n\\n\\t1. Atendimento\\n\\t2. Senha da fila\\n\\t0. Sair\");\n",
        "  opcao = int(input(\"\\nOpcao escolhida: \"))\n",
        "  if opcao==2:\n",
        "    if len(fila)!=0: \n",
        "      print(\"\\nHá pessoas na fila!\")\n",
        "      fila.append(x)\n",
        "      print(f\"\\nVocê pegou o número {len(fila)} e a pessoa à sua frente o número {len(fila)-1}\")\n",
        "    elif len(fila)==0:\n",
        "      fila.append(x)\n",
        "      print(f\"\\nVocê pegou o número {len(fila)} e, portanto, vai ser atendido(a) em breve.\")\n",
        "    else: \n",
        "       fila.append(x)\n",
        "       print(f\"\\nVocê pegou o número {x+1} e é o próximo a ser atendido(a)!\")\n",
        "  elif opcao==1:\n",
        "      if len(fila)!=0: \n",
        "        del fila[0]\n",
        "        if len(fila)==0: \n",
        "          print(f\"Você vai ser atendido(a)\")\n",
        "        print(f\"\\nVocê é o número {len(fila)}\")       \n",
        "  elif opcao==0:\n",
        "    break\n",
        "  x+=1"
      ],
      "metadata": {
        "id": "Ma_z27e2Rln2"
      },
      "execution_count": null,
      "outputs": []
    },
    {
      "cell_type": "code",
      "source": [],
      "metadata": {
        "id": "gyfcaWcbZTXL"
      },
      "execution_count": null,
      "outputs": []
    }
  ]
}